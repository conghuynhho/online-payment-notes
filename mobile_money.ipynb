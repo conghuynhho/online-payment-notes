{
 "cells": [
  {
   "cell_type": "markdown",
   "metadata": {},
   "source": [
    "<img src=\"https://s3.amazonaws.com/ByC_logo_prod/unit-26963.jpg\" alt=\"Alt text that describes the graphic\" width=\"600\" />"
   ]
  },
  {
   "cell_type": "markdown",
   "metadata": {},
   "source": [
    "# ***Who Is More Likely To Use Mobile Money?***"
   ]
  },
  {
   "cell_type": "markdown",
   "metadata": {},
   "source": [
    "# Table of contents\n",
    "\n",
    "- [Abstract](#Abstract)\n",
    "- [Introduction](#Introduction)\n",
    "- [1. The problem](#1.-The-problem)\n",
    "- [2. Purpose of the study](#2.-Purpose-of-the-study)\n",
    "- [3. Project description](#3.-Project-description)\n",
    "    - [3.1 Hypothesis](#3.1-Hypothesis)\n",
    "    - [3.2 Workflow](#3.2-Workflow)\n",
    "    - [3.3 Methods](#3.3-Methods)\n",
    "    - [3.4Analysis](#3.4-Analysis)\n",
    "    - [3.5 Results](#3.5-Results)\n",
    "- [4. Implementation (optional)](#4.-Implementation-(optional))\n",
    "- [Conclusion](#Conclusion)\n",
    "- [References](#References)"
   ]
  },
  {
   "cell_type": "markdown",
   "metadata": {},
   "source": [
    "##  Abstract \n",
    "\n",
    "With mobile money rapidly expanding from its original role as a payment service to a platform for customers to gain access to a broader array of financial services, the survival prospects for traditional banks, micro-lenders and other traditional financial service providers will greately depend not only on their ability to effectively target the financially excluded, but also to enter into strategic partnerships with telecom operators and identify individuals on the mobile network who are most likely to use financial products and services (i.e. savings, credit, insurance) in addition to mobile money.  In this project, I apply machine learning to induce a model to classify an individual into one of four categories based on mobile money and financial service use.  I test the approach using Support Vector Machines, Logistic Regression and Random Forest classifiers and evaluate their performance on a dataset containing socio-economic and demographic information on approximately 7,100 individuals across Tanzania.  The models identify the key drivers of mobile money and financial service use as frequency and recency of financial transactions, mobile phone ownership, regional location and the level of education achieved.  The best model has an overall accuracy of 68.5%.  These results demonstrate the potential for the use of machine learning to refine customer targeting and cross-selling strategies."
   ]
  },
  {
   "cell_type": "markdown",
   "metadata": {},
   "source": [
    "## Introduction\n",
    "\n",
    "The rapid expansion of digital financial services in Sub Saharan Africa ('SSA') over the past decade has presented enormous challenges and opportunities for banks, micro-lenders, mobile network operators ('MNO's), payment service providers ('PSP's), governments and a host of other stakeholders in the financial ecosystem.  \n",
    "\n",
    "With unique mobile susbcriptions and mobile internet use in SSA projected to reach penetration rates of 50% and 39% respectively by 2025 (up from 44% and 23% in 2018)<sup>1</sup> and with the number of mobile money accounts surpassing formal bank accounts in 2019<sup>2</sup> further disruption in the financial landscape is inveitable.\n",
    "\n",
    "The business case for increased digitial finance is well documented: for MNOs, digital financial product offerings increase customer satisfaction and reduce churn; for banks, routing transactions through digital channels reduces cost-to-income ratios and a broader customer footprint boosts low-cost deposit mobilization<sup>3</sup>; for governments, mobile money is being increasingly deployed for social policy priorities such as government-to-person ('G2P') transfers.\n",
    "\n",
    "As mobile money expands from its traditonal role as a payment service to a gateway for millions to gain access to a broader array of financial services such as savings, insurance, credit and investment products<sup>4</sup> the survival prospects for banks, insurance companies, mico-lenders and other traditional financial service providers will greately depend not only on their ability to target the 'unbanked', but also to partner with telecom operators and identify individuals on the mobile network who are most likely to use financial products and services in addition to mobile money.\n",
    "\n",
    "The goal of this project was to explore the application of machine learning to the problem of predicting the level of financial inclusion of an individual based on a set of socio-economic, demographic and other attributes. Tackling this problem involved a number of steps.\n",
    "\n",
    "The first step was to frame the underlying decision problem as a classification problem where the target to be predicted was the level of financial inclusion of an individual. I then formulated an overall business hypotheses to test: *'Do demographic and socio-economic drivers exist that make it more (or less) likely that an individual will use mobile money and other financial services?'*. \n",
    "\n",
    "The next step involved obtaining a dataset with which to test the hypothesis empirically.  A dataset containing socio-economic and demographic information and the types of financial services used by approximately 7,100 individuals across Tanzania and a geospatial mapping of all financial access points was made available for use by Zindi, an African datascience competition platform based in South Africa.  To add spatial context, the capabilities of Esri’s ArcGIS Technology and The Africa GeoPortal were used.\n",
    "\n",
    "Exploratory data analysis ('EDA') was performed iteratively to collect, plot, filter, cleanse, and combine variables in the dataset to compare differences and examine relationships between the input features themselves and between the input features and the target variable and to test a series of hypotheses about the functional form of the mapping function between the socio-economic and demographic attributes of an individual and their level of financial inclusion. Statistical measures such as t-tests and correlations were used to test alternate theories about these relationships. The next step involved defining accuracy score, precision, recall and other measures as metrics to be used to either accept or reject our overall hypothesis.  \n",
    "\n",
    "Once the data was cleaned, candidate classification algorithms were selected based on the size, dimensionality and other attributes of the data and then trained.  The performance of each of the models was then assessed using a k-fold cross validation strategy.  Next, several techniques including recursive feature eliminiation were used to infer the key drivers of the level of financial inclusion of an individual.  The final step was to report on the relative performance of the models and systematic weaknesses and outline next steps. Here is a flow chart that describes the process:\n",
    "\n",
    "![alt text](Project_Flow.jpg \"Project Flow\")"
   ]
  },
  {
   "cell_type": "markdown",
   "metadata": {},
   "source": [
    "## 1. The problem\n",
    "\n",
    "As mobile money evolves from a payment service to a gateway for customers to gain access to a broader array of financial services, the survival prospects for MNOs in Tanzania and the financial services providers (banks, insurance companies) that have entered into **strategic partnerships** with them will greatly depend on their ability to cross-sell financial products and services (savings, credit, insurance) to existing mobile network subscribers efficiently.\n",
    "\n",
    "The goal is to determine whether machine learning can be used to tackle the problem of accurately classifying individuals on a mobile network based on the likelihood that they will use mobile money and financial services.  If it can be shown that the models induced using machine learning are effective, financial services providers and MNOs can use the model's predictions to more accurate decisions on which individuals on the mobile network to target for **upselling**, **cross-selling** and other **marketing strategies**.\n",
    "\n",
    "In this project, the problem involves using machine learning to induce models to classify individuals into one of four mutually exclusive categories based on socio-economic and demographic features associated with each individual, a geospatial mapping of financial access points and other spatial and demographic information.  \n",
    "\n",
    "This is an example of **supervised learning** which relates to systems where you have a vector of input variables $x$ and an output variable $Y$, and you use an algorithm to estimate the true a mapping function $f(x)$ from the input variables to the output.  In cases such as this where the outcome variable $Y$ is categorical the prediction problem is a problem of **classification**.  Where $Y$ takes on more than two values the prediction task is termed **multi-class classification**.\n",
    "\n",
    "I test my hypotheses on a dataset that contains socio-economic and demographic information and the types of financial services that are used by approximately 7,000 individuals across Tanzania. The data was extracted from the Financial Sector Deepening Tanzania ('FSDT') Finscope 2017 survey and was prepared for the Mobile Money and Financial Inclusion in Tanzania Challenge in 2019. Permission to use the dataset was provided by Zindi, an African datascience competition platform based in South Africa. \n",
    "\n",
    "The types of financial services used by individuals in the dataset were grouped into four mutually exclusive categories:\n",
    "\n",
    "1. **No_financial_services:** Individuals who do not use mobile money, do not save, do not have credit, and do not have insurance  \n",
    "\n",
    "2. **Other_only:** Individuals who do not use mobile money, but do use at least one of the other financial services (savings, credit, insurance)  \n",
    "\n",
    "3. **Mm_only:** Individuals who use mobile money only  \n",
    "\n",
    "4. **Mm_plus:** Individuals who use mobile money and also use at least one of the other financial services (savings, credit, insurance)\n",
    "\n",
    "Socio-economic and demographic information on each individual is described in 32 distinct categorical feature variables.  \n",
    "\n",
    "A geospatial mapping of all financial access points in Tanzania in 2012 ('FinAccess Map') will be used to enrich the individual survey data.  Financial access points include commercial banks, community banks, ATMs, microfinance institutions, mobile money agents, bus stations and post offices. This data was collected by FSDT and was also made available by Zindi.  In order to add spatial context, the capabilities of Esri’s ArcGIS Technology and The Africa GeoPortal will also be used.\n",
    "\n",
    "More formally, the problem can be stated as follows, if $Y$ takes on a total of 4 distinct values as in this case, the expectation of $Y$ given the vector of input variables $x$ is the posterior probability that $Y$ lies in any one of the four categories given the value of $x$.  So the problem is to induce a model that assigns an individual to a particular category **if** the model's estimate of the posterior probability of membership in that category **exceeds** the estimated posterior probabilities of membership in each of the other 3 categories.\n",
    "\n",
    "\n",
    "[Back to top](#Table-of-contents)"
   ]
  },
  {
   "cell_type": "markdown",
   "metadata": {},
   "source": [
    "## 2. Purpose of the study\n",
    "\n",
    "My firm provides supply chain finance solutions to MNOs and their network installation and maintenance partners in Kenya, Tanzania and Malawi, so I have a keen interest in the growth of mobile technology, including fintech, in Africa.  Recently, MNOs in the region have begun to prioritize seeking ways to unlock value from their vast troves of subscriber data.  A few have developed algorithmic digital lending products that have been phenomenally successful, such as Safaricom's M-Shwari and Fuliza products. This project is exciting because it is relevant to my part of the world and it will be a great way for me to acquire the skills I will need to be able to add advanced data analytics to my company's product suite.\n",
    "\n",
    "\n",
    "[Back to top](#Table-of-contents)"
   ]
  },
  {
   "cell_type": "markdown",
   "metadata": {},
   "source": [
    "## 3. Project description\n",
    "\n",
    "Only 16.7% of the population in Tanzanian has or uses formal banking services.  An additional 55% do not have a bank account use other formal financial services, including mobile money.  The remaining 28% of the population is financially excluded.  63% of adult Tanzanians own a mobile phone<sup>5</sup>  A key business challenge for MNOs and other financial service providers in Tanzania is to find effective ways to grow and retain markets within this set of parameters. In this project we will explore the use of machine learning to predict which individuals are most likely to use mobile money and other financial services (savings, credit, and insurance) in Tanzania.  The results will help MNOs and financial service providers make better business decisions on which individuals to target for **upselling**, **cross-selling**, **churn reduction** and other **marketing strategies**.\n",
    "\n",
    "[Back to top](#Table-of-contents)"
   ]
  },
  {
   "cell_type": "markdown",
   "metadata": {},
   "source": [
    "### 3.1 Hypothesis\n",
    "\n",
    "\n",
    "A key goal of the project is to establish whether or not demographic and socio-economic drivers exist that make it more or less likely that an individual will use mobile money and other financial services.  \n",
    "\n",
    "A related question with important business implications is whether it is possible to use those characteristics to induce a model that can accurately predict the likelihood that an individual will use mobile money and other financial services.\n",
    "\n",
    "If the above hypotheses are true, then it is possible for financial services providers to use predictions obtained from the induced model for consumer targeting.\n",
    "\n",
    "In the predictive modeling context, the likelihood that an individual will use financial services in addition to mobile money can be represented as a response variable $Y$ and certain demographic and socio-economic characteristics associated with that individual, such as income, mobile phone ownership and level of formal education can be represented in terms of explanatory variables or features $x_1$, $x_2$ and $x_3$. The functional relationship between the response and the features can then be expressed as:\n",
    "\n",
    "$Y$ = $\\beta_0$ + $\\beta_0$$x_1$ + $\\beta_0$$x_2$ + $\\beta_0$$x_3$ + $e$\n",
    "\n",
    "where the $\\beta_i$ is slope parameter in the functional relationship between the expectation of $Y$ and $x_i$ and $e$ is an error term that can be thought of as factors other than income level, mobile phone ownership and education that affect the likelihood of mobile money and financial services use.\n",
    "\n",
    "A null hypothesis that income level, mobile phone ownership and level of formal education have **no effect** on the expected likelihood of the response can be formally stated as follows:\n",
    "\n",
    "$H_0:$   $\\beta_1$ = $\\beta_2$ = $\\beta_3$ = 0\n",
    "\n",
    "The null hypothesis is either accepted or rejected empirically.\n",
    "\n",
    "[Back to top](#Table-of-contents)"
   ]
  },
  {
   "cell_type": "markdown",
   "metadata": {},
   "source": [
    "### 3.2 Workflow\n",
    "\n",
    "- **Define the problem** \n",
    "\n",
    "As mobile money evolves from a payment service to a gateway for millions to gain access to a broader array of financial services, the survival prospects for traditional financial services providers (banks, insurance companies) in Tanzania will greatly depend on their ability to form **strategic partnerships** MNOs and to cross-sell their financial products and services (savings, credit, insurance) to existing mobile network subscribers efficiently.\n",
    "\n",
    "The goal is to determine whether machine learning can be used to tackle the problem of accurately classifying individuals on a mobile network based on the likelihood that they will use mobile money and financial services.  If it can be shown that the models induced using machine learning are effective, financial services providers and MNOs can use the model's predictions to make more accurate decisions on which individuals on the mobile network to target for **upselling**, **cross-selling** and other **marketing strategies**.\n",
    "\n",
    "In this project, the aim is to use machine learning to induce models to classify individuals into one of four mutually exclusive categories based on socio-economic and demographic features associated with each individual, a geospatial mapping of financial access points and other spatial and demographic information.  \n",
    "\n",
    "This is an example of **supervised learning** which relates to systems where you have a vector of input variables $x$ and an output variable $Y$, and you use an algorithm to induce a mapping function from the input variables to the output.  In cases such as this where the outcome variable $Y$ is categorical the prediction problem is a problem of **classification**.  Where $Y$ takes on more than two values the prediction task is termed **multi-class classification**.\n",
    "\n",
    "My hypotheses will be tested on a dataset that contains socio-economic and demographic information and the types of financial services that are used by approximately 7,100 individuals across Tanzania. The data was extracted from the Financial Sector Deepening Tanzania ('FSDT') Finscope 2017 survey and was prepared for the Mobile Money and Financial Inclusion in Tanzania Challenge in 2019. Permission to use the dataset was provided by Zindi, an African datascience competition platform based in South Africa.\n",
    "\n",
    "The types of financial services used by individuals in the dataset were grouped into four mutually exclusive categories:\n",
    "\n",
    "1. **No_financial_services:** Individuals who do not use mobile money, do not save, do not have credit, and do not have insurance\n",
    "2. **Other_only:** Individuals who do not use mobile money, but do use at least one of the other financial services (savings, credit, insurance)\n",
    "3. **Mm_only:** Individuals who use mobile money only\n",
    "4. **Mm_plus:** Individuals who use mobile money and also use at least one of the other financial services (savings, credit, insurance)\n",
    "\n",
    "Socio-economic and demographic information on each individual is described in 32 distinct categorical feature variables.  \n",
    "\n",
    "A geospatial mapping of all financial access points in Tanzania in 2012 ('FinAccess Map') will be used enrich the individual survey data.  Financial access points include commercial banks, community banks, ATMs, microfinance institutions, mobile money agents, bus stations and post offices. This data was collected by FSDT and was also made available by Zindi.  In order to add spatial context, the capabilities of Esri’s ArcGIS Technology and The Africa GeoPortal will also be used.\n",
    "\n",
    "More formally, if $Y$ takes on a total of 4 distinct values as in this case, the expectation of $Y$ given the vector of input variables $x$ is the posterior probability that $Y$ lies in any one of the four categories given the value of $x$.  So the problem is to use machine learning algorithm to induce a model that assigns an individual to a particular category if the model's estimate of the posterior probability of membership in that category exceeds the estimated posterior probabilities of membership in each of the other 3 categories.\n",
    "\n",
    "- **Map the system** \n",
    "\n",
    "As stated above, the likelihood that an individual will use mobile money and other financial services can be represented as a response variable $Y$ and the demographic and socio-economic characteristics associated with that individual, information from the FinAccess Map and contextual demographic layers of Africa Geoportal can be represented in terms of explanatory variables or features $x_1$, $x_2$ , ... , $x_k$ so that the **true relationship** between the response and the feature vector $x$ can be expressed as:\n",
    "\n",
    "$Y$ = $f(x)$ + $e$\n",
    "\n",
    "where the $\\beta$ is a slope vector in the functional relationship between the expectation of $Y$ and feature vector $x$ and $e$ is an error term that can be thought of as factors other than those represented by the feature vector $x$ that affect the likelihood of mobile money and financial services use.\n",
    "\n",
    "In **section 3.4** below I will use exploratory data analysis (**'EDA'**) to collect, plot, filter, cleanse, and combine variables in our survey dataset, the FinAccess Map and the Africa Geoportal to compare differences and examine relationships between the features themselves and between the features and the output variable to enable me to **hypothesize the functional form** of the **true function** $f(x)$.  Statistical measures such as t-tests and correlations will be used to **test alternate theories** about these relationships. This will be an **iterative** process.\n",
    "\n",
    "- **Define suitable metrics**\n",
    "\n",
    "In **section 3.5** below I will select suitable metrics that are appropriate for **multi-class classification** problems and have been used for similar tasks.  These metrics will include **accuracy score**, **confusion matrices** (precision, recall, class prediction error) and the **ZeroR** benchmark.  I will fine tune the selection of performance measures depending on whether the distribution of outcome labels is **balanced** or **imbalanced**. Where appropriate, I will formulate tests such as **confidence intervals** and **two-sample t-tests** for significance of the comparative performance of the models.\n",
    "\n",
    "- **Select modeling tools** \n",
    "\n",
    "The appropriateness of different models based on the task at hand, **multi-class classification**, taking into account other parameters such as size, shape and other characteristics of the data, training speed and deployment speed.\n",
    "\n",
    "- **Implement model**  \n",
    "\n",
    "Once the training data is cleaned the necessary libraries will be imported to build the models.\n",
    "\n",
    "- **Evaluate model** \n",
    "\n",
    "To ensure that any results obtained do not depend on any given random choice affecting the pair of our training and validation set I will run a **K-fold cross-validation** for each one of the models implemented above to evaluate comparative performance.  Appropriate metrics will be used to evaluate model performance, namely **accuracy score**, **confusion matrices** (precision, recall, class prediction error) and the **zero rule**.  I will fine tune the selection of metrics depending on whether the distribution of outcome labels is **balanced** or **imbalanced** and run tests for the statistical significance of the comparative performance of the models.  Hyperparameter tuning on the winning model(s) will be left for future work.\n",
    "\n",
    "[Back to top](#Table-of-contents)"
   ]
  },
  {
   "cell_type": "markdown",
   "metadata": {},
   "source": [
    "### 3.3 Methods\n",
    "\n",
    "There are a large number of machine learning algorithms that can be applied to multi-class classification problems, including neural networks, genetic algorithms and decision trees.  \n",
    " \n",
    "Our training data contains 7,000 samples.  **Support Vector Machines**, **Decision Tree Classifiers**, **Random Forest Classifiers**, **k-Nearest-Neigbours**, **Gaussian Naive Bayes** and **Logistic Regression** are all widely used for problems with similar parameters.  Support Vector Machines have the advantage that they can handle large numbers of features.\n",
    " \n",
    "All of these classifiers are supported by Scikit-learn's libraries as **'inherently multi-class'**.  We will explore their relative performance in predicting financial service use.\n",
    "\n",
    "[Back to top](#Table-of-contents)"
   ]
  },
  {
   "cell_type": "markdown",
   "metadata": {},
   "source": [
    "### 3.4 Analysis \n",
    "\n",
    "[Back to top](#Table-of-contents)"
   ]
  },
  {
   "cell_type": "markdown",
   "metadata": {},
   "source": [
    "Import the necessary libraries."
   ]
  },
  {
   "cell_type": "code",
   "execution_count": 1,
   "metadata": {},
   "outputs": [],
   "source": [
    "import warnings\n",
    "warnings.filterwarnings('ignore')\n",
    "import numpy as np\n",
    "import pandas as pd\n",
    "import seaborn as sns; sns.set()\n",
    "from matplotlib import pyplot as plt"
   ]
  },
  {
   "cell_type": "markdown",
   "metadata": {},
   "source": [
    "Read the data"
   ]
  },
  {
   "cell_type": "code",
   "execution_count": 2,
   "metadata": {},
   "outputs": [],
   "source": [
    "df = pd.read_csv('mobilemoney/training.csv')\n",
    "df_bank = pd.read_csv('mobilemoney/banks_for_upload_win.csv')\n",
    "df_atm = pd.read_csv('mobilemoney/atm_for_upload_win.csv')\n",
    "df_sacco = pd.read_csv('mobilemoney/sacco_for_upload_win.csv')\n",
    "df_tppp = pd.read_csv('mobilemoney/3rd_ppp_for_upload_win.csv',engine='python')\n",
    "df_pos = pd.read_csv('mobilemoney/pos_for_upload_win.csv')\n",
    "df_mma = pd.read_csv('mobilemoney/mobilemoney_agents_for_upload_win.csv',engine='python')\n",
    "df_bus = pd.read_csv('mobilemoney/bus_stands_for_upload_win.csv')\n",
    "df_mfi = pd.read_csv('mobilemoney/microfinance_for_upload_win.csv')\n",
    "df_post = pd.read_csv('mobilemoney/post_office_for_upload_win.csv')\n",
    "df_region = pd.read_csv('mobilemoney/df_region.csv')\n",
    "df_district = pd.read_csv('mobilemoney/df_district.csv')"
   ]
  },
  {
   "cell_type": "markdown",
   "metadata": {},
   "source": [
    "Rename the columns for easier analysis"
   ]
  },
  {
   "cell_type": "code",
   "execution_count": 3,
   "metadata": {},
   "outputs": [],
   "source": [
    "df = df.rename(columns=\n",
    "{\n",
    "\"Q1\": \"Age\", \n",
    "\"Q2\": \"Gender\", \n",
    "\"Q3\": \"Marital_Status\", \n",
    "\"Q4\": \"Educ\", \n",
    "\"Q5\": \"Rent_Own\", \n",
    "\"Q6\": \"Own_Other_Property\",\n",
    "\"Q7\": \"Own_Mobile_Phone\", \n",
    "\"Q8_1\": \"Salaried_Worker\", \n",
    "\"Q8_2\": \"Trader\", \n",
    "\"Q8_3\": \"Service_Provider\",\n",
    "\"Q8_4\": \"Casual_Worker\", \n",
    "\"Q8_5\": \"Earn_Rent\",\n",
    "\"Q8_6\": \"Earn_Interest_Income\", \n",
    "\"Q8_7\": \"Earn_Pension\", \n",
    "\"Q8_8\": \"On_Welfare\", \n",
    "\"Q8_9\": \"Rely_On_Others\", \n",
    "\"Q8_10\": \"Expenses_Paid\", \n",
    "\"Q8_11\": \"Other\", \n",
    "\"Q9\": \"Employer_Type\", \n",
    "\"Q10\": \"Goods_Sold\", \n",
    "\"Q11\": \"Services_Provided\", \n",
    "\"Q12\": \"Sent_Money_12Mo\", \n",
    "\"Q13\": \"Last_Sent\", \n",
    "\"Q14\": \"Received_Money_12Mo\", \n",
    "\"Q15\": \"Last_Received\", \n",
    "\"Q16\": \"Goods_Purchase_Freq\", \n",
    "\"Q17\": \"Bills_Pay_Freq\", \n",
    "\"Q18\": \"Kiswahili\", \n",
    "\"Q19\": \"English\",\n",
    "\"mobile_money_classification\": \"Service_Type\"\n",
    "})"
   ]
  },
  {
   "cell_type": "markdown",
   "metadata": {},
   "source": [
    "Inspect the data"
   ]
  },
  {
   "cell_type": "code",
   "execution_count": 4,
   "metadata": {},
   "outputs": [
    {
     "data": {
      "text/html": [
       "<div>\n",
       "<style scoped>\n",
       "    .dataframe tbody tr th:only-of-type {\n",
       "        vertical-align: middle;\n",
       "    }\n",
       "\n",
       "    .dataframe tbody tr th {\n",
       "        vertical-align: top;\n",
       "    }\n",
       "\n",
       "    .dataframe thead th {\n",
       "        text-align: right;\n",
       "    }\n",
       "</style>\n",
       "<table border=\"1\" class=\"dataframe\">\n",
       "  <thead>\n",
       "    <tr style=\"text-align: right;\">\n",
       "      <th></th>\n",
       "      <th>ID</th>\n",
       "      <th>Age</th>\n",
       "      <th>Gender</th>\n",
       "      <th>Marital_Status</th>\n",
       "      <th>Educ</th>\n",
       "      <th>Rent_Own</th>\n",
       "      <th>Own_Other_Property</th>\n",
       "      <th>Own_Mobile_Phone</th>\n",
       "      <th>Salaried_Worker</th>\n",
       "      <th>Trader</th>\n",
       "      <th>...</th>\n",
       "      <th>Bills_Pay_Freq</th>\n",
       "      <th>Kiswahili</th>\n",
       "      <th>English</th>\n",
       "      <th>Latitude</th>\n",
       "      <th>Longitude</th>\n",
       "      <th>mobile_money</th>\n",
       "      <th>savings</th>\n",
       "      <th>borrowing</th>\n",
       "      <th>insurance</th>\n",
       "      <th>Service_Type</th>\n",
       "    </tr>\n",
       "  </thead>\n",
       "  <tbody>\n",
       "    <tr>\n",
       "      <td>0</td>\n",
       "      <td>5086</td>\n",
       "      <td>98</td>\n",
       "      <td>2</td>\n",
       "      <td>3</td>\n",
       "      <td>1</td>\n",
       "      <td>1</td>\n",
       "      <td>2</td>\n",
       "      <td>2</td>\n",
       "      <td>0</td>\n",
       "      <td>0</td>\n",
       "      <td>...</td>\n",
       "      <td>-1</td>\n",
       "      <td>4</td>\n",
       "      <td>4</td>\n",
       "      <td>-4.460442</td>\n",
       "      <td>29.811396</td>\n",
       "      <td>0</td>\n",
       "      <td>0</td>\n",
       "      <td>0</td>\n",
       "      <td>0</td>\n",
       "      <td>0</td>\n",
       "    </tr>\n",
       "    <tr>\n",
       "      <td>1</td>\n",
       "      <td>1258</td>\n",
       "      <td>40</td>\n",
       "      <td>1</td>\n",
       "      <td>1</td>\n",
       "      <td>3</td>\n",
       "      <td>5</td>\n",
       "      <td>1</td>\n",
       "      <td>1</td>\n",
       "      <td>1</td>\n",
       "      <td>0</td>\n",
       "      <td>...</td>\n",
       "      <td>4</td>\n",
       "      <td>1</td>\n",
       "      <td>4</td>\n",
       "      <td>-6.176438</td>\n",
       "      <td>39.244871</td>\n",
       "      <td>1</td>\n",
       "      <td>1</td>\n",
       "      <td>1</td>\n",
       "      <td>0</td>\n",
       "      <td>3</td>\n",
       "    </tr>\n",
       "    <tr>\n",
       "      <td>2</td>\n",
       "      <td>331</td>\n",
       "      <td>18</td>\n",
       "      <td>2</td>\n",
       "      <td>4</td>\n",
       "      <td>6</td>\n",
       "      <td>3</td>\n",
       "      <td>2</td>\n",
       "      <td>1</td>\n",
       "      <td>0</td>\n",
       "      <td>0</td>\n",
       "      <td>...</td>\n",
       "      <td>-1</td>\n",
       "      <td>1</td>\n",
       "      <td>1</td>\n",
       "      <td>-6.825702</td>\n",
       "      <td>37.652798</td>\n",
       "      <td>1</td>\n",
       "      <td>0</td>\n",
       "      <td>0</td>\n",
       "      <td>0</td>\n",
       "      <td>2</td>\n",
       "    </tr>\n",
       "    <tr>\n",
       "      <td>3</td>\n",
       "      <td>6729</td>\n",
       "      <td>50</td>\n",
       "      <td>1</td>\n",
       "      <td>1</td>\n",
       "      <td>3</td>\n",
       "      <td>1</td>\n",
       "      <td>1</td>\n",
       "      <td>1</td>\n",
       "      <td>0</td>\n",
       "      <td>0</td>\n",
       "      <td>...</td>\n",
       "      <td>-1</td>\n",
       "      <td>1</td>\n",
       "      <td>4</td>\n",
       "      <td>-3.372049</td>\n",
       "      <td>35.808307</td>\n",
       "      <td>1</td>\n",
       "      <td>0</td>\n",
       "      <td>1</td>\n",
       "      <td>0</td>\n",
       "      <td>3</td>\n",
       "    </tr>\n",
       "    <tr>\n",
       "      <td>4</td>\n",
       "      <td>8671</td>\n",
       "      <td>34</td>\n",
       "      <td>1</td>\n",
       "      <td>1</td>\n",
       "      <td>1</td>\n",
       "      <td>1</td>\n",
       "      <td>2</td>\n",
       "      <td>1</td>\n",
       "      <td>0</td>\n",
       "      <td>1</td>\n",
       "      <td>...</td>\n",
       "      <td>-1</td>\n",
       "      <td>1</td>\n",
       "      <td>4</td>\n",
       "      <td>-7.179645</td>\n",
       "      <td>31.039095</td>\n",
       "      <td>1</td>\n",
       "      <td>1</td>\n",
       "      <td>0</td>\n",
       "      <td>1</td>\n",
       "      <td>3</td>\n",
       "    </tr>\n",
       "  </tbody>\n",
       "</table>\n",
       "<p>5 rows × 37 columns</p>\n",
       "</div>"
      ],
      "text/plain": [
       "     ID  Age  Gender  Marital_Status  Educ  Rent_Own  Own_Other_Property  \\\n",
       "0  5086   98       2               3     1         1                   2   \n",
       "1  1258   40       1               1     3         5                   1   \n",
       "2   331   18       2               4     6         3                   2   \n",
       "3  6729   50       1               1     3         1                   1   \n",
       "4  8671   34       1               1     1         1                   2   \n",
       "\n",
       "   Own_Mobile_Phone  Salaried_Worker  Trader  ...  Bills_Pay_Freq  Kiswahili  \\\n",
       "0                 2                0       0  ...              -1          4   \n",
       "1                 1                1       0  ...               4          1   \n",
       "2                 1                0       0  ...              -1          1   \n",
       "3                 1                0       0  ...              -1          1   \n",
       "4                 1                0       1  ...              -1          1   \n",
       "\n",
       "   English  Latitude  Longitude  mobile_money  savings  borrowing  insurance  \\\n",
       "0        4 -4.460442  29.811396             0        0          0          0   \n",
       "1        4 -6.176438  39.244871             1        1          1          0   \n",
       "2        1 -6.825702  37.652798             1        0          0          0   \n",
       "3        4 -3.372049  35.808307             1        0          1          0   \n",
       "4        4 -7.179645  31.039095             1        1          0          1   \n",
       "\n",
       "   Service_Type  \n",
       "0             0  \n",
       "1             3  \n",
       "2             2  \n",
       "3             3  \n",
       "4             3  \n",
       "\n",
       "[5 rows x 37 columns]"
      ]
     },
     "execution_count": 4,
     "metadata": {},
     "output_type": "execute_result"
    }
   ],
   "source": [
    "df.head()"
   ]
  },
  {
   "cell_type": "code",
   "execution_count": 5,
   "metadata": {},
   "outputs": [
    {
     "name": "stdout",
     "output_type": "stream",
     "text": [
      "<class 'pandas.core.frame.DataFrame'>\n",
      "RangeIndex: 7094 entries, 0 to 7093\n",
      "Data columns (total 37 columns):\n",
      "ID                      7094 non-null int64\n",
      "Age                     7094 non-null int64\n",
      "Gender                  7094 non-null int64\n",
      "Marital_Status          7094 non-null int64\n",
      "Educ                    7094 non-null int64\n",
      "Rent_Own                7094 non-null int64\n",
      "Own_Other_Property      7094 non-null int64\n",
      "Own_Mobile_Phone        7094 non-null int64\n",
      "Salaried_Worker         7094 non-null int64\n",
      "Trader                  7094 non-null int64\n",
      "Service_Provider        7094 non-null int64\n",
      "Casual_Worker           7094 non-null int64\n",
      "Earn_Rent               7094 non-null int64\n",
      "Earn_Interest_Income    7094 non-null int64\n",
      "Earn_Pension            7094 non-null int64\n",
      "On_Welfare              7094 non-null int64\n",
      "Rely_On_Others          7094 non-null int64\n",
      "Expenses_Paid           7094 non-null int64\n",
      "Other                   7094 non-null int64\n",
      "Employer_Type           7094 non-null int64\n",
      "Goods_Sold              7094 non-null int64\n",
      "Services_Provided       7094 non-null int64\n",
      "Sent_Money_12Mo         7094 non-null int64\n",
      "Last_Sent               7094 non-null int64\n",
      "Received_Money_12Mo     7094 non-null int64\n",
      "Last_Received           7094 non-null int64\n",
      "Goods_Purchase_Freq     7094 non-null int64\n",
      "Bills_Pay_Freq          7094 non-null int64\n",
      "Kiswahili               7094 non-null int64\n",
      "English                 7094 non-null int64\n",
      "Latitude                7094 non-null float64\n",
      "Longitude               7094 non-null float64\n",
      "mobile_money            7094 non-null int64\n",
      "savings                 7094 non-null int64\n",
      "borrowing               7094 non-null int64\n",
      "insurance               7094 non-null int64\n",
      "Service_Type            7094 non-null int64\n",
      "dtypes: float64(2), int64(35)\n",
      "memory usage: 2.0 MB\n"
     ]
    }
   ],
   "source": [
    "df.info()"
   ]
  },
  {
   "cell_type": "code",
   "execution_count": 6,
   "metadata": {},
   "outputs": [
    {
     "data": {
      "text/plain": [
       "(7094, 37)"
      ]
     },
     "execution_count": 6,
     "metadata": {},
     "output_type": "execute_result"
    }
   ],
   "source": [
    "df.shape"
   ]
  },
  {
   "cell_type": "markdown",
   "metadata": {},
   "source": [
    "Check for null entries in the dataset."
   ]
  },
  {
   "cell_type": "code",
   "execution_count": 7,
   "metadata": {},
   "outputs": [
    {
     "data": {
      "text/plain": [
       "0"
      ]
     },
     "execution_count": 7,
     "metadata": {},
     "output_type": "execute_result"
    }
   ],
   "source": [
    "df.isnull().sum().sum()"
   ]
  },
  {
   "cell_type": "markdown",
   "metadata": {},
   "source": [
    "Verify which features are categorical and continuous"
   ]
  },
  {
   "cell_type": "code",
   "execution_count": 8,
   "metadata": {},
   "outputs": [
    {
     "data": {
      "text/plain": [
       "ID                   7094\n",
       "Latitude             7056\n",
       "Longitude            7055\n",
       "Age                    85\n",
       "Goods_Sold             11\n",
       "Services_Provided      11\n",
       "Educ                    8\n",
       "Last_Received           7\n",
       "Last_Sent               7\n",
       "Employer_Type           7\n",
       "dtype: int64"
      ]
     },
     "execution_count": 8,
     "metadata": {},
     "output_type": "execute_result"
    }
   ],
   "source": [
    "df.nunique().sort_values(ascending=False).head(10)"
   ]
  },
  {
   "cell_type": "markdown",
   "metadata": {},
   "source": [
    "**Clean the Data**"
   ]
  },
  {
   "cell_type": "markdown",
   "metadata": {},
   "source": [
    "Drop features where a single category value contains more than 95% of training examples.  Exclude the target from the filter."
   ]
  },
  {
   "cell_type": "code",
   "execution_count": 9,
   "metadata": {},
   "outputs": [],
   "source": [
    "# Exclude the target 'Service_Type' from the filter\n",
    "for col in df.columns.difference(['Service_Type']): \n",
    "    if df[col].value_counts(normalize=True).max(axis='rows') > 0.95:\n",
    "        df.drop(columns=col,inplace=True)"
   ]
  },
  {
   "cell_type": "code",
   "execution_count": 10,
   "metadata": {},
   "outputs": [
    {
     "data": {
      "text/plain": [
       "(7094, 32)"
      ]
     },
     "execution_count": 10,
     "metadata": {},
     "output_type": "execute_result"
    }
   ],
   "source": [
    "df.shape"
   ]
  },
  {
   "cell_type": "code",
   "execution_count": 11,
   "metadata": {},
   "outputs": [
    {
     "data": {
      "text/plain": [
       " 1     3300\n",
       "-1     2712\n",
       " 6      329\n",
       " 3      223\n",
       " 5      169\n",
       " 7      117\n",
       " 4       88\n",
       " 2       58\n",
       " 8       51\n",
       " 9       26\n",
       " 10      21\n",
       "Name: Goods_Sold, dtype: int64"
      ]
     },
     "execution_count": 11,
     "metadata": {},
     "output_type": "execute_result"
    }
   ],
   "source": [
    "df['Goods_Sold'].value_counts()"
   ]
  },
  {
   "cell_type": "markdown",
   "metadata": {},
   "source": [
    "For each categorical column, combine all category levels with fewer than **100** training examples into new levels. Exclude the target from the filter."
   ]
  },
  {
   "cell_type": "code",
   "execution_count": 12,
   "metadata": {},
   "outputs": [],
   "source": [
    "# New arbitrary category level\n",
    "new_level = 'other'\n",
    "\n",
    "# Min number of examples per category level\n",
    "floor = 100\n",
    "\n",
    "# Extract categorical input features. Exclude the target 'Service_Type'\n",
    "categorical = [col for col in df.columns.difference(['ID','Latitude','Longitude','Age','Service_Type'])]\n",
    "\n",
    "for col in df[categorical].columns:\n",
    "        all_levels = df[col].value_counts().index\n",
    "        sparse_levels = df[col].value_counts()[df[col].value_counts() < floor].index\n",
    "        combine_levels = {x: new_level if x in sparse_levels else x for x in all_levels} \n",
    "        df[col] = df[col].map(combine_levels)"
   ]
  },
  {
   "cell_type": "code",
   "execution_count": 13,
   "metadata": {},
   "outputs": [
    {
     "data": {
      "text/plain": [
       "1        3300\n",
       "-1       2712\n",
       "6         329\n",
       "other     244\n",
       "3         223\n",
       "5         169\n",
       "7         117\n",
       "Name: Goods_Sold, dtype: int64"
      ]
     },
     "execution_count": 13,
     "metadata": {},
     "output_type": "execute_result"
    }
   ],
   "source": [
    "df['Goods_Sold'].value_counts()"
   ]
  },
  {
   "cell_type": "markdown",
   "metadata": {},
   "source": [
    "**Visualize the data**"
   ]
  },
  {
   "cell_type": "markdown",
   "metadata": {},
   "source": [
    "Plot the target distribution"
   ]
  },
  {
   "cell_type": "code",
   "execution_count": 14,
   "metadata": {},
   "outputs": [
    {
     "data": {
      "text/plain": [
       "Text(0, 0.5, 'Count')"
      ]
     },
     "execution_count": 14,
     "metadata": {},
     "output_type": "execute_result"
    },
    {
     "data": {
      "image/png": "[encoded data removed]",
      "text/plain": [
       "<Figure size 720x432 with 1 Axes>"
      ]
     },
     "metadata": {
      "needs_background": "light"
     },
     "output_type": "display_data"
    }
   ],
   "source": [
    "fig = plt.gcf()\n",
    "fig.set_size_inches(10, 6)\n",
    "ax = sns.countplot(x=\"Service_Type\", data=df)\n",
    "ax.set_xticklabels(['0: No_financial_services','1: Other_only','2: Mm_only','3: Mm_plus'], fontsize=14)\n",
    "ax.set_xlabel(\"\")\n",
    "ax.set_ylabel(\"Count\")"
   ]
  },
  {
   "cell_type": "markdown",
   "metadata": {},
   "source": [
    "‘Mm_plus’ takes up 44% of the observations while 'Mm_only' accounts for 11% so there is **class imbalance**. "
   ]
  },
  {
   "cell_type": "markdown",
   "metadata": {},
   "source": [
    "Plot a histogram of the type of financial service used grouped by 'Own_Mobile_Phone'"
   ]
  },
  {
   "cell_type": "code",
   "execution_count": 15,
   "metadata": {},
   "outputs": [
    {
     "data": {
      "image/png": "[encoded data removed]",
      "text/plain": [
       "<Figure size 720x432 with 1 Axes>"
      ]
     },
     "metadata": {
      "needs_background": "light"
     },
     "output_type": "display_data"
    }
   ],
   "source": [
    "own = df['Service_Type'].loc[df['Own_Mobile_Phone'] == 1].value_counts().sort_index()\n",
    "do_not_own = df['Service_Type'].loc[df['Own_Mobile_Phone'] == 2].value_counts().sort_index()\n",
    "\n",
    "service_types = ['0: No_financial_services','1: Other_only','2: Mm_only','3: Mm_plus']\n",
    "index = [service_type for service_type in service_types]    \n",
    "\n",
    "fig = plt.gcf()\n",
    "fig.set_size_inches(10, 6)\n",
    "plt.bar(index, own, label='Own Mobile Phone', bottom=do_not_own)\n",
    "plt.bar(index, do_not_own, label='Do Not Own Mobile Phone')\n",
    "plt.ylabel('Count')\n",
    "plt.xticks(index, service_types)\n",
    "plt.legend(loc = 'upper left')\n",
    "\n",
    "plt.show()"
   ]
  },
  {
   "cell_type": "markdown",
   "metadata": {},
   "source": [
    "As expected, mobile phone ownership seems to be a **strong predictor** of 'Mm_only' and 'Mm_plus' categories"
   ]
  },
  {
   "cell_type": "markdown",
   "metadata": {},
   "source": [
    "Use **Cramer's V** to create a heatmap of pairwise associations between categorical features "
   ]
  },
  {
   "cell_type": "code",
   "execution_count": 16,
   "metadata": {},
   "outputs": [],
   "source": [
    "from scipy import stats\n",
    "from scipy.stats import chi2_contingency\n",
    "import math\n",
    "\n",
    "# Cramer's V\n",
    "def cramersv(x,y):\n",
    "    c_matrix = pd.crosstab(x,y)\n",
    "    r,k = c_matrix.shape\n",
    "    n = c_matrix.values.sum()\n",
    "    chi2,p,dof,e = chi2_contingency(c_matrix)\n",
    "    phi2 = chi2/n\n",
    "    phi_hat2 = max(0,phi2 - (k-1)*(r-1)/(n-1))\n",
    "    k_hat = k - math.pow((k-1),2)/(n-1)\n",
    "    r_hat = r - math.pow((r-1),2)/(n-1)\n",
    "    min_r_hat_k_hat = min(r_hat,k_hat)\n",
    "    v_hat = math.sqrt(phi_hat2/(min_r_hat_k_hat-1))\n",
    "    return v_hat\n",
    "\n",
    "# Columns with categorical features.  Include the target.\n",
    "cat_features = [col for col in df.columns if df[col].nunique() < 50]\n",
    "\n",
    "# Remove features that are collinear with the target\n",
    "collinear = ['mobile_money','savings','borrowing','insurance']\n",
    "reduced_features = [var for var in cat_features if var not in collinear]\n",
    "df_cat = df[reduced_features]\n",
    "\n",
    "# Matrix of pairwise associations\n",
    "v_matrix = pd.DataFrame(index = reduced_features)\n",
    "\n",
    "for i in df_cat.columns:\n",
    "    stats = []\n",
    "    for j in df_cat.columns:\n",
    "        v_hat = cramersv(df_cat[i],df_cat[j])\n",
    "        stats.append(v_hat)\n",
    "    v_matrix[i] = stats"
   ]
  },
  {
   "cell_type": "code",
   "execution_count": 17,
   "metadata": {},
   "outputs": [
    {
     "data": {
      "text/plain": [
       "<matplotlib.axes._subplots.AxesSubplot at 0x19ceb6a2e88>"
      ]
     },
     "execution_count": 17,
     "metadata": {},
     "output_type": "execute_result"
    },
    {
     "data": {
      "image/png": "[encoded data removed]",
      "text/plain": [
       "<Figure size 864x864 with 2 Axes>"
      ]
     },
     "metadata": {
      "needs_background": "light"
     },
     "output_type": "display_data"
    }
   ],
   "source": [
    "fig = plt.gcf()\n",
    "fig.set_size_inches(12, 12)\n",
    "sns.heatmap(v_matrix, cmap='Spectral_r',square=True, vmin=-.4, vmax=.4)"
   ]
  },
  {
   "cell_type": "markdown",
   "metadata": {},
   "source": [
    "Recency and frequency of transactions are strongly associated with the target and with each other"
   ]
  },
  {
   "cell_type": "markdown",
   "metadata": {},
   "source": [
    "**Enrich the Data**"
   ]
  },
  {
   "cell_type": "markdown",
   "metadata": {},
   "source": [
    "Use **reverse geocoding** with **ArcGIS** to load individuals' **'Region'** and **'Subregion'** from their coordinates."
   ]
  },
  {
   "cell_type": "code",
   "execution_count": null,
   "metadata": {},
   "outputs": [],
   "source": [
    "#Import libraries\n",
    "\n",
    "from arcgis.gis import GIS\n",
    "from arcgis.geocoding import reverse_geocode\n",
    "gis = GIS()\n",
    "\n",
    "df_region = pd.DataFrame()\n",
    "lat = []\n",
    "lon = []\n",
    "region = []\n",
    "subregion = []\n",
    "error = []\n",
    "\n",
    "for i in df.index:\n",
    "    try:\n",
    "        results = reverse_geocode([df['Longitude'].iloc[i], df['Latitude'].iloc[i]])\n",
    "        lat.append(df['Latitude'].iloc[i])\n",
    "        lon.append(df['Longitude'].iloc[i])\n",
    "        region.append(results['address']['Region'])\n",
    "        subregion.append(results['address']['Subregion'])\n",
    "        error.append(0)\n",
    "    except Exception as e:\n",
    "        lat.append(df['Latitude'].iloc[i])\n",
    "        lon.append(df['Longitude'].iloc[i])\n",
    "        region.append(e)\n",
    "        error.append(1)\n",
    "df_region['Latitude'] = lat\n",
    "df_region['Longitude'] = lon\n",
    "df_region['Region'] = region\n",
    "df_region['Subregion'] = subregion\n",
    "df_region['Error'] = error"
   ]
  },
  {
   "cell_type": "markdown",
   "metadata": {},
   "source": [
    "This process takes quite a while.  Store df_region to csv for later use."
   ]
  },
  {
   "cell_type": "code",
   "execution_count": null,
   "metadata": {},
   "outputs": [],
   "source": [
    "df_region.to_csv('mobilemoney/df_region.csv', index=False)"
   ]
  },
  {
   "cell_type": "code",
   "execution_count": 18,
   "metadata": {},
   "outputs": [
    {
     "data": {
      "text/html": [
       "<div>\n",
       "<style scoped>\n",
       "    .dataframe tbody tr th:only-of-type {\n",
       "        vertical-align: middle;\n",
       "    }\n",
       "\n",
       "    .dataframe tbody tr th {\n",
       "        vertical-align: top;\n",
       "    }\n",
       "\n",
       "    .dataframe thead th {\n",
       "        text-align: right;\n",
       "    }\n",
       "</style>\n",
       "<table border=\"1\" class=\"dataframe\">\n",
       "  <thead>\n",
       "    <tr style=\"text-align: right;\">\n",
       "      <th></th>\n",
       "      <th>Latitude</th>\n",
       "      <th>Longitude</th>\n",
       "      <th>Region</th>\n",
       "      <th>Subregion</th>\n",
       "      <th>Error</th>\n",
       "    </tr>\n",
       "  </thead>\n",
       "  <tbody>\n",
       "    <tr>\n",
       "      <td>0</td>\n",
       "      <td>-4.460442</td>\n",
       "      <td>29.811396</td>\n",
       "      <td>Kigoma</td>\n",
       "      <td>Buhigwe</td>\n",
       "      <td>0</td>\n",
       "    </tr>\n",
       "    <tr>\n",
       "      <td>1</td>\n",
       "      <td>-6.176438</td>\n",
       "      <td>39.244871</td>\n",
       "      <td>Mjini Magharibi</td>\n",
       "      <td>Mjini</td>\n",
       "      <td>0</td>\n",
       "    </tr>\n",
       "    <tr>\n",
       "      <td>2</td>\n",
       "      <td>-6.825702</td>\n",
       "      <td>37.652798</td>\n",
       "      <td>Morogoro</td>\n",
       "      <td>Morogoro</td>\n",
       "      <td>0</td>\n",
       "    </tr>\n",
       "    <tr>\n",
       "      <td>3</td>\n",
       "      <td>-3.372049</td>\n",
       "      <td>35.808307</td>\n",
       "      <td>Arusha</td>\n",
       "      <td>Karatu</td>\n",
       "      <td>0</td>\n",
       "    </tr>\n",
       "    <tr>\n",
       "      <td>4</td>\n",
       "      <td>-7.179645</td>\n",
       "      <td>31.039095</td>\n",
       "      <td>Rukwa</td>\n",
       "      <td>Nkasi</td>\n",
       "      <td>0</td>\n",
       "    </tr>\n",
       "  </tbody>\n",
       "</table>\n",
       "</div>"
      ],
      "text/plain": [
       "   Latitude  Longitude           Region Subregion  Error\n",
       "0 -4.460442  29.811396           Kigoma   Buhigwe      0\n",
       "1 -6.176438  39.244871  Mjini Magharibi     Mjini      0\n",
       "2 -6.825702  37.652798         Morogoro  Morogoro      0\n",
       "3 -3.372049  35.808307           Arusha    Karatu      0\n",
       "4 -7.179645  31.039095            Rukwa     Nkasi      0"
      ]
     },
     "execution_count": 18,
     "metadata": {},
     "output_type": "execute_result"
    }
   ],
   "source": [
    "df_region.head()"
   ]
  },
  {
   "cell_type": "markdown",
   "metadata": {},
   "source": [
    "Check for missing values"
   ]
  },
  {
   "cell_type": "code",
   "execution_count": 19,
   "metadata": {},
   "outputs": [
    {
     "data": {
      "text/html": [
       "<div>\n",
       "<style scoped>\n",
       "    .dataframe tbody tr th:only-of-type {\n",
       "        vertical-align: middle;\n",
       "    }\n",
       "\n",
       "    .dataframe tbody tr th {\n",
       "        vertical-align: top;\n",
       "    }\n",
       "\n",
       "    .dataframe thead th {\n",
       "        text-align: right;\n",
       "    }\n",
       "</style>\n",
       "<table border=\"1\" class=\"dataframe\">\n",
       "  <thead>\n",
       "    <tr style=\"text-align: right;\">\n",
       "      <th></th>\n",
       "      <th>Latitude</th>\n",
       "      <th>Longitude</th>\n",
       "      <th>Region</th>\n",
       "      <th>Subregion</th>\n",
       "      <th>Error</th>\n",
       "    </tr>\n",
       "  </thead>\n",
       "  <tbody>\n",
       "    <tr>\n",
       "      <td>141</td>\n",
       "      <td>-6.907859</td>\n",
       "      <td>39.168914</td>\n",
       "      <td>Pwani</td>\n",
       "      <td>NaN</td>\n",
       "      <td>0</td>\n",
       "    </tr>\n",
       "  </tbody>\n",
       "</table>\n",
       "</div>"
      ],
      "text/plain": [
       "     Latitude  Longitude Region Subregion  Error\n",
       "141 -6.907859  39.168914  Pwani       NaN      0"
      ]
     },
     "execution_count": 19,
     "metadata": {},
     "output_type": "execute_result"
    }
   ],
   "source": [
    "df_region[df_region.isnull().any(axis=1)]"
   ]
  },
  {
   "cell_type": "markdown",
   "metadata": {},
   "source": [
    "Double check the Subregion in 'Pwani'"
   ]
  },
  {
   "cell_type": "code",
   "execution_count": 20,
   "metadata": {},
   "outputs": [
    {
     "data": {
      "text/plain": [
       "'Ilala'"
      ]
     },
     "execution_count": 20,
     "metadata": {},
     "output_type": "execute_result"
    }
   ],
   "source": [
    "reverse_geocode([39.167,-6.907859])['address']['Subregion']"
   ]
  },
  {
   "cell_type": "code",
   "execution_count": 21,
   "metadata": {},
   "outputs": [],
   "source": [
    "df_region['Subregion'].iloc[141] = 'Ilala'"
   ]
  },
  {
   "cell_type": "code",
   "execution_count": 22,
   "metadata": {},
   "outputs": [
    {
     "data": {
      "text/html": [
       "<div>\n",
       "<style scoped>\n",
       "    .dataframe tbody tr th:only-of-type {\n",
       "        vertical-align: middle;\n",
       "    }\n",
       "\n",
       "    .dataframe tbody tr th {\n",
       "        vertical-align: top;\n",
       "    }\n",
       "\n",
       "    .dataframe thead th {\n",
       "        text-align: right;\n",
       "    }\n",
       "</style>\n",
       "<table border=\"1\" class=\"dataframe\">\n",
       "  <thead>\n",
       "    <tr style=\"text-align: right;\">\n",
       "      <th></th>\n",
       "      <th>Latitude</th>\n",
       "      <th>Longitude</th>\n",
       "      <th>Region</th>\n",
       "      <th>Subregion</th>\n",
       "      <th>Error</th>\n",
       "    </tr>\n",
       "  </thead>\n",
       "  <tbody>\n",
       "  </tbody>\n",
       "</table>\n",
       "</div>"
      ],
      "text/plain": [
       "Empty DataFrame\n",
       "Columns: [Latitude, Longitude, Region, Subregion, Error]\n",
       "Index: []"
      ]
     },
     "execution_count": 22,
     "metadata": {},
     "output_type": "execute_result"
    }
   ],
   "source": [
    "df_region[df_region.isnull().any(axis=1)]"
   ]
  },
  {
   "cell_type": "markdown",
   "metadata": {},
   "source": [
    "Check for errors"
   ]
  },
  {
   "cell_type": "code",
   "execution_count": 23,
   "metadata": {},
   "outputs": [
    {
     "data": {
      "text/plain": [
       "1"
      ]
     },
     "execution_count": 23,
     "metadata": {},
     "output_type": "execute_result"
    }
   ],
   "source": [
    "df_region.Error.sum()"
   ]
  },
  {
   "cell_type": "code",
   "execution_count": 24,
   "metadata": {},
   "outputs": [
    {
     "data": {
      "text/html": [
       "<div>\n",
       "<style scoped>\n",
       "    .dataframe tbody tr th:only-of-type {\n",
       "        vertical-align: middle;\n",
       "    }\n",
       "\n",
       "    .dataframe tbody tr th {\n",
       "        vertical-align: top;\n",
       "    }\n",
       "\n",
       "    .dataframe thead th {\n",
       "        text-align: right;\n",
       "    }\n",
       "</style>\n",
       "<table border=\"1\" class=\"dataframe\">\n",
       "  <thead>\n",
       "    <tr style=\"text-align: right;\">\n",
       "      <th></th>\n",
       "      <th>Latitude</th>\n",
       "      <th>Longitude</th>\n",
       "      <th>Region</th>\n",
       "      <th>Subregion</th>\n",
       "      <th>Error</th>\n",
       "    </tr>\n",
       "  </thead>\n",
       "  <tbody>\n",
       "    <tr>\n",
       "      <td>378</td>\n",
       "      <td>-5.875086</td>\n",
       "      <td>39.254217</td>\n",
       "      <td>Cannot perform query. Invalid query parameters...</td>\n",
       "      <td>Cannot perform query. Invalid query parameters...</td>\n",
       "      <td>1</td>\n",
       "    </tr>\n",
       "  </tbody>\n",
       "</table>\n",
       "</div>"
      ],
      "text/plain": [
       "     Latitude  Longitude                                             Region  \\\n",
       "378 -5.875086  39.254217  Cannot perform query. Invalid query parameters...   \n",
       "\n",
       "                                             Subregion  Error  \n",
       "378  Cannot perform query. Invalid query parameters...      1  "
      ]
     },
     "execution_count": 24,
     "metadata": {},
     "output_type": "execute_result"
    }
   ],
   "source": [
    "df_region.loc[df_region['Error'] == 1]"
   ]
  },
  {
   "cell_type": "markdown",
   "metadata": {},
   "source": [
    "Check the missing 'Region' data"
   ]
  },
  {
   "cell_type": "code",
   "execution_count": 25,
   "metadata": {},
   "outputs": [
    {
     "data": {
      "text/plain": [
       "'Kaskazini Unguja'"
      ]
     },
     "execution_count": 25,
     "metadata": {},
     "output_type": "execute_result"
    }
   ],
   "source": [
    "reverse_geocode([39.254217,-5.88])['address']['Region']"
   ]
  },
  {
   "cell_type": "code",
   "execution_count": 26,
   "metadata": {},
   "outputs": [
    {
     "data": {
      "text/plain": [
       "'Kaskazini A'"
      ]
     },
     "execution_count": 26,
     "metadata": {},
     "output_type": "execute_result"
    }
   ],
   "source": [
    "reverse_geocode([39.254217,-5.88])['address']['Subregion']"
   ]
  },
  {
   "cell_type": "markdown",
   "metadata": {},
   "source": [
    "Add the missing region data to df_region"
   ]
  },
  {
   "cell_type": "code",
   "execution_count": 27,
   "metadata": {},
   "outputs": [],
   "source": [
    "df_region['Region'].iloc[378] = 'Kaskazini Unguja'\n",
    "df_region['Subregion'].iloc[378] = 'Kaskazini A'"
   ]
  },
  {
   "cell_type": "code",
   "execution_count": 28,
   "metadata": {},
   "outputs": [
    {
     "data": {
      "text/plain": [
       "Latitude             -5.87509\n",
       "Longitude             39.2542\n",
       "Region       Kaskazini Unguja\n",
       "Subregion         Kaskazini A\n",
       "Error                       1\n",
       "Name: 378, dtype: object"
      ]
     },
     "execution_count": 28,
     "metadata": {},
     "output_type": "execute_result"
    }
   ],
   "source": [
    "df_region.iloc[378]"
   ]
  },
  {
   "cell_type": "markdown",
   "metadata": {},
   "source": [
    "Double check the 'Region' **'Muchiga'** against the GPS coordinates - it does not exist"
   ]
  },
  {
   "cell_type": "code",
   "execution_count": 29,
   "metadata": {},
   "outputs": [
    {
     "data": {
      "text/html": [
       "<div>\n",
       "<style scoped>\n",
       "    .dataframe tbody tr th:only-of-type {\n",
       "        vertical-align: middle;\n",
       "    }\n",
       "\n",
       "    .dataframe tbody tr th {\n",
       "        vertical-align: top;\n",
       "    }\n",
       "\n",
       "    .dataframe thead th {\n",
       "        text-align: right;\n",
       "    }\n",
       "</style>\n",
       "<table border=\"1\" class=\"dataframe\">\n",
       "  <thead>\n",
       "    <tr style=\"text-align: right;\">\n",
       "      <th></th>\n",
       "      <th>Latitude</th>\n",
       "      <th>Longitude</th>\n",
       "      <th>Region</th>\n",
       "      <th>Subregion</th>\n",
       "      <th>Error</th>\n",
       "    </tr>\n",
       "  </thead>\n",
       "  <tbody>\n",
       "    <tr>\n",
       "      <td>1041</td>\n",
       "      <td>-9.321775</td>\n",
       "      <td>32.781608</td>\n",
       "      <td>Muchiga</td>\n",
       "      <td>Nakonde</td>\n",
       "      <td>0</td>\n",
       "    </tr>\n",
       "    <tr>\n",
       "      <td>1114</td>\n",
       "      <td>-9.318674</td>\n",
       "      <td>32.779676</td>\n",
       "      <td>Muchiga</td>\n",
       "      <td>Nakonde</td>\n",
       "      <td>0</td>\n",
       "    </tr>\n",
       "    <tr>\n",
       "      <td>1231</td>\n",
       "      <td>-9.320334</td>\n",
       "      <td>32.780262</td>\n",
       "      <td>Muchiga</td>\n",
       "      <td>Nakonde</td>\n",
       "      <td>0</td>\n",
       "    </tr>\n",
       "    <tr>\n",
       "      <td>3002</td>\n",
       "      <td>-9.315998</td>\n",
       "      <td>32.778971</td>\n",
       "      <td>Muchiga</td>\n",
       "      <td>Nakonde</td>\n",
       "      <td>0</td>\n",
       "    </tr>\n",
       "    <tr>\n",
       "      <td>3096</td>\n",
       "      <td>-9.315611</td>\n",
       "      <td>32.781536</td>\n",
       "      <td>Muchiga</td>\n",
       "      <td>Nakonde</td>\n",
       "      <td>0</td>\n",
       "    </tr>\n",
       "    <tr>\n",
       "      <td>3466</td>\n",
       "      <td>-9.320757</td>\n",
       "      <td>32.780126</td>\n",
       "      <td>Muchiga</td>\n",
       "      <td>Nakonde</td>\n",
       "      <td>0</td>\n",
       "    </tr>\n",
       "  </tbody>\n",
       "</table>\n",
       "</div>"
      ],
      "text/plain": [
       "      Latitude  Longitude   Region Subregion  Error\n",
       "1041 -9.321775  32.781608  Muchiga   Nakonde      0\n",
       "1114 -9.318674  32.779676  Muchiga   Nakonde      0\n",
       "1231 -9.320334  32.780262  Muchiga   Nakonde      0\n",
       "3002 -9.315998  32.778971  Muchiga   Nakonde      0\n",
       "3096 -9.315611  32.781536  Muchiga   Nakonde      0\n",
       "3466 -9.320757  32.780126  Muchiga   Nakonde      0"
      ]
     },
     "execution_count": 29,
     "metadata": {},
     "output_type": "execute_result"
    }
   ],
   "source": [
    "df_region.loc[df_region['Region'] == 'Muchiga']"
   ]
  },
  {
   "cell_type": "code",
   "execution_count": 30,
   "metadata": {},
   "outputs": [
    {
     "data": {
      "text/plain": [
       "'Songwe'"
      ]
     },
     "execution_count": 30,
     "metadata": {},
     "output_type": "execute_result"
    }
   ],
   "source": [
    "reverse_geocode([32.781536,-9.305611])['address']['Region']"
   ]
  },
  {
   "cell_type": "code",
   "execution_count": 31,
   "metadata": {},
   "outputs": [
    {
     "data": {
      "text/plain": [
       "'Tunduma'"
      ]
     },
     "execution_count": 31,
     "metadata": {},
     "output_type": "execute_result"
    }
   ],
   "source": [
    "reverse_geocode([32.781536,-9.305611])['address']['Subregion']"
   ]
  },
  {
   "cell_type": "markdown",
   "metadata": {},
   "source": [
    "Replace 'Muchiga' with the correct Region - **'Songwe'** - and Subregion - **Tunduma**"
   ]
  },
  {
   "cell_type": "code",
   "execution_count": 32,
   "metadata": {},
   "outputs": [],
   "source": [
    "df_region.Region = df_region.Region.replace(['Muchiga'],'Songwe')\n",
    "df_region.Subregion = df_region.Subregion.replace(['Nakonde'],'Tunduma')"
   ]
  },
  {
   "cell_type": "code",
   "execution_count": 33,
   "metadata": {},
   "outputs": [
    {
     "data": {
      "text/html": [
       "<div>\n",
       "<style scoped>\n",
       "    .dataframe tbody tr th:only-of-type {\n",
       "        vertical-align: middle;\n",
       "    }\n",
       "\n",
       "    .dataframe tbody tr th {\n",
       "        vertical-align: top;\n",
       "    }\n",
       "\n",
       "    .dataframe thead th {\n",
       "        text-align: right;\n",
       "    }\n",
       "</style>\n",
       "<table border=\"1\" class=\"dataframe\">\n",
       "  <thead>\n",
       "    <tr style=\"text-align: right;\">\n",
       "      <th></th>\n",
       "      <th>Latitude</th>\n",
       "      <th>Longitude</th>\n",
       "      <th>Region</th>\n",
       "      <th>Subregion</th>\n",
       "      <th>Error</th>\n",
       "    </tr>\n",
       "  </thead>\n",
       "  <tbody>\n",
       "  </tbody>\n",
       "</table>\n",
       "</div>"
      ],
      "text/plain": [
       "Empty DataFrame\n",
       "Columns: [Latitude, Longitude, Region, Subregion, Error]\n",
       "Index: []"
      ]
     },
     "execution_count": 33,
     "metadata": {},
     "output_type": "execute_result"
    }
   ],
   "source": [
    "df_region.loc[df_region['Region'] == 'Muchiga']"
   ]
  },
  {
   "cell_type": "code",
   "execution_count": 34,
   "metadata": {},
   "outputs": [
    {
     "data": {
      "text/plain": [
       "0"
      ]
     },
     "execution_count": 34,
     "metadata": {},
     "output_type": "execute_result"
    }
   ],
   "source": [
    "df_region.isnull().sum().sum()"
   ]
  },
  {
   "cell_type": "markdown",
   "metadata": {},
   "source": [
    "Add the target to df_region for exploratory analysis"
   ]
  },
  {
   "cell_type": "code",
   "execution_count": 35,
   "metadata": {},
   "outputs": [],
   "source": [
    "df_region['Service_Type'] = df['Service_Type']"
   ]
  },
  {
   "cell_type": "code",
   "execution_count": 36,
   "metadata": {},
   "outputs": [
    {
     "data": {
      "text/html": [
       "<div>\n",
       "<style scoped>\n",
       "    .dataframe tbody tr th:only-of-type {\n",
       "        vertical-align: middle;\n",
       "    }\n",
       "\n",
       "    .dataframe tbody tr th {\n",
       "        vertical-align: top;\n",
       "    }\n",
       "\n",
       "    .dataframe thead th {\n",
       "        text-align: right;\n",
       "    }\n",
       "</style>\n",
       "<table border=\"1\" class=\"dataframe\">\n",
       "  <thead>\n",
       "    <tr style=\"text-align: right;\">\n",
       "      <th></th>\n",
       "      <th>Latitude</th>\n",
       "      <th>Longitude</th>\n",
       "      <th>Region</th>\n",
       "      <th>Subregion</th>\n",
       "      <th>Error</th>\n",
       "      <th>Service_Type</th>\n",
       "    </tr>\n",
       "  </thead>\n",
       "  <tbody>\n",
       "    <tr>\n",
       "      <td>0</td>\n",
       "      <td>-4.460442</td>\n",
       "      <td>29.811396</td>\n",
       "      <td>Kigoma</td>\n",
       "      <td>Buhigwe</td>\n",
       "      <td>0</td>\n",
       "      <td>0</td>\n",
       "    </tr>\n",
       "    <tr>\n",
       "      <td>1</td>\n",
       "      <td>-6.176438</td>\n",
       "      <td>39.244871</td>\n",
       "      <td>Mjini Magharibi</td>\n",
       "      <td>Mjini</td>\n",
       "      <td>0</td>\n",
       "      <td>3</td>\n",
       "    </tr>\n",
       "    <tr>\n",
       "      <td>2</td>\n",
       "      <td>-6.825702</td>\n",
       "      <td>37.652798</td>\n",
       "      <td>Morogoro</td>\n",
       "      <td>Morogoro</td>\n",
       "      <td>0</td>\n",
       "      <td>2</td>\n",
       "    </tr>\n",
       "    <tr>\n",
       "      <td>3</td>\n",
       "      <td>-3.372049</td>\n",
       "      <td>35.808307</td>\n",
       "      <td>Arusha</td>\n",
       "      <td>Karatu</td>\n",
       "      <td>0</td>\n",
       "      <td>3</td>\n",
       "    </tr>\n",
       "    <tr>\n",
       "      <td>4</td>\n",
       "      <td>-7.179645</td>\n",
       "      <td>31.039095</td>\n",
       "      <td>Rukwa</td>\n",
       "      <td>Nkasi</td>\n",
       "      <td>0</td>\n",
       "      <td>3</td>\n",
       "    </tr>\n",
       "  </tbody>\n",
       "</table>\n",
       "</div>"
      ],
      "text/plain": [
       "   Latitude  Longitude           Region Subregion  Error  Service_Type\n",
       "0 -4.460442  29.811396           Kigoma   Buhigwe      0             0\n",
       "1 -6.176438  39.244871  Mjini Magharibi     Mjini      0             3\n",
       "2 -6.825702  37.652798         Morogoro  Morogoro      0             2\n",
       "3 -3.372049  35.808307           Arusha    Karatu      0             3\n",
       "4 -7.179645  31.039095            Rukwa     Nkasi      0             3"
      ]
     },
     "execution_count": 36,
     "metadata": {},
     "output_type": "execute_result"
    }
   ],
   "source": [
    "df_region.head()"
   ]
  },
  {
   "cell_type": "markdown",
   "metadata": {},
   "source": [
    "Plot a histogram of financial service type by Region"
   ]
  },
  {
   "cell_type": "code",
   "execution_count": 37,
   "metadata": {},
   "outputs": [
    {
     "data": {
      "image/png": "[encoded data removed]",
      "text/plain": [
       "<Figure size 1728x720 with 1 Axes>"
      ]
     },
     "metadata": {
      "needs_background": "light"
     },
     "output_type": "display_data"
    }
   ],
   "source": [
    "regional = pd.DataFrame()\n",
    "total = df_region.Region.value_counts().sort_index()\n",
    "regional['Mm_plus'] = df_region['Region'].loc[df_region['Service_Type'] == 3].value_counts().sort_index()\n",
    "regional['Mm_only'] = df_region['Region'].loc[df_region['Service_Type'] == 2].value_counts().sort_index()\n",
    "regional['Other_only'] = df_region['Region'].loc[df_region['Service_Type'] == 1].value_counts().sort_index()\n",
    "regional['No_financial_services'] = df_region['Region'].loc[df_region['Service_Type'] == 0].value_counts().sort_index()\n",
    "regional = regional.loc[:].div(total*.01,axis = 'rows').rename_axis('Region').reset_index()\n",
    "regional = regional.sort_values(by = 'No_financial_services')\n",
    "\n",
    "regions = regional.Region   \n",
    "index = [region for region in regions]\n",
    "\n",
    "fig = plt.gcf()\n",
    "fig.set_size_inches(24, 10)\n",
    "plt.bar(index, regional.Mm_plus.values, label='3: Mm_plus', bottom = regional.Mm_only.values + regional.Other_only.values + regional.No_financial_services.values)\n",
    "plt.bar(index, regional.Mm_only.values, label='2: Mm_only', bottom = regional.Other_only.values + regional.No_financial_services.values)\n",
    "plt.bar(index, regional.Other_only.values, label='1: Other_only', bottom = regional.No_financial_services.values)\n",
    "plt.bar(index, regional.No_financial_services.values, label='0: No_financial_services')\n",
    "\n",
    "plt.ylabel('Proportion (%)',fontsize = 16)\n",
    "plt.xticks(index, regions, rotation = 45,fontsize = 14)\n",
    "plt.yticks(fontsize = 14)\n",
    "plt.legend(loc = 'lower center', ncol=4, bbox_to_anchor=(0.25, -0.25), fontsize = 16)\n",
    "\n",
    "plt.show()"
   ]
  },
  {
   "cell_type": "markdown",
   "metadata": {},
   "source": [
    "As expected, the level of financial inclusion is higher in urban regions such as **Dar-es-Salaam**, **Arusha** and **Kilimanjaro** than in rural areas such as **Ruvuma** and **Tabora.**"
   ]
  },
  {
   "cell_type": "markdown",
   "metadata": {},
   "source": [
    "Check for variation in the target within regions"
   ]
  },
  {
   "cell_type": "code",
   "execution_count": 38,
   "metadata": {},
   "outputs": [
    {
     "data": {
      "text/plain": [
       "Karagwe        21\n",
       "Sikonge        21\n",
       "Bahi           20\n",
       "Chemba         20\n",
       "Kisarawe       20\n",
       "Mwanga         20\n",
       "Makete         19\n",
       "Longido        18\n",
       "Rufiji         18\n",
       "Chunya         18\n",
       "Musoma         17\n",
       "Nyang'Hwale    17\n",
       "Mkinga         17\n",
       "Ludewa         17\n",
       "Busega         16\n",
       "Missenyi       16\n",
       "Urambo         14\n",
       "Liwale         14\n",
       "Kakonko        12\n",
       "Siha           11\n",
       "Gairo          11\n",
       "Mkoani         11\n",
       "Nyasa          11\n",
       "Mafia           9\n",
       "Pangani         7\n",
       "Name: Subregion, dtype: int64"
      ]
     },
     "execution_count": 38,
     "metadata": {},
     "output_type": "execute_result"
    }
   ],
   "source": [
    "df_region.Subregion.value_counts().tail(25)"
   ]
  },
  {
   "cell_type": "markdown",
   "metadata": {},
   "source": [
    "Drop Subregions with few examples"
   ]
  },
  {
   "cell_type": "code",
   "execution_count": 39,
   "metadata": {},
   "outputs": [],
   "source": [
    "new_level = \"other\"\n",
    "all_subs = df_region.Subregion.value_counts().index\n",
    "sparse_levels = df_region.Subregion.value_counts()[df_region.Subregion.value_counts()< 20].index\n",
    "combine_levels = {x: new_level if x in sparse_levels else x for x in all_subs} \n",
    "df_region['Subregion_2'] = df_region.Subregion.map(combine_levels)"
   ]
  },
  {
   "cell_type": "code",
   "execution_count": 40,
   "metadata": {},
   "outputs": [
    {
     "data": {
      "text/plain": [
       "129"
      ]
     },
     "execution_count": 40,
     "metadata": {},
     "output_type": "execute_result"
    }
   ],
   "source": [
    "df_region.Subregion_2.nunique()"
   ]
  },
  {
   "cell_type": "markdown",
   "metadata": {},
   "source": [
    "Find the level of association between **Region** and **Subregion** and the target"
   ]
  },
  {
   "cell_type": "code",
   "execution_count": 41,
   "metadata": {},
   "outputs": [
    {
     "data": {
      "text/plain": [
       "0.18495304284469613"
      ]
     },
     "execution_count": 41,
     "metadata": {},
     "output_type": "execute_result"
    }
   ],
   "source": [
    "cramersv(df_region['Service_Type'],df_region['Region'])"
   ]
  },
  {
   "cell_type": "code",
   "execution_count": 42,
   "metadata": {},
   "outputs": [
    {
     "data": {
      "text/plain": [
       "0.222171080430491"
      ]
     },
     "execution_count": 42,
     "metadata": {},
     "output_type": "execute_result"
    }
   ],
   "source": [
    "cramersv(df_region['Service_Type'],df_region['Subregion_2'])"
   ]
  },
  {
   "cell_type": "markdown",
   "metadata": {},
   "source": [
    "Subregion has a higher level of association with the target"
   ]
  },
  {
   "cell_type": "markdown",
   "metadata": {},
   "source": [
    "'Subregion' is missing **recent** administrative boundaries.  Use an updated feature layer to load individuals' **District** from their coordinates."
   ]
  },
  {
   "cell_type": "code",
   "execution_count": null,
   "metadata": {},
   "outputs": [],
   "source": [
    "import requests\n",
    "\n",
    "feature_server = 'https://services1.arcgis.com/gGHDlz6USftL5Pau/arcgis/rest/services/Tanzania_District/FeatureServer'\n",
    "url = feature_server +'/0/query'\n",
    "\n",
    "df_district = pd.DataFrame()\n",
    "lat = []\n",
    "lon = []\n",
    "dist = []\n",
    "error = []\n",
    "counter = []\n",
    "\n",
    "for i in range(5):\n",
    "#for i in df.index:\n",
    "    try:\n",
    "        query_params  = {'f': 'pjson', 'outFields': '*', 'geometryType':'esriGeometryPoint', 'inSR': '4326',\n",
    "                         'spatialRel': 'esriSpatialRelIntersects', 'distance':'0.01', 'units': 'esriSRUnit_Kilometer',\n",
    "                         'geometry': \"{x:\"+str(df['Longitude'].iloc[i])+\", y:\"+str(df['Latitude'].iloc[i])+\"}\"}\n",
    "        response = requests.request(\"GET\", url, params = query_params)\n",
    "        lat.append(df['Latitude'].iloc[i])\n",
    "        lon.append(df['Longitude'].iloc[i])\n",
    "        dist.append(response.json()['features'][0]['attributes']['DistrictNa'])\n",
    "        error.append(0)\n",
    "        counter.append(i)\n",
    "    except Exception as e:\n",
    "        dist.append(e)\n",
    "        error.append(1)\n",
    "        counter.append(i)\n",
    "df_district['counter'] = counter\n",
    "df_district['Latitude'] = lat\n",
    "df_district['Longitude'] = lon\n",
    "df_district['District'] = dist\n",
    "df_district['Errors'] = error"
   ]
  },
  {
   "cell_type": "markdown",
   "metadata": {},
   "source": [
    "This process takes quite a while.  Store df_district to csv for later use."
   ]
  },
  {
   "cell_type": "code",
   "execution_count": null,
   "metadata": {},
   "outputs": [],
   "source": [
    "df_district.to_csv('mobilemoney/df_district.csv', index=False)"
   ]
  },
  {
   "cell_type": "markdown",
   "metadata": {},
   "source": [
    "Check for indexing errors"
   ]
  },
  {
   "cell_type": "code",
   "execution_count": 43,
   "metadata": {},
   "outputs": [
    {
     "data": {
      "text/html": [
       "<div>\n",
       "<style scoped>\n",
       "    .dataframe tbody tr th:only-of-type {\n",
       "        vertical-align: middle;\n",
       "    }\n",
       "\n",
       "    .dataframe tbody tr th {\n",
       "        vertical-align: top;\n",
       "    }\n",
       "\n",
       "    .dataframe thead th {\n",
       "        text-align: right;\n",
       "    }\n",
       "</style>\n",
       "<table border=\"1\" class=\"dataframe\">\n",
       "  <thead>\n",
       "    <tr style=\"text-align: right;\">\n",
       "      <th></th>\n",
       "      <th>counter</th>\n",
       "      <th>Latitude</th>\n",
       "      <th>Longitude</th>\n",
       "      <th>District</th>\n",
       "      <th>Errors</th>\n",
       "    </tr>\n",
       "  </thead>\n",
       "  <tbody>\n",
       "    <tr>\n",
       "      <td>0</td>\n",
       "      <td>0</td>\n",
       "      <td>-4.460442</td>\n",
       "      <td>29.811396</td>\n",
       "      <td>Buhigwe</td>\n",
       "      <td>0</td>\n",
       "    </tr>\n",
       "    <tr>\n",
       "      <td>1</td>\n",
       "      <td>1</td>\n",
       "      <td>-6.176438</td>\n",
       "      <td>39.244871</td>\n",
       "      <td>Magharibi</td>\n",
       "      <td>0</td>\n",
       "    </tr>\n",
       "    <tr>\n",
       "      <td>2</td>\n",
       "      <td>2</td>\n",
       "      <td>-6.825702</td>\n",
       "      <td>37.652798</td>\n",
       "      <td>Morogoro Urban</td>\n",
       "      <td>0</td>\n",
       "    </tr>\n",
       "    <tr>\n",
       "      <td>3</td>\n",
       "      <td>3</td>\n",
       "      <td>-3.372049</td>\n",
       "      <td>35.808307</td>\n",
       "      <td>Karatu</td>\n",
       "      <td>0</td>\n",
       "    </tr>\n",
       "    <tr>\n",
       "      <td>4</td>\n",
       "      <td>4</td>\n",
       "      <td>-7.179645</td>\n",
       "      <td>31.039095</td>\n",
       "      <td>Nkasi</td>\n",
       "      <td>0</td>\n",
       "    </tr>\n",
       "  </tbody>\n",
       "</table>\n",
       "</div>"
      ],
      "text/plain": [
       "   counter  Latitude  Longitude        District  Errors\n",
       "0        0 -4.460442  29.811396         Buhigwe       0\n",
       "1        1 -6.176438  39.244871       Magharibi       0\n",
       "2        2 -6.825702  37.652798  Morogoro Urban       0\n",
       "3        3 -3.372049  35.808307          Karatu       0\n",
       "4        4 -7.179645  31.039095           Nkasi       0"
      ]
     },
     "execution_count": 43,
     "metadata": {},
     "output_type": "execute_result"
    }
   ],
   "source": [
    "df_district.head()"
   ]
  },
  {
   "cell_type": "code",
   "execution_count": 44,
   "metadata": {},
   "outputs": [],
   "source": [
    "df_district['latcheck'] = df.Latitude"
   ]
  },
  {
   "cell_type": "code",
   "execution_count": 45,
   "metadata": {},
   "outputs": [],
   "source": [
    "df_district['latdiff'] = df_district['latcheck'] - df['Latitude']"
   ]
  },
  {
   "cell_type": "code",
   "execution_count": 46,
   "metadata": {},
   "outputs": [
    {
     "data": {
      "text/plain": [
       "0.0"
      ]
     },
     "execution_count": 46,
     "metadata": {},
     "output_type": "execute_result"
    }
   ],
   "source": [
    "df_district.latdiff.sum()"
   ]
  },
  {
   "cell_type": "markdown",
   "metadata": {},
   "source": [
    "Check for null values"
   ]
  },
  {
   "cell_type": "code",
   "execution_count": 47,
   "metadata": {},
   "outputs": [
    {
     "data": {
      "text/html": [
       "<div>\n",
       "<style scoped>\n",
       "    .dataframe tbody tr th:only-of-type {\n",
       "        vertical-align: middle;\n",
       "    }\n",
       "\n",
       "    .dataframe tbody tr th {\n",
       "        vertical-align: top;\n",
       "    }\n",
       "\n",
       "    .dataframe thead th {\n",
       "        text-align: right;\n",
       "    }\n",
       "</style>\n",
       "<table border=\"1\" class=\"dataframe\">\n",
       "  <thead>\n",
       "    <tr style=\"text-align: right;\">\n",
       "      <th></th>\n",
       "      <th>counter</th>\n",
       "      <th>Latitude</th>\n",
       "      <th>Longitude</th>\n",
       "      <th>District</th>\n",
       "      <th>Errors</th>\n",
       "      <th>latcheck</th>\n",
       "      <th>latdiff</th>\n",
       "    </tr>\n",
       "  </thead>\n",
       "  <tbody>\n",
       "  </tbody>\n",
       "</table>\n",
       "</div>"
      ],
      "text/plain": [
       "Empty DataFrame\n",
       "Columns: [counter, Latitude, Longitude, District, Errors, latcheck, latdiff]\n",
       "Index: []"
      ]
     },
     "execution_count": 47,
     "metadata": {},
     "output_type": "execute_result"
    }
   ],
   "source": [
    "df_district[df_district.isnull().any(axis=1)]"
   ]
  },
  {
   "cell_type": "markdown",
   "metadata": {},
   "source": [
    "Check for reverse geocoding errors"
   ]
  },
  {
   "cell_type": "code",
   "execution_count": 48,
   "metadata": {},
   "outputs": [
    {
     "data": {
      "text/html": [
       "<div>\n",
       "<style scoped>\n",
       "    .dataframe tbody tr th:only-of-type {\n",
       "        vertical-align: middle;\n",
       "    }\n",
       "\n",
       "    .dataframe tbody tr th {\n",
       "        vertical-align: top;\n",
       "    }\n",
       "\n",
       "    .dataframe thead th {\n",
       "        text-align: right;\n",
       "    }\n",
       "</style>\n",
       "<table border=\"1\" class=\"dataframe\">\n",
       "  <thead>\n",
       "    <tr style=\"text-align: right;\">\n",
       "      <th></th>\n",
       "      <th>counter</th>\n",
       "      <th>Latitude</th>\n",
       "      <th>Longitude</th>\n",
       "      <th>District</th>\n",
       "      <th>Errors</th>\n",
       "      <th>latcheck</th>\n",
       "      <th>latdiff</th>\n",
       "    </tr>\n",
       "  </thead>\n",
       "  <tbody>\n",
       "    <tr>\n",
       "      <td>2910</td>\n",
       "      <td>2910</td>\n",
       "      <td>-10.257334</td>\n",
       "      <td>40.193767</td>\n",
       "      <td>list index out of range</td>\n",
       "      <td>1</td>\n",
       "      <td>-10.257334</td>\n",
       "      <td>0.0</td>\n",
       "    </tr>\n",
       "    <tr>\n",
       "      <td>5734</td>\n",
       "      <td>5734</td>\n",
       "      <td>-10.256892</td>\n",
       "      <td>40.195975</td>\n",
       "      <td>list index out of range</td>\n",
       "      <td>1</td>\n",
       "      <td>-10.256892</td>\n",
       "      <td>0.0</td>\n",
       "    </tr>\n",
       "    <tr>\n",
       "      <td>3214</td>\n",
       "      <td>3214</td>\n",
       "      <td>-8.189125</td>\n",
       "      <td>39.313559</td>\n",
       "      <td>list index out of range</td>\n",
       "      <td>1</td>\n",
       "      <td>-8.189125</td>\n",
       "      <td>0.0</td>\n",
       "    </tr>\n",
       "    <tr>\n",
       "      <td>6146</td>\n",
       "      <td>6146</td>\n",
       "      <td>-8.188592</td>\n",
       "      <td>39.314331</td>\n",
       "      <td>list index out of range</td>\n",
       "      <td>1</td>\n",
       "      <td>-8.188592</td>\n",
       "      <td>0.0</td>\n",
       "    </tr>\n",
       "    <tr>\n",
       "      <td>6382</td>\n",
       "      <td>6382</td>\n",
       "      <td>-8.188564</td>\n",
       "      <td>39.314508</td>\n",
       "      <td>list index out of range</td>\n",
       "      <td>1</td>\n",
       "      <td>-8.188564</td>\n",
       "      <td>0.0</td>\n",
       "    </tr>\n",
       "    <tr>\n",
       "      <td>2053</td>\n",
       "      <td>2053</td>\n",
       "      <td>-5.875356</td>\n",
       "      <td>39.256089</td>\n",
       "      <td>list index out of range</td>\n",
       "      <td>1</td>\n",
       "      <td>-5.875356</td>\n",
       "      <td>0.0</td>\n",
       "    </tr>\n",
       "    <tr>\n",
       "      <td>378</td>\n",
       "      <td>378</td>\n",
       "      <td>-5.875086</td>\n",
       "      <td>39.254217</td>\n",
       "      <td>list index out of range</td>\n",
       "      <td>1</td>\n",
       "      <td>-5.875086</td>\n",
       "      <td>0.0</td>\n",
       "    </tr>\n",
       "    <tr>\n",
       "      <td>6161</td>\n",
       "      <td>6161</td>\n",
       "      <td>-5.875002</td>\n",
       "      <td>39.255798</td>\n",
       "      <td>list index out of range</td>\n",
       "      <td>1</td>\n",
       "      <td>-5.875002</td>\n",
       "      <td>0.0</td>\n",
       "    </tr>\n",
       "    <tr>\n",
       "      <td>2739</td>\n",
       "      <td>2739</td>\n",
       "      <td>-5.874594</td>\n",
       "      <td>39.256325</td>\n",
       "      <td>list index out of range</td>\n",
       "      <td>1</td>\n",
       "      <td>-5.874594</td>\n",
       "      <td>0.0</td>\n",
       "    </tr>\n",
       "    <tr>\n",
       "      <td>2177</td>\n",
       "      <td>2177</td>\n",
       "      <td>-5.874485</td>\n",
       "      <td>39.256435</td>\n",
       "      <td>list index out of range</td>\n",
       "      <td>1</td>\n",
       "      <td>-5.874485</td>\n",
       "      <td>0.0</td>\n",
       "    </tr>\n",
       "    <tr>\n",
       "      <td>1465</td>\n",
       "      <td>1465</td>\n",
       "      <td>-5.874116</td>\n",
       "      <td>39.258502</td>\n",
       "      <td>list index out of range</td>\n",
       "      <td>1</td>\n",
       "      <td>-5.874116</td>\n",
       "      <td>0.0</td>\n",
       "    </tr>\n",
       "    <tr>\n",
       "      <td>1990</td>\n",
       "      <td>1990</td>\n",
       "      <td>-5.873933</td>\n",
       "      <td>39.258302</td>\n",
       "      <td>list index out of range</td>\n",
       "      <td>1</td>\n",
       "      <td>-5.873933</td>\n",
       "      <td>0.0</td>\n",
       "    </tr>\n",
       "    <tr>\n",
       "      <td>6038</td>\n",
       "      <td>6038</td>\n",
       "      <td>-5.873590</td>\n",
       "      <td>39.258377</td>\n",
       "      <td>list index out of range</td>\n",
       "      <td>1</td>\n",
       "      <td>-5.873590</td>\n",
       "      <td>0.0</td>\n",
       "    </tr>\n",
       "    <tr>\n",
       "      <td>1573</td>\n",
       "      <td>1573</td>\n",
       "      <td>-5.873522</td>\n",
       "      <td>39.258799</td>\n",
       "      <td>list index out of range</td>\n",
       "      <td>1</td>\n",
       "      <td>-5.873522</td>\n",
       "      <td>0.0</td>\n",
       "    </tr>\n",
       "    <tr>\n",
       "      <td>6767</td>\n",
       "      <td>6767</td>\n",
       "      <td>-4.980440</td>\n",
       "      <td>39.820517</td>\n",
       "      <td>list index out of range</td>\n",
       "      <td>1</td>\n",
       "      <td>-4.980440</td>\n",
       "      <td>0.0</td>\n",
       "    </tr>\n",
       "    <tr>\n",
       "      <td>6228</td>\n",
       "      <td>6228</td>\n",
       "      <td>-2.507535</td>\n",
       "      <td>33.546024</td>\n",
       "      <td>list index out of range</td>\n",
       "      <td>1</td>\n",
       "      <td>-2.507535</td>\n",
       "      <td>0.0</td>\n",
       "    </tr>\n",
       "    <tr>\n",
       "      <td>574</td>\n",
       "      <td>574</td>\n",
       "      <td>-2.506915</td>\n",
       "      <td>33.546246</td>\n",
       "      <td>list index out of range</td>\n",
       "      <td>1</td>\n",
       "      <td>-2.506915</td>\n",
       "      <td>0.0</td>\n",
       "    </tr>\n",
       "    <tr>\n",
       "      <td>570</td>\n",
       "      <td>570</td>\n",
       "      <td>-2.502878</td>\n",
       "      <td>33.550267</td>\n",
       "      <td>list index out of range</td>\n",
       "      <td>1</td>\n",
       "      <td>-2.502878</td>\n",
       "      <td>0.0</td>\n",
       "    </tr>\n",
       "    <tr>\n",
       "      <td>4714</td>\n",
       "      <td>4714</td>\n",
       "      <td>-2.502560</td>\n",
       "      <td>33.547477</td>\n",
       "      <td>list index out of range</td>\n",
       "      <td>1</td>\n",
       "      <td>-2.502560</td>\n",
       "      <td>0.0</td>\n",
       "    </tr>\n",
       "    <tr>\n",
       "      <td>602</td>\n",
       "      <td>602</td>\n",
       "      <td>-2.499938</td>\n",
       "      <td>33.546563</td>\n",
       "      <td>list index out of range</td>\n",
       "      <td>1</td>\n",
       "      <td>-2.499938</td>\n",
       "      <td>0.0</td>\n",
       "    </tr>\n",
       "    <tr>\n",
       "      <td>6380</td>\n",
       "      <td>6380</td>\n",
       "      <td>-2.498743</td>\n",
       "      <td>33.545662</td>\n",
       "      <td>list index out of range</td>\n",
       "      <td>1</td>\n",
       "      <td>-2.498743</td>\n",
       "      <td>0.0</td>\n",
       "    </tr>\n",
       "    <tr>\n",
       "      <td>4052</td>\n",
       "      <td>4052</td>\n",
       "      <td>-2.497661</td>\n",
       "      <td>33.550746</td>\n",
       "      <td>list index out of range</td>\n",
       "      <td>1</td>\n",
       "      <td>-2.497661</td>\n",
       "      <td>0.0</td>\n",
       "    </tr>\n",
       "    <tr>\n",
       "      <td>5613</td>\n",
       "      <td>5613</td>\n",
       "      <td>-2.497482</td>\n",
       "      <td>33.544511</td>\n",
       "      <td>list index out of range</td>\n",
       "      <td>1</td>\n",
       "      <td>-2.497482</td>\n",
       "      <td>0.0</td>\n",
       "    </tr>\n",
       "    <tr>\n",
       "      <td>6291</td>\n",
       "      <td>6291</td>\n",
       "      <td>-2.496424</td>\n",
       "      <td>33.549021</td>\n",
       "      <td>list index out of range</td>\n",
       "      <td>1</td>\n",
       "      <td>-2.496424</td>\n",
       "      <td>0.0</td>\n",
       "    </tr>\n",
       "    <tr>\n",
       "      <td>6238</td>\n",
       "      <td>6238</td>\n",
       "      <td>-1.329918</td>\n",
       "      <td>33.813135</td>\n",
       "      <td>list index out of range</td>\n",
       "      <td>1</td>\n",
       "      <td>-1.329918</td>\n",
       "      <td>0.0</td>\n",
       "    </tr>\n",
       "  </tbody>\n",
       "</table>\n",
       "</div>"
      ],
      "text/plain": [
       "      counter   Latitude  Longitude                 District  Errors  \\\n",
       "2910     2910 -10.257334  40.193767  list index out of range       1   \n",
       "5734     5734 -10.256892  40.195975  list index out of range       1   \n",
       "3214     3214  -8.189125  39.313559  list index out of range       1   \n",
       "6146     6146  -8.188592  39.314331  list index out of range       1   \n",
       "6382     6382  -8.188564  39.314508  list index out of range       1   \n",
       "2053     2053  -5.875356  39.256089  list index out of range       1   \n",
       "378       378  -5.875086  39.254217  list index out of range       1   \n",
       "6161     6161  -5.875002  39.255798  list index out of range       1   \n",
       "2739     2739  -5.874594  39.256325  list index out of range       1   \n",
       "2177     2177  -5.874485  39.256435  list index out of range       1   \n",
       "1465     1465  -5.874116  39.258502  list index out of range       1   \n",
       "1990     1990  -5.873933  39.258302  list index out of range       1   \n",
       "6038     6038  -5.873590  39.258377  list index out of range       1   \n",
       "1573     1573  -5.873522  39.258799  list index out of range       1   \n",
       "6767     6767  -4.980440  39.820517  list index out of range       1   \n",
       "6228     6228  -2.507535  33.546024  list index out of range       1   \n",
       "574       574  -2.506915  33.546246  list index out of range       1   \n",
       "570       570  -2.502878  33.550267  list index out of range       1   \n",
       "4714     4714  -2.502560  33.547477  list index out of range       1   \n",
       "602       602  -2.499938  33.546563  list index out of range       1   \n",
       "6380     6380  -2.498743  33.545662  list index out of range       1   \n",
       "4052     4052  -2.497661  33.550746  list index out of range       1   \n",
       "5613     5613  -2.497482  33.544511  list index out of range       1   \n",
       "6291     6291  -2.496424  33.549021  list index out of range       1   \n",
       "6238     6238  -1.329918  33.813135  list index out of range       1   \n",
       "\n",
       "       latcheck  latdiff  \n",
       "2910 -10.257334      0.0  \n",
       "5734 -10.256892      0.0  \n",
       "3214  -8.189125      0.0  \n",
       "6146  -8.188592      0.0  \n",
       "6382  -8.188564      0.0  \n",
       "2053  -5.875356      0.0  \n",
       "378   -5.875086      0.0  \n",
       "6161  -5.875002      0.0  \n",
       "2739  -5.874594      0.0  \n",
       "2177  -5.874485      0.0  \n",
       "1465  -5.874116      0.0  \n",
       "1990  -5.873933      0.0  \n",
       "6038  -5.873590      0.0  \n",
       "1573  -5.873522      0.0  \n",
       "6767  -4.980440      0.0  \n",
       "6228  -2.507535      0.0  \n",
       "574   -2.506915      0.0  \n",
       "570   -2.502878      0.0  \n",
       "4714  -2.502560      0.0  \n",
       "602   -2.499938      0.0  \n",
       "6380  -2.498743      0.0  \n",
       "4052  -2.497661      0.0  \n",
       "5613  -2.497482      0.0  \n",
       "6291  -2.496424      0.0  \n",
       "6238  -1.329918      0.0  "
      ]
     },
     "execution_count": 48,
     "metadata": {},
     "output_type": "execute_result"
    }
   ],
   "source": [
    "df_district.loc[df_district['Errors'] == 1].sort_values(by = ['Latitude'])"
   ]
  },
  {
   "cell_type": "code",
   "execution_count": 49,
   "metadata": {},
   "outputs": [],
   "source": [
    "df_district.loc[(df_district.Errors == 1) & (df_district.Latitude < -2) & (df_district.Latitude > -3),'District'] = 'Busega'"
   ]
  },
  {
   "cell_type": "code",
   "execution_count": 50,
   "metadata": {},
   "outputs": [],
   "source": [
    "df_district.loc[(df_district.Errors == 1) & (df_district.Latitude < -5) & (df_district.Latitude > -6),'District'] = 'Kaskazini A'"
   ]
  },
  {
   "cell_type": "code",
   "execution_count": 51,
   "metadata": {},
   "outputs": [],
   "source": [
    "df_district.loc[(df_district.Errors == 1) & (df_district.Latitude < -7) & (df_district.Latitude > -9),'District'] = 'Rufiji'"
   ]
  },
  {
   "cell_type": "code",
   "execution_count": 52,
   "metadata": {},
   "outputs": [],
   "source": [
    "df_district.loc[(df_district.Errors == 1) & (df_district.Latitude < -10) & (df_district.Latitude > -11),'District'] = 'Mtwara Rural'"
   ]
  },
  {
   "cell_type": "code",
   "execution_count": 53,
   "metadata": {},
   "outputs": [],
   "source": [
    "df_district.loc[(df_district.Errors == 1) & (df_district.Latitude < -4) & (df_district.Latitude > -5),'District'] = 'Micheweni'"
   ]
  },
  {
   "cell_type": "code",
   "execution_count": 54,
   "metadata": {},
   "outputs": [],
   "source": [
    "df_district.loc[(df_district.Errors == 1) & (df_district.Latitude < -1) & (df_district.Latitude > -2),'District'] = 'Rorya'"
   ]
  },
  {
   "cell_type": "code",
   "execution_count": 55,
   "metadata": {},
   "outputs": [],
   "source": [
    "df_district['Subregion'] = df_region['Subregion']"
   ]
  },
  {
   "cell_type": "markdown",
   "metadata": {},
   "source": [
    "Check the difference between **Subregion** and **District**"
   ]
  },
  {
   "cell_type": "code",
   "execution_count": 56,
   "metadata": {},
   "outputs": [
    {
     "data": {
      "text/html": [
       "<div>\n",
       "<style scoped>\n",
       "    .dataframe tbody tr th:only-of-type {\n",
       "        vertical-align: middle;\n",
       "    }\n",
       "\n",
       "    .dataframe tbody tr th {\n",
       "        vertical-align: top;\n",
       "    }\n",
       "\n",
       "    .dataframe thead th {\n",
       "        text-align: right;\n",
       "    }\n",
       "</style>\n",
       "<table border=\"1\" class=\"dataframe\">\n",
       "  <thead>\n",
       "    <tr style=\"text-align: right;\">\n",
       "      <th></th>\n",
       "      <th></th>\n",
       "      <th>Latitude</th>\n",
       "    </tr>\n",
       "    <tr>\n",
       "      <th>Subregion</th>\n",
       "      <th>District</th>\n",
       "      <th></th>\n",
       "    </tr>\n",
       "  </thead>\n",
       "  <tbody>\n",
       "    <tr>\n",
       "      <td rowspan=\"2\" valign=\"top\">Arusha</td>\n",
       "      <td>Arusha Urban</td>\n",
       "      <td>79</td>\n",
       "    </tr>\n",
       "    <tr>\n",
       "      <td>Meru</td>\n",
       "      <td>1</td>\n",
       "    </tr>\n",
       "    <tr>\n",
       "      <td>Babati</td>\n",
       "      <td>Babati Urban</td>\n",
       "      <td>21</td>\n",
       "    </tr>\n",
       "    <tr>\n",
       "      <td rowspan=\"2\" valign=\"top\">Bukoba</td>\n",
       "      <td>Bukoba Rural</td>\n",
       "      <td>30</td>\n",
       "    </tr>\n",
       "    <tr>\n",
       "      <td>Bukoba Urban</td>\n",
       "      <td>18</td>\n",
       "    </tr>\n",
       "    <tr>\n",
       "      <td rowspan=\"2\" valign=\"top\">Butiam</td>\n",
       "      <td>Butiama</td>\n",
       "      <td>18</td>\n",
       "    </tr>\n",
       "    <tr>\n",
       "      <td>Musoma Municipal</td>\n",
       "      <td>25</td>\n",
       "    </tr>\n",
       "    <tr>\n",
       "      <td rowspan=\"2\" valign=\"top\">Dodoma</td>\n",
       "      <td>Chamwino</td>\n",
       "      <td>2</td>\n",
       "    </tr>\n",
       "    <tr>\n",
       "      <td>Dodoma Urban</td>\n",
       "      <td>38</td>\n",
       "    </tr>\n",
       "    <tr>\n",
       "      <td rowspan=\"2\" valign=\"top\">Hanang</td>\n",
       "      <td>Babati</td>\n",
       "      <td>1</td>\n",
       "    </tr>\n",
       "    <tr>\n",
       "      <td>Kondoa</td>\n",
       "      <td>1</td>\n",
       "    </tr>\n",
       "    <tr>\n",
       "      <td>Handeni</td>\n",
       "      <td>Handeni Township Authority</td>\n",
       "      <td>7</td>\n",
       "    </tr>\n",
       "    <tr>\n",
       "      <td>Ilala</td>\n",
       "      <td>Temeke</td>\n",
       "      <td>10</td>\n",
       "    </tr>\n",
       "    <tr>\n",
       "      <td rowspan=\"2\" valign=\"top\">Iringa</td>\n",
       "      <td>Iringa Rural</td>\n",
       "      <td>95</td>\n",
       "    </tr>\n",
       "    <tr>\n",
       "      <td>Iringa Urban</td>\n",
       "      <td>65</td>\n",
       "    </tr>\n",
       "    <tr>\n",
       "      <td>Kahama</td>\n",
       "      <td>Kahama Township Authority</td>\n",
       "      <td>39</td>\n",
       "    </tr>\n",
       "    <tr>\n",
       "      <td>Kasulu</td>\n",
       "      <td>Kasulu Township Authority</td>\n",
       "      <td>23</td>\n",
       "    </tr>\n",
       "    <tr>\n",
       "      <td>Kibaha</td>\n",
       "      <td>Kibaha Urban</td>\n",
       "      <td>21</td>\n",
       "    </tr>\n",
       "    <tr>\n",
       "      <td rowspan=\"2\" valign=\"top\">Kigoma</td>\n",
       "      <td>Kigoma Municipal-Ujiji</td>\n",
       "      <td>26</td>\n",
       "    </tr>\n",
       "    <tr>\n",
       "      <td>Kigoma Rural</td>\n",
       "      <td>15</td>\n",
       "    </tr>\n",
       "  </tbody>\n",
       "</table>\n",
       "</div>"
      ],
      "text/plain": [
       "                                      Latitude\n",
       "Subregion District                            \n",
       "Arusha    Arusha Urban                      79\n",
       "          Meru                               1\n",
       "Babati    Babati Urban                      21\n",
       "Bukoba    Bukoba Rural                      30\n",
       "          Bukoba Urban                      18\n",
       "Butiam    Butiama                           18\n",
       "          Musoma Municipal                  25\n",
       "Dodoma    Chamwino                           2\n",
       "          Dodoma Urban                      38\n",
       "Hanang    Babati                             1\n",
       "          Kondoa                             1\n",
       "Handeni   Handeni Township Authority         7\n",
       "Ilala     Temeke                            10\n",
       "Iringa    Iringa Rural                      95\n",
       "          Iringa Urban                      65\n",
       "Kahama    Kahama Township Authority         39\n",
       "Kasulu    Kasulu Township Authority         23\n",
       "Kibaha    Kibaha Urban                      21\n",
       "Kigoma    Kigoma Municipal-Ujiji            26\n",
       "          Kigoma Rural                      15"
      ]
     },
     "execution_count": 56,
     "metadata": {},
     "output_type": "execute_result"
    }
   ],
   "source": [
    "df_district.loc[df_district['Subregion'] != df_district['District'] ].groupby(['Subregion','District']).count()[['Latitude']].head(20)"
   ]
  },
  {
   "cell_type": "code",
   "execution_count": 57,
   "metadata": {},
   "outputs": [
    {
     "data": {
      "text/plain": [
       "Morogoro Urban                18\n",
       "Bukoba Urban                  18\n",
       "Rufiji                        18\n",
       "Kisarawe                      18\n",
       "Songea Rural                  18\n",
       "Makete                        18\n",
       "Musoma                        17\n",
       "Njombe Rural                  17\n",
       "Nyang'wale                    17\n",
       "Ludewa                        17\n",
       "Missenyi                      16\n",
       "Kigoma Rural                  15\n",
       "Kibaha                        15\n",
       "Korogwe Township Authority    15\n",
       "Urambo                        14\n",
       "Liwale                        14\n",
       "Siha                          13\n",
       "Lindi Urban                   12\n",
       "Gairo                         12\n",
       "Kakonko                       12\n",
       "Mkoani                        11\n",
       "Nyasa                         11\n",
       "Mafia                          9\n",
       "Handeni Township Authority     7\n",
       "Pangani                        7\n",
       "Name: District, dtype: int64"
      ]
     },
     "execution_count": 57,
     "metadata": {},
     "output_type": "execute_result"
    }
   ],
   "source": [
    "df_district.District.value_counts().tail(25)"
   ]
  },
  {
   "cell_type": "markdown",
   "metadata": {},
   "source": [
    "Remove Districts with few training examples"
   ]
  },
  {
   "cell_type": "code",
   "execution_count": 58,
   "metadata": {},
   "outputs": [],
   "source": [
    "new_level = 'other'\n",
    "all_dist = df_district.District.value_counts().index\n",
    "sparse_levels = df_district.District.value_counts()[df_district.District.value_counts()<20].index\n",
    "combine_levels = {x: new_level if x in sparse_levels else x for x in all_dist} \n",
    "df_district['District_2'] = df_district.District.map(combine_levels)"
   ]
  },
  {
   "cell_type": "code",
   "execution_count": 59,
   "metadata": {},
   "outputs": [
    {
     "data": {
      "text/plain": [
       "145"
      ]
     },
     "execution_count": 59,
     "metadata": {},
     "output_type": "execute_result"
    }
   ],
   "source": [
    "df_district.District_2.nunique()"
   ]
  },
  {
   "cell_type": "code",
   "execution_count": 60,
   "metadata": {},
   "outputs": [
    {
     "data": {
      "text/plain": [
       "0.22569086374272282"
      ]
     },
     "execution_count": 60,
     "metadata": {},
     "output_type": "execute_result"
    }
   ],
   "source": [
    "cramersv(df['Service_Type'],df_district['District_2'])"
   ]
  },
  {
   "cell_type": "markdown",
   "metadata": {},
   "source": [
    "The level of association with the target is slightly higher for **'District'** than **'Subregion'**"
   ]
  },
  {
   "cell_type": "code",
   "execution_count": 61,
   "metadata": {},
   "outputs": [
    {
     "data": {
      "text/html": [
       "<div>\n",
       "<style scoped>\n",
       "    .dataframe tbody tr th:only-of-type {\n",
       "        vertical-align: middle;\n",
       "    }\n",
       "\n",
       "    .dataframe tbody tr th {\n",
       "        vertical-align: top;\n",
       "    }\n",
       "\n",
       "    .dataframe thead th {\n",
       "        text-align: right;\n",
       "    }\n",
       "</style>\n",
       "<table border=\"1\" class=\"dataframe\">\n",
       "  <thead>\n",
       "    <tr style=\"text-align: right;\">\n",
       "      <th></th>\n",
       "      <th>counter</th>\n",
       "      <th>Latitude</th>\n",
       "      <th>Longitude</th>\n",
       "      <th>District</th>\n",
       "      <th>Errors</th>\n",
       "      <th>latcheck</th>\n",
       "      <th>latdiff</th>\n",
       "      <th>Subregion</th>\n",
       "      <th>District_2</th>\n",
       "    </tr>\n",
       "  </thead>\n",
       "  <tbody>\n",
       "    <tr>\n",
       "      <td>0</td>\n",
       "      <td>0</td>\n",
       "      <td>-4.460442</td>\n",
       "      <td>29.811396</td>\n",
       "      <td>Buhigwe</td>\n",
       "      <td>0</td>\n",
       "      <td>-4.460442</td>\n",
       "      <td>0.0</td>\n",
       "      <td>Buhigwe</td>\n",
       "      <td>Buhigwe</td>\n",
       "    </tr>\n",
       "    <tr>\n",
       "      <td>1</td>\n",
       "      <td>1</td>\n",
       "      <td>-6.176438</td>\n",
       "      <td>39.244871</td>\n",
       "      <td>Magharibi</td>\n",
       "      <td>0</td>\n",
       "      <td>-6.176438</td>\n",
       "      <td>0.0</td>\n",
       "      <td>Mjini</td>\n",
       "      <td>Magharibi</td>\n",
       "    </tr>\n",
       "    <tr>\n",
       "      <td>2</td>\n",
       "      <td>2</td>\n",
       "      <td>-6.825702</td>\n",
       "      <td>37.652798</td>\n",
       "      <td>Morogoro Urban</td>\n",
       "      <td>0</td>\n",
       "      <td>-6.825702</td>\n",
       "      <td>0.0</td>\n",
       "      <td>Morogoro</td>\n",
       "      <td>other</td>\n",
       "    </tr>\n",
       "    <tr>\n",
       "      <td>3</td>\n",
       "      <td>3</td>\n",
       "      <td>-3.372049</td>\n",
       "      <td>35.808307</td>\n",
       "      <td>Karatu</td>\n",
       "      <td>0</td>\n",
       "      <td>-3.372049</td>\n",
       "      <td>0.0</td>\n",
       "      <td>Karatu</td>\n",
       "      <td>Karatu</td>\n",
       "    </tr>\n",
       "    <tr>\n",
       "      <td>4</td>\n",
       "      <td>4</td>\n",
       "      <td>-7.179645</td>\n",
       "      <td>31.039095</td>\n",
       "      <td>Nkasi</td>\n",
       "      <td>0</td>\n",
       "      <td>-7.179645</td>\n",
       "      <td>0.0</td>\n",
       "      <td>Nkasi</td>\n",
       "      <td>Nkasi</td>\n",
       "    </tr>\n",
       "  </tbody>\n",
       "</table>\n",
       "</div>"
      ],
      "text/plain": [
       "   counter  Latitude  Longitude        District  Errors  latcheck  latdiff  \\\n",
       "0        0 -4.460442  29.811396         Buhigwe       0 -4.460442      0.0   \n",
       "1        1 -6.176438  39.244871       Magharibi       0 -6.176438      0.0   \n",
       "2        2 -6.825702  37.652798  Morogoro Urban       0 -6.825702      0.0   \n",
       "3        3 -3.372049  35.808307          Karatu       0 -3.372049      0.0   \n",
       "4        4 -7.179645  31.039095           Nkasi       0 -7.179645      0.0   \n",
       "\n",
       "  Subregion District_2  \n",
       "0   Buhigwe    Buhigwe  \n",
       "1     Mjini  Magharibi  \n",
       "2  Morogoro      other  \n",
       "3    Karatu     Karatu  \n",
       "4     Nkasi      Nkasi  "
      ]
     },
     "execution_count": 61,
     "metadata": {},
     "output_type": "execute_result"
    }
   ],
   "source": [
    "df_district.head()"
   ]
  },
  {
   "cell_type": "markdown",
   "metadata": {},
   "source": [
    "Create a new dataframe call **df_dist_final** and drop unnecessary columns"
   ]
  },
  {
   "cell_type": "code",
   "execution_count": 62,
   "metadata": {},
   "outputs": [],
   "source": [
    "df_dist_final = df_district.copy()\n",
    "cols = ['counter','Latitude','Longitude','Errors','latcheck','latdiff','Subregion','District_2']\n",
    "df_dist_final.drop(columns=cols,inplace=True)"
   ]
  },
  {
   "cell_type": "code",
   "execution_count": 63,
   "metadata": {},
   "outputs": [
    {
     "data": {
      "text/html": [
       "<div>\n",
       "<style scoped>\n",
       "    .dataframe tbody tr th:only-of-type {\n",
       "        vertical-align: middle;\n",
       "    }\n",
       "\n",
       "    .dataframe tbody tr th {\n",
       "        vertical-align: top;\n",
       "    }\n",
       "\n",
       "    .dataframe thead th {\n",
       "        text-align: right;\n",
       "    }\n",
       "</style>\n",
       "<table border=\"1\" class=\"dataframe\">\n",
       "  <thead>\n",
       "    <tr style=\"text-align: right;\">\n",
       "      <th></th>\n",
       "      <th>District</th>\n",
       "    </tr>\n",
       "  </thead>\n",
       "  <tbody>\n",
       "    <tr>\n",
       "      <td>0</td>\n",
       "      <td>Buhigwe</td>\n",
       "    </tr>\n",
       "    <tr>\n",
       "      <td>1</td>\n",
       "      <td>Magharibi</td>\n",
       "    </tr>\n",
       "    <tr>\n",
       "      <td>2</td>\n",
       "      <td>Morogoro Urban</td>\n",
       "    </tr>\n",
       "    <tr>\n",
       "      <td>3</td>\n",
       "      <td>Karatu</td>\n",
       "    </tr>\n",
       "    <tr>\n",
       "      <td>4</td>\n",
       "      <td>Nkasi</td>\n",
       "    </tr>\n",
       "  </tbody>\n",
       "</table>\n",
       "</div>"
      ],
      "text/plain": [
       "         District\n",
       "0         Buhigwe\n",
       "1       Magharibi\n",
       "2  Morogoro Urban\n",
       "3          Karatu\n",
       "4           Nkasi"
      ]
     },
     "execution_count": 63,
     "metadata": {},
     "output_type": "execute_result"
    }
   ],
   "source": [
    "df_dist_final.head()"
   ]
  },
  {
   "cell_type": "markdown",
   "metadata": {},
   "source": [
    "Compute the **Haversine** distance between each individual and the nearest financial access point"
   ]
  },
  {
   "cell_type": "code",
   "execution_count": 64,
   "metadata": {},
   "outputs": [],
   "source": [
    "def haversine(coord1,lat_2,lon_2):\n",
    "    lat_1,lon_1 = coord1 \n",
    "    r = 6371\n",
    "    phi1 = np.radians(lat_1)\n",
    "    lamda1 = np.radians(lon_1)\n",
    "    phi2 = np.radians(lat_2)\n",
    "    lambda2 = np.radians(lon_2)\n",
    "    delta_phi = phi2 - phi1\n",
    "    delta_lambda = lambda2 - lamda1\n",
    "    d = 2*r*np.arcsin(np.sqrt((1- np.cos(delta_phi))/2 + \\\n",
    "        np.cos(phi1)*np.cos(phi2)*(1- np.cos(delta_lambda))/2))\n",
    "    return d\n",
    "\n",
    "#Create a dataframe to store computed distances\n",
    "\n",
    "df_points = pd.DataFrame()\n",
    "\n",
    "# Individual lat lon coords\n",
    "\n",
    "indiv = df[['Latitude', 'Longitude']].apply(tuple, axis=1).values\n",
    "\n",
    "# Lat lon coords of each access point type\n",
    "\n",
    "access_points = {'mma': df_mma, 'bank': df_bank, 'atm': df_atm, 'sacco': df_sacco, 'tppp': df_tppp,\n",
    "                 'pos': df_pos, 'bus': df_bus, 'mfi': df_mfi, 'post': df_post}  \n",
    "\n",
    "# Compute min distance to each access point type\n",
    "\n",
    "for i, point_type in access_points.items():\n",
    "    distance = []\n",
    "    min_distance = []\n",
    "    for j in range(len(indiv)): \n",
    "        distance = haversine(indiv[j],point_type.latitude.values,point_type.longitude.values)\n",
    "        nearest = np.amin(distance)\n",
    "        min_distance.append(nearest)\n",
    "    df_points[i] = min_distance"
   ]
  },
  {
   "cell_type": "markdown",
   "metadata": {},
   "source": [
    "Compute pairwise correlations between access point distance measures and check for collinearity"
   ]
  },
  {
   "cell_type": "code",
   "execution_count": 65,
   "metadata": {},
   "outputs": [
    {
     "data": {
      "text/html": [
       "<div>\n",
       "<style scoped>\n",
       "    .dataframe tbody tr th:only-of-type {\n",
       "        vertical-align: middle;\n",
       "    }\n",
       "\n",
       "    .dataframe tbody tr th {\n",
       "        vertical-align: top;\n",
       "    }\n",
       "\n",
       "    .dataframe thead th {\n",
       "        text-align: right;\n",
       "    }\n",
       "</style>\n",
       "<table border=\"1\" class=\"dataframe\">\n",
       "  <thead>\n",
       "    <tr style=\"text-align: right;\">\n",
       "      <th></th>\n",
       "      <th>mma</th>\n",
       "      <th>bank</th>\n",
       "      <th>atm</th>\n",
       "      <th>sacco</th>\n",
       "      <th>tppp</th>\n",
       "      <th>pos</th>\n",
       "      <th>bus</th>\n",
       "      <th>mfi</th>\n",
       "      <th>post</th>\n",
       "    </tr>\n",
       "  </thead>\n",
       "  <tbody>\n",
       "    <tr>\n",
       "      <td>mma</td>\n",
       "      <td>1.000000</td>\n",
       "      <td>0.610205</td>\n",
       "      <td>0.610601</td>\n",
       "      <td>0.503445</td>\n",
       "      <td>0.348928</td>\n",
       "      <td>0.354833</td>\n",
       "      <td>0.303327</td>\n",
       "      <td>0.356203</td>\n",
       "      <td>0.469619</td>\n",
       "    </tr>\n",
       "    <tr>\n",
       "      <td>bank</td>\n",
       "      <td>0.610205</td>\n",
       "      <td>1.000000</td>\n",
       "      <td>0.877782</td>\n",
       "      <td>0.719958</td>\n",
       "      <td>0.422560</td>\n",
       "      <td>0.435872</td>\n",
       "      <td>0.399039</td>\n",
       "      <td>0.516396</td>\n",
       "      <td>0.598148</td>\n",
       "    </tr>\n",
       "    <tr>\n",
       "      <td>atm</td>\n",
       "      <td>0.610601</td>\n",
       "      <td>0.877782</td>\n",
       "      <td>1.000000</td>\n",
       "      <td>0.701286</td>\n",
       "      <td>0.423040</td>\n",
       "      <td>0.516346</td>\n",
       "      <td>0.396164</td>\n",
       "      <td>0.508369</td>\n",
       "      <td>0.565160</td>\n",
       "    </tr>\n",
       "    <tr>\n",
       "      <td>sacco</td>\n",
       "      <td>0.503445</td>\n",
       "      <td>0.719958</td>\n",
       "      <td>0.701286</td>\n",
       "      <td>1.000000</td>\n",
       "      <td>0.377937</td>\n",
       "      <td>0.394687</td>\n",
       "      <td>0.381210</td>\n",
       "      <td>0.633654</td>\n",
       "      <td>0.534067</td>\n",
       "    </tr>\n",
       "    <tr>\n",
       "      <td>tppp</td>\n",
       "      <td>0.348928</td>\n",
       "      <td>0.422560</td>\n",
       "      <td>0.423040</td>\n",
       "      <td>0.377937</td>\n",
       "      <td>1.000000</td>\n",
       "      <td>0.359677</td>\n",
       "      <td>0.807126</td>\n",
       "      <td>0.439752</td>\n",
       "      <td>0.817416</td>\n",
       "    </tr>\n",
       "    <tr>\n",
       "      <td>pos</td>\n",
       "      <td>0.354833</td>\n",
       "      <td>0.435872</td>\n",
       "      <td>0.516346</td>\n",
       "      <td>0.394687</td>\n",
       "      <td>0.359677</td>\n",
       "      <td>1.000000</td>\n",
       "      <td>0.376802</td>\n",
       "      <td>0.465901</td>\n",
       "      <td>0.285168</td>\n",
       "    </tr>\n",
       "    <tr>\n",
       "      <td>bus</td>\n",
       "      <td>0.303327</td>\n",
       "      <td>0.399039</td>\n",
       "      <td>0.396164</td>\n",
       "      <td>0.381210</td>\n",
       "      <td>0.807126</td>\n",
       "      <td>0.376802</td>\n",
       "      <td>1.000000</td>\n",
       "      <td>0.467924</td>\n",
       "      <td>0.672610</td>\n",
       "    </tr>\n",
       "    <tr>\n",
       "      <td>mfi</td>\n",
       "      <td>0.356203</td>\n",
       "      <td>0.516396</td>\n",
       "      <td>0.508369</td>\n",
       "      <td>0.633654</td>\n",
       "      <td>0.439752</td>\n",
       "      <td>0.465901</td>\n",
       "      <td>0.467924</td>\n",
       "      <td>1.000000</td>\n",
       "      <td>0.363848</td>\n",
       "    </tr>\n",
       "    <tr>\n",
       "      <td>post</td>\n",
       "      <td>0.469619</td>\n",
       "      <td>0.598148</td>\n",
       "      <td>0.565160</td>\n",
       "      <td>0.534067</td>\n",
       "      <td>0.817416</td>\n",
       "      <td>0.285168</td>\n",
       "      <td>0.672610</td>\n",
       "      <td>0.363848</td>\n",
       "      <td>1.000000</td>\n",
       "    </tr>\n",
       "  </tbody>\n",
       "</table>\n",
       "</div>"
      ],
      "text/plain": [
       "            mma      bank       atm     sacco      tppp       pos       bus  \\\n",
       "mma    1.000000  0.610205  0.610601  0.503445  0.348928  0.354833  0.303327   \n",
       "bank   0.610205  1.000000  0.877782  0.719958  0.422560  0.435872  0.399039   \n",
       "atm    0.610601  0.877782  1.000000  0.701286  0.423040  0.516346  0.396164   \n",
       "sacco  0.503445  0.719958  0.701286  1.000000  0.377937  0.394687  0.381210   \n",
       "tppp   0.348928  0.422560  0.423040  0.377937  1.000000  0.359677  0.807126   \n",
       "pos    0.354833  0.435872  0.516346  0.394687  0.359677  1.000000  0.376802   \n",
       "bus    0.303327  0.399039  0.396164  0.381210  0.807126  0.376802  1.000000   \n",
       "mfi    0.356203  0.516396  0.508369  0.633654  0.439752  0.465901  0.467924   \n",
       "post   0.469619  0.598148  0.565160  0.534067  0.817416  0.285168  0.672610   \n",
       "\n",
       "            mfi      post  \n",
       "mma    0.356203  0.469619  \n",
       "bank   0.516396  0.598148  \n",
       "atm    0.508369  0.565160  \n",
       "sacco  0.633654  0.534067  \n",
       "tppp   0.439752  0.817416  \n",
       "pos    0.465901  0.285168  \n",
       "bus    0.467924  0.672610  \n",
       "mfi    1.000000  0.363848  \n",
       "post   0.363848  1.000000  "
      ]
     },
     "execution_count": 65,
     "metadata": {},
     "output_type": "execute_result"
    }
   ],
   "source": [
    "df_points.corr()"
   ]
  },
  {
   "cell_type": "markdown",
   "metadata": {},
   "source": [
    "As expected, distance to the nearest **bank** and **atm** are highly correlated."
   ]
  },
  {
   "cell_type": "markdown",
   "metadata": {},
   "source": [
    "There is a very small number of **bus stops** and **post offices** - drop these columns."
   ]
  },
  {
   "cell_type": "code",
   "execution_count": 66,
   "metadata": {},
   "outputs": [
    {
     "data": {
      "text/plain": [
       "180"
      ]
     },
     "execution_count": 66,
     "metadata": {},
     "output_type": "execute_result"
    }
   ],
   "source": [
    "df_post.shape[0]"
   ]
  },
  {
   "cell_type": "code",
   "execution_count": 67,
   "metadata": {},
   "outputs": [
    {
     "data": {
      "text/plain": [
       "49"
      ]
     },
     "execution_count": 67,
     "metadata": {},
     "output_type": "execute_result"
    }
   ],
   "source": [
    "df_bus.shape[0]"
   ]
  },
  {
   "cell_type": "code",
   "execution_count": 68,
   "metadata": {},
   "outputs": [],
   "source": [
    "cols = ['post','bus']\n",
    "df_points.drop(columns=cols,inplace=True)"
   ]
  },
  {
   "cell_type": "markdown",
   "metadata": {},
   "source": [
    "Plot the distribution of the distance to the nearest **mobile money agent** by the target"
   ]
  },
  {
   "cell_type": "markdown",
   "metadata": {},
   "source": [
    "First, add the target to df_points"
   ]
  },
  {
   "cell_type": "code",
   "execution_count": 69,
   "metadata": {},
   "outputs": [],
   "source": [
    "df_points['Service_Type'] = df['Service_Type']"
   ]
  },
  {
   "cell_type": "code",
   "execution_count": 70,
   "metadata": {},
   "outputs": [
    {
     "data": {
      "text/html": [
       "<div>\n",
       "<style scoped>\n",
       "    .dataframe tbody tr th:only-of-type {\n",
       "        vertical-align: middle;\n",
       "    }\n",
       "\n",
       "    .dataframe tbody tr th {\n",
       "        vertical-align: top;\n",
       "    }\n",
       "\n",
       "    .dataframe thead th {\n",
       "        text-align: right;\n",
       "    }\n",
       "</style>\n",
       "<table border=\"1\" class=\"dataframe\">\n",
       "  <thead>\n",
       "    <tr style=\"text-align: right;\">\n",
       "      <th></th>\n",
       "      <th>mma</th>\n",
       "      <th>bank</th>\n",
       "      <th>atm</th>\n",
       "      <th>sacco</th>\n",
       "      <th>tppp</th>\n",
       "      <th>pos</th>\n",
       "      <th>mfi</th>\n",
       "      <th>Service_Type</th>\n",
       "    </tr>\n",
       "  </thead>\n",
       "  <tbody>\n",
       "    <tr>\n",
       "      <td>0</td>\n",
       "      <td>3.245788</td>\n",
       "      <td>34.077154</td>\n",
       "      <td>50.664821</td>\n",
       "      <td>32.174329</td>\n",
       "      <td>34.086475</td>\n",
       "      <td>227.225120</td>\n",
       "      <td>33.904747</td>\n",
       "      <td>0</td>\n",
       "    </tr>\n",
       "    <tr>\n",
       "      <td>1</td>\n",
       "      <td>1.292799</td>\n",
       "      <td>2.210803</td>\n",
       "      <td>2.207341</td>\n",
       "      <td>4.918423</td>\n",
       "      <td>2.363903</td>\n",
       "      <td>5.613890</td>\n",
       "      <td>2.417876</td>\n",
       "      <td>3</td>\n",
       "    </tr>\n",
       "    <tr>\n",
       "      <td>2</td>\n",
       "      <td>0.122506</td>\n",
       "      <td>1.128424</td>\n",
       "      <td>1.084240</td>\n",
       "      <td>0.335244</td>\n",
       "      <td>0.288060</td>\n",
       "      <td>139.064094</td>\n",
       "      <td>1.224672</td>\n",
       "      <td>2</td>\n",
       "    </tr>\n",
       "    <tr>\n",
       "      <td>3</td>\n",
       "      <td>0.031501</td>\n",
       "      <td>14.748761</td>\n",
       "      <td>6.268469</td>\n",
       "      <td>5.115917</td>\n",
       "      <td>5.143686</td>\n",
       "      <td>37.040948</td>\n",
       "      <td>14.971460</td>\n",
       "      <td>3</td>\n",
       "    </tr>\n",
       "    <tr>\n",
       "      <td>4</td>\n",
       "      <td>7.665565</td>\n",
       "      <td>35.903198</td>\n",
       "      <td>35.885429</td>\n",
       "      <td>36.110567</td>\n",
       "      <td>250.102209</td>\n",
       "      <td>106.685663</td>\n",
       "      <td>107.664933</td>\n",
       "      <td>3</td>\n",
       "    </tr>\n",
       "  </tbody>\n",
       "</table>\n",
       "</div>"
      ],
      "text/plain": [
       "        mma       bank        atm      sacco        tppp         pos  \\\n",
       "0  3.245788  34.077154  50.664821  32.174329   34.086475  227.225120   \n",
       "1  1.292799   2.210803   2.207341   4.918423    2.363903    5.613890   \n",
       "2  0.122506   1.128424   1.084240   0.335244    0.288060  139.064094   \n",
       "3  0.031501  14.748761   6.268469   5.115917    5.143686   37.040948   \n",
       "4  7.665565  35.903198  35.885429  36.110567  250.102209  106.685663   \n",
       "\n",
       "          mfi  Service_Type  \n",
       "0   33.904747             0  \n",
       "1    2.417876             3  \n",
       "2    1.224672             2  \n",
       "3   14.971460             3  \n",
       "4  107.664933             3  "
      ]
     },
     "execution_count": 70,
     "metadata": {},
     "output_type": "execute_result"
    }
   ],
   "source": [
    "df_points.head()"
   ]
  },
  {
   "cell_type": "markdown",
   "metadata": {},
   "source": [
    "**Top code** outliers"
   ]
  },
  {
   "cell_type": "code",
   "execution_count": 71,
   "metadata": {},
   "outputs": [
    {
     "data": {
      "text/plain": [
       "142"
      ]
     },
     "execution_count": 71,
     "metadata": {},
     "output_type": "execute_result"
    }
   ],
   "source": [
    "df_points.mma.loc[df_points.mma > df_points.mma.quantile(.98)].count()"
   ]
  },
  {
   "cell_type": "code",
   "execution_count": 72,
   "metadata": {},
   "outputs": [],
   "source": [
    "df_points['mma_top'] = df_points.mma"
   ]
  },
  {
   "cell_type": "code",
   "execution_count": 73,
   "metadata": {},
   "outputs": [],
   "source": [
    "thresh = df_points.mma_top.quantile(.98)"
   ]
  },
  {
   "cell_type": "code",
   "execution_count": 74,
   "metadata": {},
   "outputs": [
    {
     "data": {
      "text/plain": [
       "44.20228770027235"
      ]
     },
     "execution_count": 74,
     "metadata": {},
     "output_type": "execute_result"
    }
   ],
   "source": [
    "thresh"
   ]
  },
  {
   "cell_type": "code",
   "execution_count": 75,
   "metadata": {},
   "outputs": [],
   "source": [
    "df_points.loc[df_points.mma_top > thresh, 'mma_top'] = thresh"
   ]
  },
  {
   "cell_type": "code",
   "execution_count": 76,
   "metadata": {},
   "outputs": [
    {
     "data": {
      "image/png": "[encoded data removed]",
      "text/plain": [
       "<Figure size 720x432 with 1 Axes>"
      ]
     },
     "metadata": {
      "needs_background": "light"
     },
     "output_type": "display_data"
    }
   ],
   "source": [
    "service_types = ['0: No_financial_services','1: Other_only','2: Mm_only','3: Mm_plus']\n",
    "index = [service_type for service_type in service_types]    \n",
    "\n",
    "fig = plt.gcf()\n",
    "fig.set_size_inches(10, 6)\n",
    "ax = sns.boxplot(x ='mma_top', y = 'Service_Type', data = df_points, orient = 'h')\n",
    "ax.set_yticklabels(['0: No_financial_services','1: Other_only','2: Mm_only','3: Mm_plus'], fontsize=14)\n",
    "ax.set_ylabel(\"\")\n",
    "ax.set_xlabel('Distance To Nearest Mobile Money Agent (km)', fontsize=14)\n",
    "ax.tick_params(axis=\"x\", labelsize=14)\n",
    "\n",
    "\n",
    "plt.show()"
   ]
  },
  {
   "cell_type": "markdown",
   "metadata": {},
   "source": [
    "The mean distance to the nearest mobile money agent is higher for **'No_financial_services'** and **'Other_only'** than for **'Mm_only'** and **'Mm_plus'**"
   ]
  },
  {
   "cell_type": "markdown",
   "metadata": {},
   "source": [
    "Handle outliers by **discretizing** the distances to the nearest access points.  \n",
    "\n",
    "Use equal frequency binning to minimize loss of information."
   ]
  },
  {
   "cell_type": "code",
   "execution_count": 77,
   "metadata": {},
   "outputs": [],
   "source": [
    "for col in df_points.columns.difference(['Service_Type']):\n",
    "    df_points[col + '_band'], bins_dist = pd.qcut(df_points[col],8,labels = [0,1,2,3,4,5,6,7], retbins= True)"
   ]
  },
  {
   "cell_type": "markdown",
   "metadata": {},
   "source": [
    "Drop continuous valued columns"
   ]
  },
  {
   "cell_type": "code",
   "execution_count": 78,
   "metadata": {},
   "outputs": [],
   "source": [
    "cols = ['mma','bank','atm','sacco','tppp','pos','mfi','mma_top','mma_top_band']\n",
    "df_points.drop(columns=cols,inplace=True)"
   ]
  },
  {
   "cell_type": "code",
   "execution_count": 79,
   "metadata": {},
   "outputs": [
    {
     "data": {
      "text/html": [
       "<div>\n",
       "<style scoped>\n",
       "    .dataframe tbody tr th:only-of-type {\n",
       "        vertical-align: middle;\n",
       "    }\n",
       "\n",
       "    .dataframe tbody tr th {\n",
       "        vertical-align: top;\n",
       "    }\n",
       "\n",
       "    .dataframe thead th {\n",
       "        text-align: right;\n",
       "    }\n",
       "</style>\n",
       "<table border=\"1\" class=\"dataframe\">\n",
       "  <thead>\n",
       "    <tr style=\"text-align: right;\">\n",
       "      <th></th>\n",
       "      <th>Service_Type</th>\n",
       "      <th>atm_band</th>\n",
       "      <th>bank_band</th>\n",
       "      <th>mfi_band</th>\n",
       "      <th>mma_band</th>\n",
       "      <th>pos_band</th>\n",
       "      <th>sacco_band</th>\n",
       "      <th>tppp_band</th>\n",
       "    </tr>\n",
       "  </thead>\n",
       "  <tbody>\n",
       "    <tr>\n",
       "      <td>0</td>\n",
       "      <td>0</td>\n",
       "      <td>6</td>\n",
       "      <td>5</td>\n",
       "      <td>4</td>\n",
       "      <td>3</td>\n",
       "      <td>7</td>\n",
       "      <td>5</td>\n",
       "      <td>5</td>\n",
       "    </tr>\n",
       "    <tr>\n",
       "      <td>1</td>\n",
       "      <td>3</td>\n",
       "      <td>1</td>\n",
       "      <td>1</td>\n",
       "      <td>1</td>\n",
       "      <td>3</td>\n",
       "      <td>1</td>\n",
       "      <td>2</td>\n",
       "      <td>1</td>\n",
       "    </tr>\n",
       "    <tr>\n",
       "      <td>2</td>\n",
       "      <td>2</td>\n",
       "      <td>0</td>\n",
       "      <td>0</td>\n",
       "      <td>0</td>\n",
       "      <td>1</td>\n",
       "      <td>7</td>\n",
       "      <td>0</td>\n",
       "      <td>0</td>\n",
       "    </tr>\n",
       "    <tr>\n",
       "      <td>3</td>\n",
       "      <td>3</td>\n",
       "      <td>2</td>\n",
       "      <td>3</td>\n",
       "      <td>2</td>\n",
       "      <td>0</td>\n",
       "      <td>4</td>\n",
       "      <td>2</td>\n",
       "      <td>2</td>\n",
       "    </tr>\n",
       "    <tr>\n",
       "      <td>4</td>\n",
       "      <td>3</td>\n",
       "      <td>5</td>\n",
       "      <td>5</td>\n",
       "      <td>7</td>\n",
       "      <td>4</td>\n",
       "      <td>7</td>\n",
       "      <td>6</td>\n",
       "      <td>7</td>\n",
       "    </tr>\n",
       "  </tbody>\n",
       "</table>\n",
       "</div>"
      ],
      "text/plain": [
       "   Service_Type atm_band bank_band mfi_band mma_band pos_band sacco_band  \\\n",
       "0             0        6         5        4        3        7          5   \n",
       "1             3        1         1        1        3        1          2   \n",
       "2             2        0         0        0        1        7          0   \n",
       "3             3        2         3        2        0        4          2   \n",
       "4             3        5         5        7        4        7          6   \n",
       "\n",
       "  tppp_band  \n",
       "0         5  \n",
       "1         1  \n",
       "2         0  \n",
       "3         2  \n",
       "4         7  "
      ]
     },
     "execution_count": 79,
     "metadata": {},
     "output_type": "execute_result"
    }
   ],
   "source": [
    "df_points.head()"
   ]
  },
  {
   "cell_type": "markdown",
   "metadata": {},
   "source": [
    "Compute pairwise associations between access point distances and between distances and the target.  Check for collinearity."
   ]
  },
  {
   "cell_type": "code",
   "execution_count": 80,
   "metadata": {},
   "outputs": [],
   "source": [
    "# Matrix of pairwise associations\n",
    "v_mat_access = pd.DataFrame()\n",
    "v_mat_access = pd.DataFrame(index = df_points.columns)\n",
    "\n",
    "for i in df_points.columns:\n",
    "    stats = []\n",
    "    for j in df_points.columns:\n",
    "        v_hat = cramersv(df_points[i],df_points[j])\n",
    "        stats.append(v_hat)\n",
    "    v_mat_access[i] = stats"
   ]
  },
  {
   "cell_type": "code",
   "execution_count": 81,
   "metadata": {},
   "outputs": [
    {
     "data": {
      "text/html": [
       "<div>\n",
       "<style scoped>\n",
       "    .dataframe tbody tr th:only-of-type {\n",
       "        vertical-align: middle;\n",
       "    }\n",
       "\n",
       "    .dataframe tbody tr th {\n",
       "        vertical-align: top;\n",
       "    }\n",
       "\n",
       "    .dataframe thead th {\n",
       "        text-align: right;\n",
       "    }\n",
       "</style>\n",
       "<table border=\"1\" class=\"dataframe\">\n",
       "  <thead>\n",
       "    <tr style=\"text-align: right;\">\n",
       "      <th></th>\n",
       "      <th>Service_Type</th>\n",
       "      <th>atm_band</th>\n",
       "      <th>bank_band</th>\n",
       "      <th>mfi_band</th>\n",
       "      <th>mma_band</th>\n",
       "      <th>pos_band</th>\n",
       "      <th>sacco_band</th>\n",
       "      <th>tppp_band</th>\n",
       "    </tr>\n",
       "  </thead>\n",
       "  <tbody>\n",
       "    <tr>\n",
       "      <td>Service_Type</td>\n",
       "      <td>1.000000</td>\n",
       "      <td>0.150910</td>\n",
       "      <td>0.141311</td>\n",
       "      <td>0.129274</td>\n",
       "      <td>0.153761</td>\n",
       "      <td>0.134250</td>\n",
       "      <td>0.139082</td>\n",
       "      <td>0.154327</td>\n",
       "    </tr>\n",
       "    <tr>\n",
       "      <td>atm_band</td>\n",
       "      <td>0.150910</td>\n",
       "      <td>1.000000</td>\n",
       "      <td>0.734877</td>\n",
       "      <td>0.486663</td>\n",
       "      <td>0.324912</td>\n",
       "      <td>0.442370</td>\n",
       "      <td>0.446951</td>\n",
       "      <td>0.468047</td>\n",
       "    </tr>\n",
       "    <tr>\n",
       "      <td>bank_band</td>\n",
       "      <td>0.141311</td>\n",
       "      <td>0.734877</td>\n",
       "      <td>1.000000</td>\n",
       "      <td>0.498438</td>\n",
       "      <td>0.310712</td>\n",
       "      <td>0.437048</td>\n",
       "      <td>0.437829</td>\n",
       "      <td>0.440413</td>\n",
       "    </tr>\n",
       "    <tr>\n",
       "      <td>mfi_band</td>\n",
       "      <td>0.129274</td>\n",
       "      <td>0.486663</td>\n",
       "      <td>0.498438</td>\n",
       "      <td>1.000000</td>\n",
       "      <td>0.263256</td>\n",
       "      <td>0.463440</td>\n",
       "      <td>0.411998</td>\n",
       "      <td>0.372326</td>\n",
       "    </tr>\n",
       "    <tr>\n",
       "      <td>mma_band</td>\n",
       "      <td>0.153761</td>\n",
       "      <td>0.324912</td>\n",
       "      <td>0.310712</td>\n",
       "      <td>0.263256</td>\n",
       "      <td>1.000000</td>\n",
       "      <td>0.271989</td>\n",
       "      <td>0.347791</td>\n",
       "      <td>0.378257</td>\n",
       "    </tr>\n",
       "    <tr>\n",
       "      <td>pos_band</td>\n",
       "      <td>0.134250</td>\n",
       "      <td>0.442370</td>\n",
       "      <td>0.437048</td>\n",
       "      <td>0.463440</td>\n",
       "      <td>0.271989</td>\n",
       "      <td>1.000000</td>\n",
       "      <td>0.386405</td>\n",
       "      <td>0.378992</td>\n",
       "    </tr>\n",
       "    <tr>\n",
       "      <td>sacco_band</td>\n",
       "      <td>0.139082</td>\n",
       "      <td>0.446951</td>\n",
       "      <td>0.437829</td>\n",
       "      <td>0.411998</td>\n",
       "      <td>0.347791</td>\n",
       "      <td>0.386405</td>\n",
       "      <td>1.000000</td>\n",
       "      <td>0.394914</td>\n",
       "    </tr>\n",
       "    <tr>\n",
       "      <td>tppp_band</td>\n",
       "      <td>0.154327</td>\n",
       "      <td>0.468047</td>\n",
       "      <td>0.440413</td>\n",
       "      <td>0.372326</td>\n",
       "      <td>0.378257</td>\n",
       "      <td>0.378992</td>\n",
       "      <td>0.394914</td>\n",
       "      <td>1.000000</td>\n",
       "    </tr>\n",
       "  </tbody>\n",
       "</table>\n",
       "</div>"
      ],
      "text/plain": [
       "              Service_Type  atm_band  bank_band  mfi_band  mma_band  pos_band  \\\n",
       "Service_Type      1.000000  0.150910   0.141311  0.129274  0.153761  0.134250   \n",
       "atm_band          0.150910  1.000000   0.734877  0.486663  0.324912  0.442370   \n",
       "bank_band         0.141311  0.734877   1.000000  0.498438  0.310712  0.437048   \n",
       "mfi_band          0.129274  0.486663   0.498438  1.000000  0.263256  0.463440   \n",
       "mma_band          0.153761  0.324912   0.310712  0.263256  1.000000  0.271989   \n",
       "pos_band          0.134250  0.442370   0.437048  0.463440  0.271989  1.000000   \n",
       "sacco_band        0.139082  0.446951   0.437829  0.411998  0.347791  0.386405   \n",
       "tppp_band         0.154327  0.468047   0.440413  0.372326  0.378257  0.378992   \n",
       "\n",
       "              sacco_band  tppp_band  \n",
       "Service_Type    0.139082   0.154327  \n",
       "atm_band        0.446951   0.468047  \n",
       "bank_band       0.437829   0.440413  \n",
       "mfi_band        0.411998   0.372326  \n",
       "mma_band        0.347791   0.378257  \n",
       "pos_band        0.386405   0.378992  \n",
       "sacco_band      1.000000   0.394914  \n",
       "tppp_band       0.394914   1.000000  "
      ]
     },
     "execution_count": 81,
     "metadata": {},
     "output_type": "execute_result"
    }
   ],
   "source": [
    "v_mat_access"
   ]
  },
  {
   "cell_type": "markdown",
   "metadata": {},
   "source": [
    "**'bank_band'** is highly associated with **'atm_band'** and has a lower association with 'Service_Type' \n",
    "\n",
    "Create a new dataframe called **df_points_final** and drop **'bank_band'** and 'Service_Type'"
   ]
  },
  {
   "cell_type": "code",
   "execution_count": 82,
   "metadata": {},
   "outputs": [],
   "source": [
    "df_points_final = df_points.copy()\n",
    "cols = ['bank_band','Service_Type']\n",
    "df_points_final.drop(columns = cols,inplace=True)"
   ]
  },
  {
   "cell_type": "code",
   "execution_count": 83,
   "metadata": {},
   "outputs": [
    {
     "data": {
      "text/html": [
       "<div>\n",
       "<style scoped>\n",
       "    .dataframe tbody tr th:only-of-type {\n",
       "        vertical-align: middle;\n",
       "    }\n",
       "\n",
       "    .dataframe tbody tr th {\n",
       "        vertical-align: top;\n",
       "    }\n",
       "\n",
       "    .dataframe thead th {\n",
       "        text-align: right;\n",
       "    }\n",
       "</style>\n",
       "<table border=\"1\" class=\"dataframe\">\n",
       "  <thead>\n",
       "    <tr style=\"text-align: right;\">\n",
       "      <th></th>\n",
       "      <th>atm_band</th>\n",
       "      <th>mfi_band</th>\n",
       "      <th>mma_band</th>\n",
       "      <th>pos_band</th>\n",
       "      <th>sacco_band</th>\n",
       "      <th>tppp_band</th>\n",
       "    </tr>\n",
       "  </thead>\n",
       "  <tbody>\n",
       "    <tr>\n",
       "      <td>0</td>\n",
       "      <td>6</td>\n",
       "      <td>4</td>\n",
       "      <td>3</td>\n",
       "      <td>7</td>\n",
       "      <td>5</td>\n",
       "      <td>5</td>\n",
       "    </tr>\n",
       "    <tr>\n",
       "      <td>1</td>\n",
       "      <td>1</td>\n",
       "      <td>1</td>\n",
       "      <td>3</td>\n",
       "      <td>1</td>\n",
       "      <td>2</td>\n",
       "      <td>1</td>\n",
       "    </tr>\n",
       "    <tr>\n",
       "      <td>2</td>\n",
       "      <td>0</td>\n",
       "      <td>0</td>\n",
       "      <td>1</td>\n",
       "      <td>7</td>\n",
       "      <td>0</td>\n",
       "      <td>0</td>\n",
       "    </tr>\n",
       "    <tr>\n",
       "      <td>3</td>\n",
       "      <td>2</td>\n",
       "      <td>2</td>\n",
       "      <td>0</td>\n",
       "      <td>4</td>\n",
       "      <td>2</td>\n",
       "      <td>2</td>\n",
       "    </tr>\n",
       "    <tr>\n",
       "      <td>4</td>\n",
       "      <td>5</td>\n",
       "      <td>7</td>\n",
       "      <td>4</td>\n",
       "      <td>7</td>\n",
       "      <td>6</td>\n",
       "      <td>7</td>\n",
       "    </tr>\n",
       "  </tbody>\n",
       "</table>\n",
       "</div>"
      ],
      "text/plain": [
       "  atm_band mfi_band mma_band pos_band sacco_band tppp_band\n",
       "0        6        4        3        7          5         5\n",
       "1        1        1        3        1          2         1\n",
       "2        0        0        1        7          0         0\n",
       "3        2        2        0        4          2         2\n",
       "4        5        7        4        7          6         7"
      ]
     },
     "execution_count": 83,
     "metadata": {},
     "output_type": "execute_result"
    }
   ],
   "source": [
    "df_points_final.head()"
   ]
  },
  {
   "cell_type": "markdown",
   "metadata": {},
   "source": [
    "**District** has **high cardinality**.  \n",
    "\n",
    "**Mean (likelihood) encoding**"
   ]
  },
  {
   "cell_type": "markdown",
   "metadata": {},
   "source": [
    "One-hot encode the target then drop one column (all four target columns are linearly dependent). "
   ]
  },
  {
   "cell_type": "code",
   "execution_count": 84,
   "metadata": {},
   "outputs": [],
   "source": [
    "df_mean = df_dist_final.copy()\n",
    "df_mean['Service_Type'] = df['Service_Type']\n",
    "df_mean = pd.get_dummies(df_mean, columns=['Service_Type'], drop_first = True)"
   ]
  },
  {
   "cell_type": "code",
   "execution_count": 85,
   "metadata": {},
   "outputs": [
    {
     "data": {
      "text/html": [
       "<div>\n",
       "<style scoped>\n",
       "    .dataframe tbody tr th:only-of-type {\n",
       "        vertical-align: middle;\n",
       "    }\n",
       "\n",
       "    .dataframe tbody tr th {\n",
       "        vertical-align: top;\n",
       "    }\n",
       "\n",
       "    .dataframe thead th {\n",
       "        text-align: right;\n",
       "    }\n",
       "</style>\n",
       "<table border=\"1\" class=\"dataframe\">\n",
       "  <thead>\n",
       "    <tr style=\"text-align: right;\">\n",
       "      <th></th>\n",
       "      <th>District</th>\n",
       "      <th>Service_Type_1</th>\n",
       "      <th>Service_Type_2</th>\n",
       "      <th>Service_Type_3</th>\n",
       "    </tr>\n",
       "  </thead>\n",
       "  <tbody>\n",
       "    <tr>\n",
       "      <td>0</td>\n",
       "      <td>Buhigwe</td>\n",
       "      <td>0</td>\n",
       "      <td>0</td>\n",
       "      <td>0</td>\n",
       "    </tr>\n",
       "    <tr>\n",
       "      <td>1</td>\n",
       "      <td>Magharibi</td>\n",
       "      <td>0</td>\n",
       "      <td>0</td>\n",
       "      <td>1</td>\n",
       "    </tr>\n",
       "    <tr>\n",
       "      <td>2</td>\n",
       "      <td>Morogoro Urban</td>\n",
       "      <td>0</td>\n",
       "      <td>1</td>\n",
       "      <td>0</td>\n",
       "    </tr>\n",
       "    <tr>\n",
       "      <td>3</td>\n",
       "      <td>Karatu</td>\n",
       "      <td>0</td>\n",
       "      <td>0</td>\n",
       "      <td>1</td>\n",
       "    </tr>\n",
       "    <tr>\n",
       "      <td>4</td>\n",
       "      <td>Nkasi</td>\n",
       "      <td>0</td>\n",
       "      <td>0</td>\n",
       "      <td>1</td>\n",
       "    </tr>\n",
       "  </tbody>\n",
       "</table>\n",
       "</div>"
      ],
      "text/plain": [
       "         District  Service_Type_1  Service_Type_2  Service_Type_3\n",
       "0         Buhigwe               0               0               0\n",
       "1       Magharibi               0               0               1\n",
       "2  Morogoro Urban               0               1               0\n",
       "3          Karatu               0               0               1\n",
       "4           Nkasi               0               0               1"
      ]
     },
     "execution_count": 85,
     "metadata": {},
     "output_type": "execute_result"
    }
   ],
   "source": [
    "df_mean.head()"
   ]
  },
  {
   "cell_type": "markdown",
   "metadata": {},
   "source": [
    "Get the 3 (i.e. N-1) target labels"
   ]
  },
  {
   "cell_type": "code",
   "execution_count": 86,
   "metadata": {},
   "outputs": [],
   "source": [
    "target_labels = df_mean.columns.difference(['District'])"
   ]
  },
  {
   "cell_type": "code",
   "execution_count": 87,
   "metadata": {},
   "outputs": [
    {
     "data": {
      "text/plain": [
       "Index(['Service_Type_1', 'Service_Type_2', 'Service_Type_3'], dtype='object')"
      ]
     },
     "execution_count": 87,
     "metadata": {},
     "output_type": "execute_result"
    }
   ],
   "source": [
    "target_labels"
   ]
  },
  {
   "cell_type": "markdown",
   "metadata": {},
   "source": [
    "Mean encode 'District'"
   ]
  },
  {
   "cell_type": "markdown",
   "metadata": {},
   "source": [
    "First, get the frequency distribution of District values"
   ]
  },
  {
   "cell_type": "code",
   "execution_count": 88,
   "metadata": {},
   "outputs": [
    {
     "data": {
      "text/plain": [
       "count    169.000000\n",
       "mean      41.976331\n",
       "std       26.654525\n",
       "min        7.000000\n",
       "25%       23.000000\n",
       "50%       35.000000\n",
       "75%       53.000000\n",
       "max      143.000000\n",
       "Name: District, dtype: float64"
      ]
     },
     "execution_count": 88,
     "metadata": {},
     "output_type": "execute_result"
    }
   ],
   "source": [
    "df_mean.District.value_counts().describe()"
   ]
  },
  {
   "cell_type": "markdown",
   "metadata": {},
   "source": [
    "Average number of training examples for each District is 42"
   ]
  },
  {
   "cell_type": "markdown",
   "metadata": {},
   "source": [
    "**Additive smoothing**\n",
    "\n",
    "Set the smoothing factor to 25"
   ]
  },
  {
   "cell_type": "code",
   "execution_count": 89,
   "metadata": {},
   "outputs": [],
   "source": [
    "import category_encoders as ce\n",
    "\n",
    "encoder = ce.MEstimateEncoder(m = 25)\n",
    "\n",
    "for label in target_labels:\n",
    "    df_mean['Mean_' + label] = encoder.fit_transform(df_mean.District,df_mean[label])"
   ]
  },
  {
   "cell_type": "code",
   "execution_count": 90,
   "metadata": {},
   "outputs": [
    {
     "data": {
      "text/html": [
       "<div>\n",
       "<style scoped>\n",
       "    .dataframe tbody tr th:only-of-type {\n",
       "        vertical-align: middle;\n",
       "    }\n",
       "\n",
       "    .dataframe tbody tr th {\n",
       "        vertical-align: top;\n",
       "    }\n",
       "\n",
       "    .dataframe thead th {\n",
       "        text-align: right;\n",
       "    }\n",
       "</style>\n",
       "<table border=\"1\" class=\"dataframe\">\n",
       "  <thead>\n",
       "    <tr style=\"text-align: right;\">\n",
       "      <th></th>\n",
       "      <th>District</th>\n",
       "      <th>Service_Type_1</th>\n",
       "      <th>Service_Type_2</th>\n",
       "      <th>Service_Type_3</th>\n",
       "      <th>Mean_Service_Type_1</th>\n",
       "      <th>Mean_Service_Type_2</th>\n",
       "      <th>Mean_Service_Type_3</th>\n",
       "    </tr>\n",
       "  </thead>\n",
       "  <tbody>\n",
       "    <tr>\n",
       "      <td>0</td>\n",
       "      <td>Buhigwe</td>\n",
       "      <td>0</td>\n",
       "      <td>0</td>\n",
       "      <td>0</td>\n",
       "      <td>0.259379</td>\n",
       "      <td>0.069698</td>\n",
       "      <td>0.491206</td>\n",
       "    </tr>\n",
       "    <tr>\n",
       "      <td>1</td>\n",
       "      <td>Magharibi</td>\n",
       "      <td>0</td>\n",
       "      <td>0</td>\n",
       "      <td>1</td>\n",
       "      <td>0.244438</td>\n",
       "      <td>0.112374</td>\n",
       "      <td>0.409215</td>\n",
       "    </tr>\n",
       "    <tr>\n",
       "      <td>2</td>\n",
       "      <td>Morogoro Urban</td>\n",
       "      <td>0</td>\n",
       "      <td>1</td>\n",
       "      <td>0</td>\n",
       "      <td>0.168973</td>\n",
       "      <td>0.135660</td>\n",
       "      <td>0.581776</td>\n",
       "    </tr>\n",
       "    <tr>\n",
       "      <td>3</td>\n",
       "      <td>Karatu</td>\n",
       "      <td>0</td>\n",
       "      <td>0</td>\n",
       "      <td>1</td>\n",
       "      <td>0.283047</td>\n",
       "      <td>0.128416</td>\n",
       "      <td>0.459284</td>\n",
       "    </tr>\n",
       "    <tr>\n",
       "      <td>4</td>\n",
       "      <td>Nkasi</td>\n",
       "      <td>0</td>\n",
       "      <td>0</td>\n",
       "      <td>1</td>\n",
       "      <td>0.413502</td>\n",
       "      <td>0.077342</td>\n",
       "      <td>0.274617</td>\n",
       "    </tr>\n",
       "  </tbody>\n",
       "</table>\n",
       "</div>"
      ],
      "text/plain": [
       "         District  Service_Type_1  Service_Type_2  Service_Type_3  \\\n",
       "0         Buhigwe               0               0               0   \n",
       "1       Magharibi               0               0               1   \n",
       "2  Morogoro Urban               0               1               0   \n",
       "3          Karatu               0               0               1   \n",
       "4           Nkasi               0               0               1   \n",
       "\n",
       "   Mean_Service_Type_1  Mean_Service_Type_2  Mean_Service_Type_3  \n",
       "0             0.259379             0.069698             0.491206  \n",
       "1             0.244438             0.112374             0.409215  \n",
       "2             0.168973             0.135660             0.581776  \n",
       "3             0.283047             0.128416             0.459284  \n",
       "4             0.413502             0.077342             0.274617  "
      ]
     },
     "execution_count": 90,
     "metadata": {},
     "output_type": "execute_result"
    }
   ],
   "source": [
    "df_mean.head()"
   ]
  },
  {
   "cell_type": "code",
   "execution_count": 91,
   "metadata": {},
   "outputs": [],
   "source": [
    "df_mean_final = df_mean.copy()\n",
    "cols = ['District','Service_Type_1','Service_Type_2','Service_Type_3']\n",
    "df_mean_final.drop(columns = cols,inplace=True)"
   ]
  },
  {
   "cell_type": "code",
   "execution_count": 92,
   "metadata": {},
   "outputs": [
    {
     "data": {
      "text/html": [
       "<div>\n",
       "<style scoped>\n",
       "    .dataframe tbody tr th:only-of-type {\n",
       "        vertical-align: middle;\n",
       "    }\n",
       "\n",
       "    .dataframe tbody tr th {\n",
       "        vertical-align: top;\n",
       "    }\n",
       "\n",
       "    .dataframe thead th {\n",
       "        text-align: right;\n",
       "    }\n",
       "</style>\n",
       "<table border=\"1\" class=\"dataframe\">\n",
       "  <thead>\n",
       "    <tr style=\"text-align: right;\">\n",
       "      <th></th>\n",
       "      <th>Mean_Service_Type_1</th>\n",
       "      <th>Mean_Service_Type_2</th>\n",
       "      <th>Mean_Service_Type_3</th>\n",
       "    </tr>\n",
       "  </thead>\n",
       "  <tbody>\n",
       "    <tr>\n",
       "      <td>0</td>\n",
       "      <td>0.259379</td>\n",
       "      <td>0.069698</td>\n",
       "      <td>0.491206</td>\n",
       "    </tr>\n",
       "    <tr>\n",
       "      <td>1</td>\n",
       "      <td>0.244438</td>\n",
       "      <td>0.112374</td>\n",
       "      <td>0.409215</td>\n",
       "    </tr>\n",
       "    <tr>\n",
       "      <td>2</td>\n",
       "      <td>0.168973</td>\n",
       "      <td>0.135660</td>\n",
       "      <td>0.581776</td>\n",
       "    </tr>\n",
       "    <tr>\n",
       "      <td>3</td>\n",
       "      <td>0.283047</td>\n",
       "      <td>0.128416</td>\n",
       "      <td>0.459284</td>\n",
       "    </tr>\n",
       "    <tr>\n",
       "      <td>4</td>\n",
       "      <td>0.413502</td>\n",
       "      <td>0.077342</td>\n",
       "      <td>0.274617</td>\n",
       "    </tr>\n",
       "  </tbody>\n",
       "</table>\n",
       "</div>"
      ],
      "text/plain": [
       "   Mean_Service_Type_1  Mean_Service_Type_2  Mean_Service_Type_3\n",
       "0             0.259379             0.069698             0.491206\n",
       "1             0.244438             0.112374             0.409215\n",
       "2             0.168973             0.135660             0.581776\n",
       "3             0.283047             0.128416             0.459284\n",
       "4             0.413502             0.077342             0.274617"
      ]
     },
     "execution_count": 92,
     "metadata": {},
     "output_type": "execute_result"
    }
   ],
   "source": [
    "df_mean_final.head()"
   ]
  },
  {
   "cell_type": "markdown",
   "metadata": {},
   "source": [
    "Discretize **'Age'**"
   ]
  },
  {
   "cell_type": "code",
   "execution_count": 93,
   "metadata": {},
   "outputs": [],
   "source": [
    "df_final = df.copy()"
   ]
  },
  {
   "cell_type": "code",
   "execution_count": 94,
   "metadata": {},
   "outputs": [],
   "source": [
    "df_final['Age_Band'], bins_dist = pd.qcut(df_final['Age'],8,labels = [0,1,2,3,4,5,6,7], retbins= True)"
   ]
  },
  {
   "cell_type": "code",
   "execution_count": 95,
   "metadata": {},
   "outputs": [],
   "source": [
    "df_final.drop(columns= 'Age',inplace=True)"
   ]
  },
  {
   "cell_type": "code",
   "execution_count": 96,
   "metadata": {},
   "outputs": [
    {
     "name": "stdout",
     "output_type": "stream",
     "text": [
      "<class 'pandas.core.frame.DataFrame'>\n",
      "RangeIndex: 7094 entries, 0 to 7093\n",
      "Data columns (total 32 columns):\n",
      "ID                     7094 non-null int64\n",
      "Gender                 7094 non-null int64\n",
      "Marital_Status         7094 non-null int64\n",
      "Educ                   7094 non-null object\n",
      "Rent_Own               7094 non-null object\n",
      "Own_Other_Property     7094 non-null int64\n",
      "Own_Mobile_Phone       7094 non-null int64\n",
      "Salaried_Worker        7094 non-null int64\n",
      "Trader                 7094 non-null int64\n",
      "Service_Provider       7094 non-null int64\n",
      "Casual_Worker          7094 non-null int64\n",
      "Rely_On_Others         7094 non-null int64\n",
      "Expenses_Paid          7094 non-null int64\n",
      "Employer_Type          7094 non-null object\n",
      "Goods_Sold             7094 non-null object\n",
      "Services_Provided      7094 non-null object\n",
      "Sent_Money_12Mo        7094 non-null int64\n",
      "Last_Sent              7094 non-null object\n",
      "Received_Money_12Mo    7094 non-null int64\n",
      "Last_Received          7094 non-null int64\n",
      "Goods_Purchase_Freq    7094 non-null object\n",
      "Bills_Pay_Freq         7094 non-null object\n",
      "Kiswahili              7094 non-null object\n",
      "English                7094 non-null object\n",
      "Latitude               7094 non-null float64\n",
      "Longitude              7094 non-null float64\n",
      "mobile_money           7094 non-null int64\n",
      "savings                7094 non-null int64\n",
      "borrowing              7094 non-null int64\n",
      "insurance              7094 non-null int64\n",
      "Service_Type           7094 non-null int64\n",
      "Age_Band               7094 non-null category\n",
      "dtypes: category(1), float64(2), int64(19), object(10)\n",
      "memory usage: 1.7+ MB\n"
     ]
    }
   ],
   "source": [
    "df_final.info()"
   ]
  },
  {
   "cell_type": "markdown",
   "metadata": {},
   "source": [
    "Drop unnessary columns"
   ]
  },
  {
   "cell_type": "code",
   "execution_count": 97,
   "metadata": {},
   "outputs": [],
   "source": [
    "cols = ['ID','Latitude','Longitude','mobile_money','savings','borrowing','insurance']\n",
    "df_final.drop(columns = cols,inplace=True)"
   ]
  },
  {
   "cell_type": "code",
   "execution_count": 98,
   "metadata": {},
   "outputs": [
    {
     "name": "stdout",
     "output_type": "stream",
     "text": [
      "<class 'pandas.core.frame.DataFrame'>\n",
      "RangeIndex: 7094 entries, 0 to 7093\n",
      "Data columns (total 25 columns):\n",
      "Gender                 7094 non-null int64\n",
      "Marital_Status         7094 non-null int64\n",
      "Educ                   7094 non-null object\n",
      "Rent_Own               7094 non-null object\n",
      "Own_Other_Property     7094 non-null int64\n",
      "Own_Mobile_Phone       7094 non-null int64\n",
      "Salaried_Worker        7094 non-null int64\n",
      "Trader                 7094 non-null int64\n",
      "Service_Provider       7094 non-null int64\n",
      "Casual_Worker          7094 non-null int64\n",
      "Rely_On_Others         7094 non-null int64\n",
      "Expenses_Paid          7094 non-null int64\n",
      "Employer_Type          7094 non-null object\n",
      "Goods_Sold             7094 non-null object\n",
      "Services_Provided      7094 non-null object\n",
      "Sent_Money_12Mo        7094 non-null int64\n",
      "Last_Sent              7094 non-null object\n",
      "Received_Money_12Mo    7094 non-null int64\n",
      "Last_Received          7094 non-null int64\n",
      "Goods_Purchase_Freq    7094 non-null object\n",
      "Bills_Pay_Freq         7094 non-null object\n",
      "Kiswahili              7094 non-null object\n",
      "English                7094 non-null object\n",
      "Service_Type           7094 non-null int64\n",
      "Age_Band               7094 non-null category\n",
      "dtypes: category(1), int64(14), object(10)\n",
      "memory usage: 1.3+ MB\n"
     ]
    }
   ],
   "source": [
    "df_final.info()"
   ]
  },
  {
   "cell_type": "markdown",
   "metadata": {},
   "source": [
    "**One-hot encode** all other categorical features in df except 'Age_Band' and the target.  Drop the first column to avoid multi-collinearity."
   ]
  },
  {
   "cell_type": "code",
   "execution_count": 99,
   "metadata": {},
   "outputs": [],
   "source": [
    "df_final = pd.get_dummies(df_final, columns= df_final.columns.difference(['Age_Band','Service_Type']), drop_first = True)"
   ]
  },
  {
   "cell_type": "code",
   "execution_count": 100,
   "metadata": {},
   "outputs": [
    {
     "name": "stdout",
     "output_type": "stream",
     "text": [
      "<class 'pandas.core.frame.DataFrame'>\n",
      "RangeIndex: 7094 entries, 0 to 7093\n",
      "Data columns (total 65 columns):\n",
      "Service_Type                 7094 non-null int64\n",
      "Age_Band                     7094 non-null category\n",
      "Bills_Pay_Freq_1             7094 non-null uint8\n",
      "Bills_Pay_Freq_4             7094 non-null uint8\n",
      "Bills_Pay_Freq_5             7094 non-null uint8\n",
      "Bills_Pay_Freq_other         7094 non-null uint8\n",
      "Casual_Worker_1              7094 non-null uint8\n",
      "Educ_2                       7094 non-null uint8\n",
      "Educ_3                       7094 non-null uint8\n",
      "Educ_5                       7094 non-null uint8\n",
      "Educ_6                       7094 non-null uint8\n",
      "Educ_7                       7094 non-null uint8\n",
      "Educ_other                   7094 non-null uint8\n",
      "Employer_Type_1              7094 non-null uint8\n",
      "Employer_Type_2              7094 non-null uint8\n",
      "Employer_Type_other          7094 non-null uint8\n",
      "English_2                    7094 non-null uint8\n",
      "English_4                    7094 non-null uint8\n",
      "English_5                    7094 non-null uint8\n",
      "English_other                7094 non-null uint8\n",
      "Expenses_Paid_1              7094 non-null uint8\n",
      "Gender_2                     7094 non-null uint8\n",
      "Goods_Purchase_Freq_3        7094 non-null uint8\n",
      "Goods_Purchase_Freq_4        7094 non-null uint8\n",
      "Goods_Purchase_Freq_5        7094 non-null uint8\n",
      "Goods_Purchase_Freq_other    7094 non-null uint8\n",
      "Goods_Sold_1                 7094 non-null uint8\n",
      "Goods_Sold_3                 7094 non-null uint8\n",
      "Goods_Sold_5                 7094 non-null uint8\n",
      "Goods_Sold_6                 7094 non-null uint8\n",
      "Goods_Sold_7                 7094 non-null uint8\n",
      "Goods_Sold_other             7094 non-null uint8\n",
      "Kiswahili_2                  7094 non-null uint8\n",
      "Kiswahili_4                  7094 non-null uint8\n",
      "Kiswahili_other              7094 non-null uint8\n",
      "Last_Received_1              7094 non-null uint8\n",
      "Last_Received_2              7094 non-null uint8\n",
      "Last_Received_3              7094 non-null uint8\n",
      "Last_Received_4              7094 non-null uint8\n",
      "Last_Received_5              7094 non-null uint8\n",
      "Last_Received_6              7094 non-null uint8\n",
      "Last_Sent_2                  7094 non-null uint8\n",
      "Last_Sent_3                  7094 non-null uint8\n",
      "Last_Sent_4                  7094 non-null uint8\n",
      "Last_Sent_5                  7094 non-null uint8\n",
      "Last_Sent_6                  7094 non-null uint8\n",
      "Last_Sent_other              7094 non-null uint8\n",
      "Marital_Status_2             7094 non-null uint8\n",
      "Marital_Status_3             7094 non-null uint8\n",
      "Marital_Status_4             7094 non-null uint8\n",
      "Own_Mobile_Phone_2           7094 non-null uint8\n",
      "Own_Other_Property_2         7094 non-null uint8\n",
      "Received_Money_12Mo_2        7094 non-null uint8\n",
      "Rely_On_Others_1             7094 non-null uint8\n",
      "Rent_Own_2                   7094 non-null uint8\n",
      "Rent_Own_3                   7094 non-null uint8\n",
      "Rent_Own_4                   7094 non-null uint8\n",
      "Rent_Own_5                   7094 non-null uint8\n",
      "Rent_Own_other               7094 non-null uint8\n",
      "Salaried_Worker_1            7094 non-null uint8\n",
      "Sent_Money_12Mo_2            7094 non-null uint8\n",
      "Service_Provider_1           7094 non-null uint8\n",
      "Services_Provided_5          7094 non-null uint8\n",
      "Services_Provided_other      7094 non-null uint8\n",
      "Trader_1                     7094 non-null uint8\n",
      "dtypes: category(1), int64(1), uint8(63)\n",
      "memory usage: 499.3 KB\n"
     ]
    }
   ],
   "source": [
    "df_final.info()"
   ]
  },
  {
   "cell_type": "markdown",
   "metadata": {},
   "source": [
    "Add **location** and **proximity to access point** measures "
   ]
  },
  {
   "cell_type": "code",
   "execution_count": 101,
   "metadata": {},
   "outputs": [],
   "source": [
    "df_final = pd.concat([df_final,df_points_final],axis=1)"
   ]
  },
  {
   "cell_type": "code",
   "execution_count": 102,
   "metadata": {},
   "outputs": [],
   "source": [
    "df_final = pd.concat([df_final,df_mean_final],axis=1)"
   ]
  },
  {
   "cell_type": "code",
   "execution_count": 103,
   "metadata": {},
   "outputs": [
    {
     "name": "stdout",
     "output_type": "stream",
     "text": [
      "<class 'pandas.core.frame.DataFrame'>\n",
      "RangeIndex: 7094 entries, 0 to 7093\n",
      "Data columns (total 74 columns):\n",
      "Service_Type                 7094 non-null int64\n",
      "Age_Band                     7094 non-null category\n",
      "Bills_Pay_Freq_1             7094 non-null uint8\n",
      "Bills_Pay_Freq_4             7094 non-null uint8\n",
      "Bills_Pay_Freq_5             7094 non-null uint8\n",
      "Bills_Pay_Freq_other         7094 non-null uint8\n",
      "Casual_Worker_1              7094 non-null uint8\n",
      "Educ_2                       7094 non-null uint8\n",
      "Educ_3                       7094 non-null uint8\n",
      "Educ_5                       7094 non-null uint8\n",
      "Educ_6                       7094 non-null uint8\n",
      "Educ_7                       7094 non-null uint8\n",
      "Educ_other                   7094 non-null uint8\n",
      "Employer_Type_1              7094 non-null uint8\n",
      "Employer_Type_2              7094 non-null uint8\n",
      "Employer_Type_other          7094 non-null uint8\n",
      "English_2                    7094 non-null uint8\n",
      "English_4                    7094 non-null uint8\n",
      "English_5                    7094 non-null uint8\n",
      "English_other                7094 non-null uint8\n",
      "Expenses_Paid_1              7094 non-null uint8\n",
      "Gender_2                     7094 non-null uint8\n",
      "Goods_Purchase_Freq_3        7094 non-null uint8\n",
      "Goods_Purchase_Freq_4        7094 non-null uint8\n",
      "Goods_Purchase_Freq_5        7094 non-null uint8\n",
      "Goods_Purchase_Freq_other    7094 non-null uint8\n",
      "Goods_Sold_1                 7094 non-null uint8\n",
      "Goods_Sold_3                 7094 non-null uint8\n",
      "Goods_Sold_5                 7094 non-null uint8\n",
      "Goods_Sold_6                 7094 non-null uint8\n",
      "Goods_Sold_7                 7094 non-null uint8\n",
      "Goods_Sold_other             7094 non-null uint8\n",
      "Kiswahili_2                  7094 non-null uint8\n",
      "Kiswahili_4                  7094 non-null uint8\n",
      "Kiswahili_other              7094 non-null uint8\n",
      "Last_Received_1              7094 non-null uint8\n",
      "Last_Received_2              7094 non-null uint8\n",
      "Last_Received_3              7094 non-null uint8\n",
      "Last_Received_4              7094 non-null uint8\n",
      "Last_Received_5              7094 non-null uint8\n",
      "Last_Received_6              7094 non-null uint8\n",
      "Last_Sent_2                  7094 non-null uint8\n",
      "Last_Sent_3                  7094 non-null uint8\n",
      "Last_Sent_4                  7094 non-null uint8\n",
      "Last_Sent_5                  7094 non-null uint8\n",
      "Last_Sent_6                  7094 non-null uint8\n",
      "Last_Sent_other              7094 non-null uint8\n",
      "Marital_Status_2             7094 non-null uint8\n",
      "Marital_Status_3             7094 non-null uint8\n",
      "Marital_Status_4             7094 non-null uint8\n",
      "Own_Mobile_Phone_2           7094 non-null uint8\n",
      "Own_Other_Property_2         7094 non-null uint8\n",
      "Received_Money_12Mo_2        7094 non-null uint8\n",
      "Rely_On_Others_1             7094 non-null uint8\n",
      "Rent_Own_2                   7094 non-null uint8\n",
      "Rent_Own_3                   7094 non-null uint8\n",
      "Rent_Own_4                   7094 non-null uint8\n",
      "Rent_Own_5                   7094 non-null uint8\n",
      "Rent_Own_other               7094 non-null uint8\n",
      "Salaried_Worker_1            7094 non-null uint8\n",
      "Sent_Money_12Mo_2            7094 non-null uint8\n",
      "Service_Provider_1           7094 non-null uint8\n",
      "Services_Provided_5          7094 non-null uint8\n",
      "Services_Provided_other      7094 non-null uint8\n",
      "Trader_1                     7094 non-null uint8\n",
      "atm_band                     7094 non-null category\n",
      "mfi_band                     7094 non-null category\n",
      "mma_band                     7094 non-null category\n",
      "pos_band                     7094 non-null category\n",
      "sacco_band                   7094 non-null category\n",
      "tppp_band                    7094 non-null category\n",
      "Mean_Service_Type_1          7094 non-null float64\n",
      "Mean_Service_Type_2          7094 non-null float64\n",
      "Mean_Service_Type_3          7094 non-null float64\n",
      "dtypes: category(7), float64(3), int64(1), uint8(63)\n",
      "memory usage: 709.4 KB\n"
     ]
    }
   ],
   "source": [
    "df_final.info()"
   ]
  },
  {
   "cell_type": "markdown",
   "metadata": {},
   "source": [
    "Scale all columns in df_final except the target"
   ]
  },
  {
   "cell_type": "code",
   "execution_count": 104,
   "metadata": {},
   "outputs": [],
   "source": [
    "from sklearn import preprocessing\n",
    "\n",
    "cols_to_scale = df_final.columns.difference(['Service_Type'])\n",
    "scaler = preprocessing.MinMaxScaler()\n",
    "df_scaled = scaler.fit_transform(df_final[cols_to_scale])\n",
    "df_scaled = pd.DataFrame(df_scaled, columns= cols_to_scale)"
   ]
  },
  {
   "cell_type": "code",
   "execution_count": 105,
   "metadata": {},
   "outputs": [
    {
     "name": "stdout",
     "output_type": "stream",
     "text": [
      "<class 'pandas.core.frame.DataFrame'>\n",
      "RangeIndex: 7094 entries, 0 to 7093\n",
      "Data columns (total 73 columns):\n",
      "Age_Band                     7094 non-null float64\n",
      "Bills_Pay_Freq_1             7094 non-null float64\n",
      "Bills_Pay_Freq_4             7094 non-null float64\n",
      "Bills_Pay_Freq_5             7094 non-null float64\n",
      "Bills_Pay_Freq_other         7094 non-null float64\n",
      "Casual_Worker_1              7094 non-null float64\n",
      "Educ_2                       7094 non-null float64\n",
      "Educ_3                       7094 non-null float64\n",
      "Educ_5                       7094 non-null float64\n",
      "Educ_6                       7094 non-null float64\n",
      "Educ_7                       7094 non-null float64\n",
      "Educ_other                   7094 non-null float64\n",
      "Employer_Type_1              7094 non-null float64\n",
      "Employer_Type_2              7094 non-null float64\n",
      "Employer_Type_other          7094 non-null float64\n",
      "English_2                    7094 non-null float64\n",
      "English_4                    7094 non-null float64\n",
      "English_5                    7094 non-null float64\n",
      "English_other                7094 non-null float64\n",
      "Expenses_Paid_1              7094 non-null float64\n",
      "Gender_2                     7094 non-null float64\n",
      "Goods_Purchase_Freq_3        7094 non-null float64\n",
      "Goods_Purchase_Freq_4        7094 non-null float64\n",
      "Goods_Purchase_Freq_5        7094 non-null float64\n",
      "Goods_Purchase_Freq_other    7094 non-null float64\n",
      "Goods_Sold_1                 7094 non-null float64\n",
      "Goods_Sold_3                 7094 non-null float64\n",
      "Goods_Sold_5                 7094 non-null float64\n",
      "Goods_Sold_6                 7094 non-null float64\n",
      "Goods_Sold_7                 7094 non-null float64\n",
      "Goods_Sold_other             7094 non-null float64\n",
      "Kiswahili_2                  7094 non-null float64\n",
      "Kiswahili_4                  7094 non-null float64\n",
      "Kiswahili_other              7094 non-null float64\n",
      "Last_Received_1              7094 non-null float64\n",
      "Last_Received_2              7094 non-null float64\n",
      "Last_Received_3              7094 non-null float64\n",
      "Last_Received_4              7094 non-null float64\n",
      "Last_Received_5              7094 non-null float64\n",
      "Last_Received_6              7094 non-null float64\n",
      "Last_Sent_2                  7094 non-null float64\n",
      "Last_Sent_3                  7094 non-null float64\n",
      "Last_Sent_4                  7094 non-null float64\n",
      "Last_Sent_5                  7094 non-null float64\n",
      "Last_Sent_6                  7094 non-null float64\n",
      "Last_Sent_other              7094 non-null float64\n",
      "Marital_Status_2             7094 non-null float64\n",
      "Marital_Status_3             7094 non-null float64\n",
      "Marital_Status_4             7094 non-null float64\n",
      "Mean_Service_Type_1          7094 non-null float64\n",
      "Mean_Service_Type_2          7094 non-null float64\n",
      "Mean_Service_Type_3          7094 non-null float64\n",
      "Own_Mobile_Phone_2           7094 non-null float64\n",
      "Own_Other_Property_2         7094 non-null float64\n",
      "Received_Money_12Mo_2        7094 non-null float64\n",
      "Rely_On_Others_1             7094 non-null float64\n",
      "Rent_Own_2                   7094 non-null float64\n",
      "Rent_Own_3                   7094 non-null float64\n",
      "Rent_Own_4                   7094 non-null float64\n",
      "Rent_Own_5                   7094 non-null float64\n",
      "Rent_Own_other               7094 non-null float64\n",
      "Salaried_Worker_1            7094 non-null float64\n",
      "Sent_Money_12Mo_2            7094 non-null float64\n",
      "Service_Provider_1           7094 non-null float64\n",
      "Services_Provided_5          7094 non-null float64\n",
      "Services_Provided_other      7094 non-null float64\n",
      "Trader_1                     7094 non-null float64\n",
      "atm_band                     7094 non-null float64\n",
      "mfi_band                     7094 non-null float64\n",
      "mma_band                     7094 non-null float64\n",
      "pos_band                     7094 non-null float64\n",
      "sacco_band                   7094 non-null float64\n",
      "tppp_band                    7094 non-null float64\n",
      "dtypes: float64(73)\n",
      "memory usage: 4.0 MB\n"
     ]
    }
   ],
   "source": [
    "df_scaled.info()"
   ]
  },
  {
   "cell_type": "markdown",
   "metadata": {},
   "source": [
    "### 3.5 Results\n",
    "\n",
    "What are your results?\n",
    "\n",
    "[Back to top](#Table-of-contents)"
   ]
  },
  {
   "cell_type": "markdown",
   "metadata": {},
   "source": [
    "**Model Selection**"
   ]
  },
  {
   "cell_type": "markdown",
   "metadata": {},
   "source": [
    "Our problem is an example of **supervised learning** which relates to systems where you have input variables $x$ and an output variable $Y$, and you use an algorithm to induce the mapping function from the input to the output, $f(x)$.\n",
    " \n",
    "As stated above, the problem involves determining the output of variables within a given category (e.g. 'Other_only', 'Mm_only') based on socio-economic and demographic features, or **classification**.\n",
    " \n",
    "The target variable has four categories based on the types of financial services used by each respondent.  The categories are mutually exclusive as each respondent is assigned to one and only one category. This is an instance of **multi-class classification**.\n",
    " \n",
    "There are a large number of machine learning algorithms that can be applied to our problem type, including neural networks, genetic algorithms and decision trees.  \n",
    " \n",
    "Our training data contains 7,100 samples with a combination of continuous and categorical features.  Based on this information we consider the following models.\n",
    " \n",
    "+ **Support Vector Machines** are supervised learning algorithms that search for hyperplanes in the feature space in order to to classify observations.  SVMs are effective in high dimensional spaces and when the number of features exceed the number of samples. They are not suitable for large datasets.\n",
    "\n",
    "+ **Random Forest Classifiers** consist of a large number of decision trees that operate as an ensemble.  They can handle high dimensional data, is robust to outliers and high dimensional features and can handle unbalanced data.\n",
    "\n",
    "+ **Logistic Regression** models predict a logit transformation of the response variable.  They are highly interpretable, don't require feature scaling and outputs well calibrated probabilities.  A disadvantage is that they are not suited to non-linear problems.\n",
    "\n",
    "All of these classifiers are supported by Scikit-learn's libraries as **'inherently multi-class'**.  We will explore their relative performance in predicting financial service use."
   ]
  },
  {
   "cell_type": "markdown",
   "metadata": {},
   "source": [
    "**Training the models, validating and testing results**"
   ]
  },
  {
   "cell_type": "markdown",
   "metadata": {},
   "source": [
    "In order to ensure that any results obtained do not depend on any given random choice affecting the pair of our training and validation set run a **K-fold cross-validation** for each one of the models above in order to choose our learning algorithm. \n",
    "\n",
    "We set number of folds **n_splits = 10** due to computational constraints, i.e. the amount of time it will take to train and validate the 3 algorithms.\n",
    "\n",
    "We will use the results to evaluate the 3 models and discard models that underperform."
   ]
  },
  {
   "cell_type": "markdown",
   "metadata": {},
   "source": [
    "Prepare the data."
   ]
  },
  {
   "cell_type": "code",
   "execution_count": 106,
   "metadata": {},
   "outputs": [],
   "source": [
    "df_train = df_scaled.copy()"
   ]
  },
  {
   "cell_type": "code",
   "execution_count": 107,
   "metadata": {},
   "outputs": [],
   "source": [
    "df_train['Service_Type'] = df_final['Service_Type']"
   ]
  },
  {
   "cell_type": "code",
   "execution_count": 108,
   "metadata": {},
   "outputs": [],
   "source": [
    "features = df_train.drop('Service_Type', axis = 1)\n",
    "labels = df_train['Service_Type']"
   ]
  },
  {
   "cell_type": "code",
   "execution_count": 109,
   "metadata": {},
   "outputs": [],
   "source": [
    "from sklearn import svm\n",
    "from sklearn.svm import LinearSVC\n",
    "from sklearn.linear_model import LogisticRegression\n",
    "from sklearn.ensemble import RandomForestClassifier\n",
    "\n",
    "svm_clf = svm.LinearSVC()\n",
    "lr_clf = LogisticRegression()\n",
    "rf_clf = RandomForestClassifier(random_state = 5)\n",
    "\n",
    "from sklearn import metrics\n",
    "from sklearn.metrics import accuracy_score\n",
    "from sklearn.metrics import roc_auc_score, confusion_matrix, classification_report\n",
    "\n",
    "from sklearn.model_selection import KFold\n",
    "from sklearn.model_selection import cross_val_score #score evaluation\n",
    "\n",
    "kfold = KFold(n_splits=10, random_state=5, shuffle=True)\n",
    "moments = ['Mean', 'Stdv']\n",
    "models_df = pd.DataFrame(index = moments)\n",
    "df_accuracy = pd.DataFrame()\n",
    "models = {'SVM': svm_clf, 'LR':lr_clf, 'RF': rf_clf} \n",
    "\n",
    "for k,v in models.items():\n",
    "    stats = []\n",
    "    cv_result = cross_val_score(v, features, labels, cv = kfold, scoring = \"accuracy\")\n",
    "    cv_result = cv_result*100\n",
    "    df_accuracy[k] = cv_result\n",
    "    stats.append(cv_result.mean())\n",
    "    stats.append(cv_result.std())\n",
    "    models_df[k] = stats"
   ]
  },
  {
   "cell_type": "code",
   "execution_count": 110,
   "metadata": {},
   "outputs": [
    {
     "data": {
      "text/html": [
       "<div>\n",
       "<style scoped>\n",
       "    .dataframe tbody tr th:only-of-type {\n",
       "        vertical-align: middle;\n",
       "    }\n",
       "\n",
       "    .dataframe tbody tr th {\n",
       "        vertical-align: top;\n",
       "    }\n",
       "\n",
       "    .dataframe thead th {\n",
       "        text-align: right;\n",
       "    }\n",
       "</style>\n",
       "<table border=\"1\" class=\"dataframe\">\n",
       "  <thead>\n",
       "    <tr style=\"text-align: right;\">\n",
       "      <th></th>\n",
       "      <th>SVM</th>\n",
       "      <th>LR</th>\n",
       "      <th>RF</th>\n",
       "    </tr>\n",
       "  </thead>\n",
       "  <tbody>\n",
       "    <tr>\n",
       "      <td>0</td>\n",
       "      <td>68.450704</td>\n",
       "      <td>69.295775</td>\n",
       "      <td>67.183099</td>\n",
       "    </tr>\n",
       "    <tr>\n",
       "      <td>1</td>\n",
       "      <td>71.549296</td>\n",
       "      <td>72.253521</td>\n",
       "      <td>68.450704</td>\n",
       "    </tr>\n",
       "    <tr>\n",
       "      <td>2</td>\n",
       "      <td>69.577465</td>\n",
       "      <td>70.140845</td>\n",
       "      <td>67.183099</td>\n",
       "    </tr>\n",
       "    <tr>\n",
       "      <td>3</td>\n",
       "      <td>67.887324</td>\n",
       "      <td>67.887324</td>\n",
       "      <td>66.478873</td>\n",
       "    </tr>\n",
       "    <tr>\n",
       "      <td>4</td>\n",
       "      <td>68.970381</td>\n",
       "      <td>68.265162</td>\n",
       "      <td>66.713681</td>\n",
       "    </tr>\n",
       "    <tr>\n",
       "      <td>5</td>\n",
       "      <td>67.700987</td>\n",
       "      <td>66.290550</td>\n",
       "      <td>65.726375</td>\n",
       "    </tr>\n",
       "    <tr>\n",
       "      <td>6</td>\n",
       "      <td>67.559944</td>\n",
       "      <td>68.406206</td>\n",
       "      <td>66.713681</td>\n",
       "    </tr>\n",
       "    <tr>\n",
       "      <td>7</td>\n",
       "      <td>68.688293</td>\n",
       "      <td>70.239774</td>\n",
       "      <td>66.290550</td>\n",
       "    </tr>\n",
       "    <tr>\n",
       "      <td>8</td>\n",
       "      <td>66.431594</td>\n",
       "      <td>66.008463</td>\n",
       "      <td>65.021157</td>\n",
       "    </tr>\n",
       "    <tr>\n",
       "      <td>9</td>\n",
       "      <td>66.149506</td>\n",
       "      <td>66.008463</td>\n",
       "      <td>64.315938</td>\n",
       "    </tr>\n",
       "  </tbody>\n",
       "</table>\n",
       "</div>"
      ],
      "text/plain": [
       "         SVM         LR         RF\n",
       "0  68.450704  69.295775  67.183099\n",
       "1  71.549296  72.253521  68.450704\n",
       "2  69.577465  70.140845  67.183099\n",
       "3  67.887324  67.887324  66.478873\n",
       "4  68.970381  68.265162  66.713681\n",
       "5  67.700987  66.290550  65.726375\n",
       "6  67.559944  68.406206  66.713681\n",
       "7  68.688293  70.239774  66.290550\n",
       "8  66.431594  66.008463  65.021157\n",
       "9  66.149506  66.008463  64.315938"
      ]
     },
     "execution_count": 110,
     "metadata": {},
     "output_type": "execute_result"
    }
   ],
   "source": [
    "df_accuracy"
   ]
  },
  {
   "cell_type": "markdown",
   "metadata": {},
   "source": [
    "Create a box plot of the performance of the 6 classifiers."
   ]
  },
  {
   "cell_type": "code",
   "execution_count": 111,
   "metadata": {},
   "outputs": [
    {
     "data": {
      "text/plain": [
       "Text(0, 0.5, 'Accuracy (%)')"
      ]
     },
     "execution_count": 111,
     "metadata": {},
     "output_type": "execute_result"
    },
    {
     "data": {
      "image/png": "[encoded data removed]",
      "text/plain": [
       "<Figure size 432x288 with 1 Axes>"
      ]
     },
     "metadata": {
      "needs_background": "light"
     },
     "output_type": "display_data"
    }
   ],
   "source": [
    "sns.boxplot(x=\"variable\", y=\"value\", data=pd.melt(df_accuracy))\n",
    "plt.xlabel('Model')\n",
    "plt.ylabel('Accuracy (%)')"
   ]
  },
  {
   "cell_type": "code",
   "execution_count": 112,
   "metadata": {},
   "outputs": [
    {
     "data": {
      "text/html": [
       "<div>\n",
       "<style scoped>\n",
       "    .dataframe tbody tr th:only-of-type {\n",
       "        vertical-align: middle;\n",
       "    }\n",
       "\n",
       "    .dataframe tbody tr th {\n",
       "        vertical-align: top;\n",
       "    }\n",
       "\n",
       "    .dataframe thead th {\n",
       "        text-align: right;\n",
       "    }\n",
       "</style>\n",
       "<table border=\"1\" class=\"dataframe\">\n",
       "  <thead>\n",
       "    <tr style=\"text-align: right;\">\n",
       "      <th></th>\n",
       "      <th>SVM</th>\n",
       "      <th>LR</th>\n",
       "      <th>RF</th>\n",
       "    </tr>\n",
       "  </thead>\n",
       "  <tbody>\n",
       "    <tr>\n",
       "      <td>Mean</td>\n",
       "      <td>68.296549</td>\n",
       "      <td>68.479608</td>\n",
       "      <td>66.407716</td>\n",
       "    </tr>\n",
       "    <tr>\n",
       "      <td>Stdv</td>\n",
       "      <td>1.483408</td>\n",
       "      <td>1.953809</td>\n",
       "      <td>1.111061</td>\n",
       "    </tr>\n",
       "  </tbody>\n",
       "</table>\n",
       "</div>"
      ],
      "text/plain": [
       "            SVM         LR         RF\n",
       "Mean  68.296549  68.479608  66.407716\n",
       "Stdv   1.483408   1.953809   1.111061"
      ]
     },
     "execution_count": 112,
     "metadata": {},
     "output_type": "execute_result"
    }
   ],
   "source": [
    "models_df"
   ]
  },
  {
   "cell_type": "markdown",
   "metadata": {},
   "source": [
    "Logistic regression exhibits the highest average score accross the 10 folds but SVM has **lowest variation** in performance.\n",
    "\n",
    "Let us take a closer look at the SVM result.  The average accuracy score was 68.28%.  The standard deviation of the sample of 10 trials was 0.0105.  The number of trials was 10.  The upper (100 - 95)/2 = 2.5% critical value for the t-distribution with 9 degrees of freedom is 2.262.  So our **95% percent confidence interval** on this result is **68.29% +/- 3.3%**."
   ]
  },
  {
   "cell_type": "markdown",
   "metadata": {},
   "source": [
    "For **imbalanced** datasets such as ours, overall accuracy score is not always an appropriate measure.  If an overwhelming number of examples are from one class even poor models can achieve high accuracy scores. "
   ]
  },
  {
   "cell_type": "markdown",
   "metadata": {},
   "source": [
    "Plot **confusion matrices** to do a further analysis of the results for the reduced set of 3 models."
   ]
  },
  {
   "cell_type": "code",
   "execution_count": 113,
   "metadata": {},
   "outputs": [
    {
     "data": {
      "image/png": "[encoded data removed]",
      "text/plain": [
       "<Figure size 360x288 with 2 Axes>"
      ]
     },
     "metadata": {
      "needs_background": "light"
     },
     "output_type": "display_data"
    },
    {
     "data": {
      "image/png": "[encoded data removed]",
      "text/plain": [
       "<Figure size 360x288 with 2 Axes>"
      ]
     },
     "metadata": {
      "needs_background": "light"
     },
     "output_type": "display_data"
    },
    {
     "data": {
      "image/png": "[encoded data removed]",
      "text/plain": [
       "<Figure size 360x288 with 2 Axes>"
      ]
     },
     "metadata": {
      "needs_background": "light"
     },
     "output_type": "display_data"
    }
   ],
   "source": [
    "from sklearn.model_selection import cross_val_predict\n",
    "models = {'SVM': svm_clf, 'LR':lr_clf, 'RF': rf_clf} \n",
    "\n",
    "report = []\n",
    "for k,v in models.items():\n",
    "    y_pred = cross_val_predict(v,features,labels,cv=kfold)\n",
    "    cf_matrix = confusion_matrix(labels, y_pred)\n",
    "    bottom, top = ax.get_ylim()\n",
    "    ax.set_ylim(bottom + 0.25, top - 0.25)\n",
    "    ax.set(xlabel='Predicted', ylabel='True')\n",
    "    plt.figure(k, figsize=(5,4))\n",
    "    plt.title(k)\n",
    "    ax = sns.heatmap(cf_matrix, annot=True, linewidths=.5, cmap = 'Blues', fmt=\"\")\n",
    "    report.append(metrics.classification_report(labels, y_pred, digits=3))"
   ]
  },
  {
   "cell_type": "markdown",
   "metadata": {},
   "source": [
    "Next, let's examine the **classification reports**."
   ]
  },
  {
   "cell_type": "code",
   "execution_count": 114,
   "metadata": {},
   "outputs": [
    {
     "name": "stdout",
     "output_type": "stream",
     "text": [
      "SVM\n",
      "              precision    recall  f1-score   support\n",
      "\n",
      "           0      0.560     0.500     0.528      1386\n",
      "           1      0.595     0.709     0.647      1778\n",
      "           2      0.516     0.040     0.074       804\n",
      "           3      0.778     0.915     0.841      3126\n",
      "\n",
      "    accuracy                          0.683      7094\n",
      "   macro avg      0.612     0.541     0.522      7094\n",
      "weighted avg      0.660     0.683     0.644      7094\n",
      "\n",
      "LR\n",
      "              precision    recall  f1-score   support\n",
      "\n",
      "           0      0.586     0.501     0.540      1386\n",
      "           1      0.595     0.709     0.647      1778\n",
      "           2      0.459     0.119     0.190       804\n",
      "           3      0.784     0.898     0.837      3126\n",
      "\n",
      "    accuracy                          0.685      7094\n",
      "   macro avg      0.606     0.557     0.553      7094\n",
      "weighted avg      0.661     0.685     0.658      7094\n",
      "\n",
      "RF\n",
      "              precision    recall  f1-score   support\n",
      "\n",
      "           0      0.532     0.465     0.496      1386\n",
      "           1      0.583     0.642     0.611      1778\n",
      "           2      0.389     0.055     0.096       804\n",
      "           3      0.756     0.922     0.831      3126\n",
      "\n",
      "    accuracy                          0.664      7094\n",
      "   macro avg      0.565     0.521     0.508      7094\n",
      "weighted avg      0.627     0.664     0.627      7094\n",
      "\n"
     ]
    }
   ],
   "source": [
    "j = 0\n",
    "models = ['SVM', 'LR', 'RF']\n",
    "for i in report:\n",
    "    print(models[j])\n",
    "    j += 1\n",
    "    print(i)"
   ]
  },
  {
   "cell_type": "markdown",
   "metadata": {},
   "source": [
    "Recall for Mm_only is very low.  This is because each of the classifiers makes very few Mm_only predictions.\n",
    "\n",
    "In all cases, the classifiers tend to incorrectly classify 'Mm_only' respondents as 'Mm_plus'.\n",
    "\n",
    "Recall for 'No_financial_services' tends to be lower - between 46% and 50% - primarily due to the tendency all three models to misclassify the majority of 'No_financial_services' respondents as 'Other_only'.\n",
    "\n",
    "Recall for 'Other_only' is relatively higher for SVM and Logistic regression (70%) due to a weaker tendency to misclassify 'No_financial_services' as 'Other_only' than vice versa.  The models are good at distinguishing between the 'Other_only' and the 'MM_only' and 'MM_plus\" categories.\n",
    "\n",
    "Precision and recall for 'Mm_plus' is far higher for all three classifiers.\n",
    "\n",
    "These results show that all three models are **biased** in favor of the **majority class labels**.\n",
    "\n",
    "The severity of the bias will ultimately depend on the business use case and constraints such as risk appetite.  For example if the aim is to offer attractive loan packages and statistics show that one group, e.g. 'Other_only', are good payers then precision aims not to mistakenly offer packages to individuals in other groups, while recall aims not to miss out on too many good payers."
   ]
  },
  {
   "cell_type": "markdown",
   "metadata": {},
   "source": [
    "**SMOTE**"
   ]
  },
  {
   "cell_type": "markdown",
   "metadata": {},
   "source": [
    "One way to improve performance would be by re-sampling the dataset to make it more balanced by **up-sampling 'Mm_only'** and **'No_financial_services'**. "
   ]
  },
  {
   "cell_type": "code",
   "execution_count": 115,
   "metadata": {},
   "outputs": [],
   "source": [
    "from sklearn.model_selection import train_test_split\n",
    "\n",
    "train, test = train_test_split(df_train, test_size = 0.2, stratify=df_train['Service_Type'], random_state = 5)\n",
    "X_train = train.drop('Service_Type', axis = 1)\n",
    "y_train = train['Service_Type']\n",
    "X_test = test.drop('Service_Type', axis = 1)\n",
    "y_test = test['Service_Type']"
   ]
  },
  {
   "cell_type": "code",
   "execution_count": 116,
   "metadata": {},
   "outputs": [],
   "source": [
    "from collections import Counter\n",
    "from imblearn.over_sampling import SMOTE\n",
    "smote = SMOTE(random_state = 5)\n",
    "X_train_smote, y_train_smote = smote.fit_sample(X_train,y_train)"
   ]
  },
  {
   "cell_type": "code",
   "execution_count": 117,
   "metadata": {},
   "outputs": [
    {
     "data": {
      "text/plain": [
       "Counter({3: 2501, 1: 1422, 2: 643, 0: 1109})"
      ]
     },
     "execution_count": 117,
     "metadata": {},
     "output_type": "execute_result"
    }
   ],
   "source": [
    "Counter(y_train)"
   ]
  },
  {
   "cell_type": "code",
   "execution_count": 118,
   "metadata": {},
   "outputs": [
    {
     "data": {
      "text/plain": [
       "Counter({3: 2501, 1: 2501, 2: 2501, 0: 2501})"
      ]
     },
     "execution_count": 118,
     "metadata": {},
     "output_type": "execute_result"
    }
   ],
   "source": [
    "Counter(y_train_smote)"
   ]
  },
  {
   "cell_type": "code",
   "execution_count": 119,
   "metadata": {},
   "outputs": [
    {
     "name": "stdout",
     "output_type": "stream",
     "text": [
      "Accuracy for linear SVM is 0.6412966878083157\n"
     ]
    }
   ],
   "source": [
    "svm_clf = svm.LinearSVC()\n",
    "svm_clf.fit(X_train_smote,y_train_smote)\n",
    "y_predict = svm_clf.predict(X_test)\n",
    "print('Accuracy for linear SVM is',metrics.accuracy_score(y_predict,y_test))"
   ]
  },
  {
   "cell_type": "code",
   "execution_count": 120,
   "metadata": {},
   "outputs": [
    {
     "data": {
      "text/plain": [
       "<Figure size 360x288 with 0 Axes>"
      ]
     },
     "execution_count": 120,
     "metadata": {},
     "output_type": "execute_result"
    },
    {
     "data": {
      "image/png": "[encoded data removed]",
      "text/plain": [
       "<Figure size 432x288 with 2 Axes>"
      ]
     },
     "metadata": {
      "needs_background": "light"
     },
     "output_type": "display_data"
    },
    {
     "data": {
      "text/plain": [
       "<Figure size 360x288 with 0 Axes>"
      ]
     },
     "metadata": {},
     "output_type": "display_data"
    }
   ],
   "source": [
    "cf_matrix = confusion_matrix(y_test, y_predict)\n",
    "ax = sns.heatmap(cf_matrix, annot=True, linewidths=.5, cmap = 'Blues', fmt=\"\")\n",
    "ax.set(xlabel='Predicted', ylabel='True')\n",
    "plt.figure(figsize=(5,4))"
   ]
  },
  {
   "cell_type": "code",
   "execution_count": 121,
   "metadata": {},
   "outputs": [
    {
     "name": "stdout",
     "output_type": "stream",
     "text": [
      "              precision    recall  f1-score   support\n",
      "\n",
      "           0      0.554     0.606     0.579       277\n",
      "           1      0.609     0.598     0.603       356\n",
      "           2      0.352     0.584     0.439       161\n",
      "           3      0.872     0.696     0.774       625\n",
      "\n",
      "    accuracy                          0.641      1419\n",
      "   macro avg      0.597     0.621     0.599      1419\n",
      "weighted avg      0.685     0.641     0.655      1419\n",
      "\n"
     ]
    }
   ],
   "source": [
    "print(metrics.classification_report(y_test, y_predict, digits=3))"
   ]
  },
  {
   "cell_type": "markdown",
   "metadata": {},
   "source": [
    "Recall for 'Mm_only' increases dramatically.  As expected, recall for 'Mm_plus' decreases.  Precision for 'Mm_plus' increases as majority class bias is eliminated."
   ]
  },
  {
   "cell_type": "markdown",
   "metadata": {},
   "source": [
    "## 4. Implementation (optional)\n",
    "\n",
    "\n",
    "[Back to top](#Table-of-contents)"
   ]
  },
  {
   "cell_type": "markdown",
   "metadata": {},
   "source": [
    "## Conclusion\n",
    "\n",
    "The purpose of this project was to develop a framework to predict the level of financial inclusion among a sample of survey respondents in Tanzania based on socio-economic, demographic and spatial data.  In the experiments conducted Logistic regression, Support Vector Machines and Random Forest classifiers were built to classify individuals into one of four mutually exclusive categories representing varying levels of financial inclusion. All of the models outperformed the **zero rule**. SVM and Logistic regression have an average accuracy score of 68.3% and 68.5% respectively.  SVM has variability in score of about 1.5%.  \n",
    "\n",
    "All of the models exhibited significant bias toward respondents in the majority categories, with low recall for respondents in the minority categories, particularly respondents who only used mobile money products. This was due to the fact that the dataset of survey respondents was imbalanced.  \n",
    "\n",
    "Overall, the results of the project demonstrate the potential for the use of machine learning to refine customer targeting and cross-selling. Future work includes enhanced feature engineering including exploring principal compenent analysis ('PCA') for dimensionality reduction, feature engineering and strategies to mitigate the effects of imbalances during the model induction process.\n",
    "\n",
    "[Back to top](#Table-of-contents)"
   ]
  },
  {
   "cell_type": "markdown",
   "metadata": {},
   "source": [
    "## References\n",
    "\n",
    "1. The Mobile Economy Sub-Saharan Africa 2019. *GSMA*. \n",
    "\n",
    "2. Sy, Amadou N. R. 2019. Fintech in Sub-Saharan Africa: A Potential Game Changer. *IMFBlog Insights And Analysis On Economics And Finance*.\n",
    "\n",
    "3. Digital Access: The Future Of Financial Inclusion In Africa. *International Finance Corporation*\n",
    "\n",
    "4. Ngugi, Brian. 2020. Safaricom To Launch Unit Trust, New Savings Service. *Business Daily Africa*.\n",
    "\n",
    "5. Finscope Tanzania 2017. \n",
    "\n",
    "2. Nabi, Javaid. 2018. Machine Learning — Multiclass Classification with Imbalanced Dataset. *Medium* \n",
    "\n",
    "[Back to top](#Table-of-contents)"
   ]
  }
 ],
 "metadata": {
  "kernelspec": {
   "display_name": "Python 3",
   "language": "python",
   "name": "python3"
  },
  "language_info": {
   "codemirror_mode": {
    "name": "ipython",
    "version": 3
   },
   "file_extension": ".py",
   "mimetype": "text/x-python",
   "name": "python",
   "nbconvert_exporter": "python",
   "pygments_lexer": "ipython3",
   "version": "3.7.4"
  }
 },
 "nbformat": 4,
 "nbformat_minor": 4
}
